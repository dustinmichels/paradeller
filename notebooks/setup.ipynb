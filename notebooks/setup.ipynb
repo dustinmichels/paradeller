{
 "cells": [
  {
   "cell_type": "code",
   "execution_count": 4,
   "metadata": {},
   "outputs": [],
   "source": [
    "from IPython.display import display, Markdown\n",
    "\n",
    "def _display_code(code):\n",
    "    display(Markdown(f\"```python\\n{code}\\n```\"))"
   ]
  },
  {
   "cell_type": "code",
   "execution_count": 5,
   "metadata": {},
   "outputs": [
    {
     "name": "stdout",
     "output_type": "stream",
     "text": [
      "The autoreload extension is already loaded. To reload it, use:\n",
      "  %reload_ext autoreload\n"
     ]
    }
   ],
   "source": [
    "%load_ext autoreload\n",
    "%autoreload 2\n",
    "\n",
    "import sys; sys.path.insert(0, '..')\n",
    "\n",
    "import random\n",
    "from itertools import combinations\n",
    "\n",
    "import pandas as pd\n",
    "import numpy as np\n",
    "from tqdm.auto import tqdm, trange\n",
    "import altair as alt\n",
    "\n",
    "from paradeller.helper import load_archive, comma_print, lengthify\n",
    "from paradeller.samples import load_samples\n",
    "from paradeller.dataprep import (\n",
    "    tokenize,\n",
    "    find_duplicates,\n",
    "    filter_out_duplicates,\n",
    "    filter_out_short,\n",
    "    filter_out_oddballs,\n",
    "    filter_out_oddballs_recursive,\n",
    "    restructure_data,\n",
    "    create_adj_list_by_word,\n",
    "    create_adj_list_by_id\n",
    ")\n",
    "from paradeller.analysis import (\n",
    "    find_matches,\n",
    "    find_matches_for_start_pairs\n",
    ")"
   ]
  },
  {
   "cell_type": "code",
   "execution_count": 6,
   "metadata": {},
   "outputs": [
    {
     "data": {
      "text/markdown": [
       "```python\n",
       "\n",
       "%load_ext autoreload\n",
       "%autoreload 2\n",
       "\n",
       "import sys; sys.path.insert(0, '..')\n",
       "\n",
       "import random\n",
       "from itertools import combinations\n",
       "\n",
       "import pandas as pd\n",
       "import numpy as np\n",
       "from tqdm.auto import tqdm, trange\n",
       "import altair as alt\n",
       "\n",
       "from paradeller.helper import load_archive, comma_print, lengthify\n",
       "from paradeller.samples import load_samples\n",
       "from paradeller.dataprep import (\n",
       "    tokenize,\n",
       "    find_duplicates,\n",
       "    filter_out_duplicates,\n",
       "    filter_out_short,\n",
       "    filter_out_oddballs,\n",
       "    filter_out_oddballs_recursive,\n",
       "    restructure_data,\n",
       "    create_adj_list_by_word,\n",
       "    create_adj_list_by_id\n",
       ")\n",
       "from paradeller.analysis import (\n",
       "    find_matches,\n",
       "    find_matches_for_start_pairs\n",
       ")\n",
       "\n",
       "```"
      ],
      "text/plain": [
       "<IPython.core.display.Markdown object>"
      ]
     },
     "metadata": {},
     "output_type": "display_data"
    }
   ],
   "source": [
    "_display_code(\"\"\"\n",
    "%load_ext autoreload\n",
    "%autoreload 2\n",
    "\n",
    "import sys; sys.path.insert(0, '..')\n",
    "\n",
    "import random\n",
    "from itertools import combinations\n",
    "\n",
    "import pandas as pd\n",
    "import numpy as np\n",
    "from tqdm.auto import tqdm, trange\n",
    "import altair as alt\n",
    "\n",
    "from paradeller.helper import load_archive, comma_print, lengthify\n",
    "from paradeller.samples import load_samples\n",
    "from paradeller.dataprep import (\n",
    "    tokenize,\n",
    "    find_duplicates,\n",
    "    filter_out_duplicates,\n",
    "    filter_out_short,\n",
    "    filter_out_oddballs,\n",
    "    filter_out_oddballs_recursive,\n",
    "    restructure_data,\n",
    "    create_adj_list_by_word,\n",
    "    create_adj_list_by_id\n",
    ")\n",
    "from paradeller.analysis import (\n",
    "    find_matches,\n",
    "    find_matches_for_start_pairs\n",
    ")\n",
    "\"\"\")"
   ]
  },
  {
   "cell_type": "code",
   "execution_count": 19,
   "metadata": {},
   "outputs": [
    {
     "name": "stdout",
     "output_type": "stream",
     "text": [
      "--------------------------------------------------\n"
     ]
    }
   ],
   "source": [
    "print(\"-\"*50)"
   ]
  },
  {
   "cell_type": "code",
   "execution_count": 15,
   "metadata": {},
   "outputs": [],
   "source": [
    "def get_tweet(i):\n",
    "    try:\n",
    "        return next(x for x in data if x[\"id\"] == i)\n",
    "    except StopIteration as e:\n",
    "        print(\"Error: No tweet with that ID\")\n",
    "        return None\n",
    "\n",
    "showlen = lambda data: print(f\"Length: {len(data):,}\")"
   ]
  },
  {
   "cell_type": "code",
   "execution_count": 17,
   "metadata": {},
   "outputs": [
    {
     "data": {
      "text/markdown": [
       "```python\n",
       "\n",
       "def get_tweet(i):\n",
       "    try:\n",
       "        return next(x for x in data if x[\"id\"] == i)\n",
       "    except StopIteration as e:\n",
       "        print(\"Error: No tweet with that ID\")\n",
       "        return None\n",
       "\n",
       "showlen = lambda data: print(f\"Length: {len(data):,}\")\n",
       "\n",
       "```"
      ],
      "text/plain": [
       "<IPython.core.display.Markdown object>"
      ]
     },
     "metadata": {},
     "output_type": "display_data"
    }
   ],
   "source": [
    "_display_code(\"\"\"\n",
    "def get_tweet(i):\n",
    "    try:\n",
    "        return next(x for x in data if x[\"id\"] == i)\n",
    "    except StopIteration as e:\n",
    "        print(\"Error: No tweet with that ID\")\n",
    "        return None\n",
    "\n",
    "showlen = lambda data: print(f\"Length: {len(data):,}\")\n",
    "\"\"\")"
   ]
  }
 ],
 "metadata": {
  "kernelspec": {
   "display_name": "Python 3",
   "language": "python",
   "name": "python3"
  },
  "language_info": {
   "codemirror_mode": {
    "name": "ipython",
    "version": 3
   },
   "file_extension": ".py",
   "mimetype": "text/x-python",
   "name": "python",
   "nbconvert_exporter": "python",
   "pygments_lexer": "ipython3",
   "version": "3.7.3"
  }
 },
 "nbformat": 4,
 "nbformat_minor": 4
}
