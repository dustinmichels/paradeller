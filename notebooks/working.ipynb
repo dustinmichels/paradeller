{
 "cells": [
  {
   "cell_type": "code",
   "execution_count": 1,
   "metadata": {},
   "outputs": [],
   "source": [
    "%load_ext autoreload\n",
    "%autoreload 2\n",
    "\n",
    "import sys; sys.path.insert(0, '..')\n",
    "import json\n",
    "\n",
    "import tweepy\n",
    "from tqdm import tqdm, trange\n",
    "\n",
    "from paradeller.keys import (\n",
    "    consumer_key, consumer_secret, access_token, accss_token_secret\n",
    ")\n",
    "from paradeller.stopwords import stopwords"
   ]
  },
  {
   "cell_type": "markdown",
   "metadata": {},
   "source": [
    "## Scraping"
   ]
  },
  {
   "cell_type": "code",
   "execution_count": 3,
   "metadata": {},
   "outputs": [],
   "source": [
    "from paradeller.scrape import api, get_tweets, display_status, format_status"
   ]
  },
  {
   "cell_type": "code",
   "execution_count": 6,
   "metadata": {},
   "outputs": [
    {
     "name": "stdout",
     "output_type": "stream",
     "text": [
      "Blows my mind the things people complain about.\n",
      "-- @sidneypotts11\n",
      "\n",
      "1144647813768372225\n",
      "~~~~~~~~~~~~~~~~~~~~~~~~~~~~~~~~~~~~~~~~~~~~~~~~~~\n",
      "Its too hot , i dont even wan smoke\n",
      "-- @juggtoven\n",
      "\n",
      "1144647813688676352\n",
      "~~~~~~~~~~~~~~~~~~~~~~~~~~~~~~~~~~~~~~~~~~~~~~~~~~\n",
      "He really threw Juvenille on this mug 😂👏🏾\n",
      "-- @Soul_yup\n",
      "\n",
      "1144647813122416640\n",
      "~~~~~~~~~~~~~~~~~~~~~~~~~~~~~~~~~~~~~~~~~~~~~~~~~~\n",
      "&gt;:( 1 point off.\n",
      "-- @Niki_Yanagi\n",
      "\n",
      "1144647812929470466\n",
      "~~~~~~~~~~~~~~~~~~~~~~~~~~~~~~~~~~~~~~~~~~~~~~~~~~\n",
      "halo comeback when\n",
      "-- @hwitaekthewheel\n",
      "\n",
      "1144647812702973954\n",
      "~~~~~~~~~~~~~~~~~~~~~~~~~~~~~~~~~~~~~~~~~~~~~~~~~~\n",
      "did mnet fk up again why is it trending\n",
      "-- @snowinthetae\n",
      "\n",
      "1144647812686069760\n",
      "~~~~~~~~~~~~~~~~~~~~~~~~~~~~~~~~~~~~~~~~~~~~~~~~~~\n",
      "Very entertaining but it's over now\n",
      "-- @JOMMELIZA\n",
      "\n",
      "1144647812669308928\n",
      "~~~~~~~~~~~~~~~~~~~~~~~~~~~~~~~~~~~~~~~~~~~~~~~~~~\n"
     ]
    }
   ],
   "source": [
    "res = get_tweets()\n",
    "\n",
    "for status in res:\n",
    "    display_status(status)"
   ]
  },
  {
   "cell_type": "code",
   "execution_count": null,
   "metadata": {},
   "outputs": [],
   "source": []
  },
  {
   "cell_type": "markdown",
   "metadata": {},
   "source": [
    "## Data Collection"
   ]
  },
  {
   "cell_type": "code",
   "execution_count": 7,
   "metadata": {},
   "outputs": [],
   "source": [
    "from paradeller.helper import load_archive, update_archive"
   ]
  },
  {
   "cell_type": "code",
   "execution_count": 9,
   "metadata": {},
   "outputs": [
    {
     "data": {
      "text/plain": [
       "17933"
      ]
     },
     "execution_count": 9,
     "metadata": {},
     "output_type": "execute_result"
    }
   ],
   "source": [
    "archive = load_archive()\n",
    "len(archive)"
   ]
  },
  {
   "cell_type": "code",
   "execution_count": null,
   "metadata": {},
   "outputs": [],
   "source": []
  },
  {
   "cell_type": "code",
   "execution_count": null,
   "metadata": {},
   "outputs": [],
   "source": []
  },
  {
   "cell_type": "markdown",
   "metadata": {},
   "source": [
    "## Pre-select tweets"
   ]
  },
  {
   "cell_type": "code",
   "execution_count": 9,
   "metadata": {},
   "outputs": [],
   "source": [
    "def save_status_from_id(id_):\n",
    "    status = api.get_status(id_)\n",
    "    return save_status(status)"
   ]
  },
  {
   "cell_type": "code",
   "execution_count": 10,
   "metadata": {},
   "outputs": [],
   "source": [
    "ids = [\n",
    "    1144127521929224197,\n",
    "    1144135638721036288,\n",
    "    1144135638733557760,\n",
    "    1144137985971183616,\n",
    "    1144144954219999232,\n",
    "    1144146074321317888,\n",
    "    1144313057377546240,\n",
    "    1144313057444847621\n",
    "]"
   ]
  },
  {
   "cell_type": "code",
   "execution_count": 11,
   "metadata": {},
   "outputs": [],
   "source": [
    "saved = []\n",
    "for id_ in ids:\n",
    "    try:\n",
    "        s = save_status_from_id(id_)\n",
    "        saved.append(s)\n",
    "    except tweepy.TweepError as e:\n",
    "        print(e)\n",
    "        print(\">> \", id_)"
   ]
  },
  {
   "cell_type": "code",
   "execution_count": 12,
   "metadata": {},
   "outputs": [
    {
     "data": {
      "text/plain": [
       "[{'id': 1144127521929224197,\n",
       "  'text': 'Sitting in lingerie drinking wine ima wife for sure 😭',\n",
       "  'author': '__mxvii',\n",
       "  'time': datetime.datetime(2019, 6, 27, 6, 17, 12)},\n",
       " {'id': 1144135638721036288,\n",
       "  'text': 'time will be frozen for us',\n",
       "  'author': 'mariuuhhhh',\n",
       "  'time': datetime.datetime(2019, 6, 27, 6, 49, 27)},\n",
       " {'id': 1144135638733557760,\n",
       "  'text': 'Is it me or is it a break up season?',\n",
       "  'author': 'Linnneyyy',\n",
       "  'time': datetime.datetime(2019, 6, 27, 6, 49, 27)},\n",
       " {'id': 1144137985971183616,\n",
       "  'text': 'ive been gettin horny at the most inconvenient times lately wtf 🥴😫',\n",
       "  'author': 'SoCvsh',\n",
       "  'time': datetime.datetime(2019, 6, 27, 6, 58, 47)},\n",
       " {'id': 1144144954219999232,\n",
       "  'text': 'Fuck work experience 🖕🏾🖕🏾',\n",
       "  'author': 'juggz_19',\n",
       "  'time': datetime.datetime(2019, 6, 27, 7, 26, 28)},\n",
       " {'id': 1144146074321317888,\n",
       "  'text': 'All you can do is watch.',\n",
       "  'author': 'ayeroven',\n",
       "  'time': datetime.datetime(2019, 6, 27, 7, 30, 55)},\n",
       " {'id': 1144313057377546240,\n",
       "  'text': 'Piercing my belly 🙇\\u200d♀️',\n",
       "  'author': 'SuriouslyStace',\n",
       "  'time': datetime.datetime(2019, 6, 27, 18, 34, 27)},\n",
       " {'id': 1144313057444847621,\n",
       "  'text': 'did I mention i’m gay?',\n",
       "  'author': 'hoeslynn',\n",
       "  'time': datetime.datetime(2019, 6, 27, 18, 34, 27)}]"
      ]
     },
     "execution_count": 12,
     "metadata": {},
     "output_type": "execute_result"
    }
   ],
   "source": [
    "saved"
   ]
  },
  {
   "cell_type": "code",
   "execution_count": null,
   "metadata": {},
   "outputs": [],
   "source": []
  },
  {
   "cell_type": "code",
   "execution_count": null,
   "metadata": {},
   "outputs": [],
   "source": []
  },
  {
   "cell_type": "code",
   "execution_count": null,
   "metadata": {},
   "outputs": [],
   "source": []
  },
  {
   "cell_type": "markdown",
   "metadata": {},
   "source": [
    "## Searching for matches"
   ]
  },
  {
   "cell_type": "code",
   "execution_count": 13,
   "metadata": {},
   "outputs": [],
   "source": [
    "import emoji\n",
    "import string\n",
    "from tqdm import tqdm, trange"
   ]
  },
  {
   "cell_type": "code",
   "execution_count": 14,
   "metadata": {},
   "outputs": [],
   "source": [
    "def tokenize(tweet):\n",
    "    tweet = ' '.join(emoji.get_emoji_regexp().split(tweet))\n",
    "    words = tweet.split()\n",
    "    return [\n",
    "        w.lower().strip().translate(str.maketrans('', '', string.punctuation))\n",
    "        for w in words\n",
    "    ]"
   ]
  },
  {
   "cell_type": "code",
   "execution_count": 15,
   "metadata": {},
   "outputs": [
    {
     "data": {
      "text/plain": [
       "['sitting',\n",
       " 'in',\n",
       " 'lingerie',\n",
       " 'drinking',\n",
       " 'wine',\n",
       " 'ima',\n",
       " 'wife',\n",
       " 'for',\n",
       " 'sure',\n",
       " '😭']"
      ]
     },
     "execution_count": 15,
     "metadata": {},
     "output_type": "execute_result"
    }
   ],
   "source": [
    "tokenize(saved[0]['text'])"
   ]
  },
  {
   "cell_type": "markdown",
   "metadata": {},
   "source": [
    "### Pick some tweets"
   ]
  },
  {
   "cell_type": "code",
   "execution_count": 16,
   "metadata": {},
   "outputs": [
    {
     "data": {
      "text/plain": [
       "{'id': 1144127521929224197,\n",
       " 'text': 'Sitting in lingerie drinking wine ima wife for sure 😭',\n",
       " 'author': '__mxvii',\n",
       " 'time': datetime.datetime(2019, 6, 27, 6, 17, 12)}"
      ]
     },
     "execution_count": 16,
     "metadata": {},
     "output_type": "execute_result"
    }
   ],
   "source": [
    "s1 = saved[0]\n",
    "s1"
   ]
  },
  {
   "cell_type": "code",
   "execution_count": 17,
   "metadata": {},
   "outputs": [
    {
     "data": {
      "text/plain": [
       "{'id': 1144313057444847621,\n",
       " 'text': 'did I mention i’m gay?',\n",
       " 'author': 'hoeslynn',\n",
       " 'time': datetime.datetime(2019, 6, 27, 18, 34, 27)}"
      ]
     },
     "execution_count": 17,
     "metadata": {},
     "output_type": "execute_result"
    }
   ],
   "source": [
    "s2 = saved[7]\n",
    "s2"
   ]
  },
  {
   "cell_type": "code",
   "execution_count": 18,
   "metadata": {},
   "outputs": [],
   "source": [
    "word_set = set(tokenize(s1['text']) + tokenize(s2['text']))"
   ]
  },
  {
   "cell_type": "code",
   "execution_count": 19,
   "metadata": {},
   "outputs": [
    {
     "data": {
      "text/plain": [
       "{'did',\n",
       " 'drinking',\n",
       " 'for',\n",
       " 'gay',\n",
       " 'i',\n",
       " 'ima',\n",
       " 'in',\n",
       " 'i’m',\n",
       " 'lingerie',\n",
       " 'mention',\n",
       " 'sitting',\n",
       " 'sure',\n",
       " 'wife',\n",
       " 'wine',\n",
       " '😭'}"
      ]
     },
     "execution_count": 19,
     "metadata": {},
     "output_type": "execute_result"
    }
   ],
   "source": [
    "word_set"
   ]
  },
  {
   "cell_type": "code",
   "execution_count": 20,
   "metadata": {},
   "outputs": [
    {
     "data": {
      "text/plain": [
       "{'did',\n",
       " 'drinking',\n",
       " 'gay',\n",
       " 'i',\n",
       " 'ima',\n",
       " 'i’m',\n",
       " 'lingerie',\n",
       " 'mention',\n",
       " 'sitting',\n",
       " 'sure',\n",
       " 'wife',\n",
       " 'wine',\n",
       " '😭'}"
      ]
     },
     "execution_count": 20,
     "metadata": {},
     "output_type": "execute_result"
    }
   ],
   "source": [
    "search_words = word_set - set(stopwords)\n",
    "search_words"
   ]
  },
  {
   "cell_type": "code",
   "execution_count": 31,
   "metadata": {},
   "outputs": [
    {
     "data": {
      "text/plain": [
       "{'did',\n",
       " 'drinking',\n",
       " 'gay',\n",
       " 'i',\n",
       " 'ima',\n",
       " 'i’m',\n",
       " 'lingerie',\n",
       " 'mention',\n",
       " 'sitting',\n",
       " 'sure',\n",
       " 'wife',\n",
       " 'wine',\n",
       " '😭'}"
      ]
     },
     "execution_count": 31,
     "metadata": {},
     "output_type": "execute_result"
    }
   ],
   "source": [
    "search_words"
   ]
  },
  {
   "cell_type": "code",
   "execution_count": null,
   "metadata": {},
   "outputs": [],
   "source": []
  },
  {
   "cell_type": "code",
   "execution_count": 32,
   "metadata": {},
   "outputs": [
    {
     "data": {
      "text/plain": [
       "{'did',\n",
       " 'drinking',\n",
       " 'gay',\n",
       " 'i',\n",
       " 'ima',\n",
       " 'i’m',\n",
       " 'lingerie',\n",
       " 'mention',\n",
       " 'sitting',\n",
       " 'sure',\n",
       " 'wife',\n",
       " 'wine',\n",
       " '😭'}"
      ]
     },
     "execution_count": 32,
     "metadata": {},
     "output_type": "execute_result"
    }
   ],
   "source": [
    "search_words"
   ]
  },
  {
   "cell_type": "code",
   "execution_count": 21,
   "metadata": {},
   "outputs": [
    {
     "name": "stdout",
     "output_type": "stream",
     "text": [
      "sure OR did OR 😭 OR mention OR sitting OR wine OR i OR wife OR lingerie OR ima OR drinking OR gay OR i’m -filter:retweets -filter:links -filter:media\n"
     ]
    }
   ],
   "source": [
    "query = (\n",
    "    ' OR '.join(search_words) + \n",
    "    \" -filter:retweets -filter:links -filter:media\"\n",
    ")\n",
    "print(query)\n",
    "\n",
    "def get_search_tweets():\n",
    "    tweets = api.search(\n",
    "        q=query, lang='en', count=1000, include_entities=False\n",
    "    )\n",
    "    return [t for t in tweets if is_good(t.text)]"
   ]
  },
  {
   "cell_type": "code",
   "execution_count": 25,
   "metadata": {},
   "outputs": [],
   "source": [
    "def potential_match(tweet, word_set):\n",
    "    \"\"\"\n",
    "    If all words in tweet are in the word set,\n",
    "    it is a potential match\n",
    "    \"\"\"\n",
    "    words = tokenize(tweet)\n",
    "    return set(words) <= word_set"
   ]
  },
  {
   "cell_type": "code",
   "execution_count": 34,
   "metadata": {},
   "outputs": [
    {
     "name": "stderr",
     "output_type": "stream",
     "text": [
      "  7%|▋         | 68/1000 [00:42<08:34,  1.81it/s]Rate limit reached. Sleeping for: 347\n",
      " 25%|██▍       | 248/1000 [08:20<07:22,  1.70it/s]   Rate limit reached. Sleeping for: 793\n",
      " 43%|████▎     | 428/1000 [23:29<05:28,  1.74it/s]    Rate limit reached. Sleeping for: 790\n",
      " 61%|██████    | 608/1000 [38:37<04:04,  1.60it/s]    Rate limit reached. Sleeping for: 787\n",
      " 79%|███████▉  | 788/1000 [53:50<02:18,  1.53it/s]    Rate limit reached. Sleeping for: 779\n",
      "100%|██████████| 1000/1000 [1:09:07<00:00,  1.36it/s]   \n"
     ]
    }
   ],
   "source": [
    "iterations = 1000\n",
    "\n",
    "matches = []\n",
    "\n",
    "for i in trange(iterations):\n",
    "    res = get_search_tweets()\n",
    "    for status in res:\n",
    "        if potential_match(status.text, word_set):\n",
    "            print(\"yeah!!\")\n",
    "            display_status(status)\n",
    "            mactches.append(status)"
   ]
  },
  {
   "cell_type": "code",
   "execution_count": 36,
   "metadata": {},
   "outputs": [
    {
     "data": {
      "text/plain": [
       "[]"
      ]
     },
     "execution_count": 36,
     "metadata": {},
     "output_type": "execute_result"
    }
   ],
   "source": [
    "matches"
   ]
  },
  {
   "cell_type": "code",
   "execution_count": 38,
   "metadata": {},
   "outputs": [],
   "source": []
  },
  {
   "cell_type": "code",
   "execution_count": null,
   "metadata": {},
   "outputs": [],
   "source": []
  }
 ],
 "metadata": {
  "kernelspec": {
   "display_name": "Python 3",
   "language": "python",
   "name": "python3"
  },
  "language_info": {
   "codemirror_mode": {
    "name": "ipython",
    "version": 3
   },
   "file_extension": ".py",
   "mimetype": "text/x-python",
   "name": "python",
   "nbconvert_exporter": "python",
   "pygments_lexer": "ipython3",
   "version": "3.7.3"
  }
 },
 "nbformat": 4,
 "nbformat_minor": 4
}
