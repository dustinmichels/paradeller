{
 "cells": [
  {
   "cell_type": "markdown",
   "metadata": {},
   "source": [
    "## Get Data from Book"
   ]
  },
  {
   "cell_type": "code",
   "execution_count": 1,
   "metadata": {},
   "outputs": [],
   "source": [
    "import re\n",
    "\n",
    "from nltk import tokenize\n",
    "import ebooklib\n",
    "from ebooklib import epub\n",
    "from bs4 import BeautifulSoup\n",
    "\n",
    "from itertools import combinations, chain"
   ]
  },
  {
   "cell_type": "code",
   "execution_count": 2,
   "metadata": {},
   "outputs": [],
   "source": [
    "def get_section_header(text):\n",
    "    return text.strip().split(\"\\n\")[0]"
   ]
  },
  {
   "cell_type": "code",
   "execution_count": 3,
   "metadata": {},
   "outputs": [],
   "source": [
    "book_choice = '../books/The Overstory - Richard Powers.epub'"
   ]
  },
  {
   "cell_type": "code",
   "execution_count": 4,
   "metadata": {},
   "outputs": [],
   "source": [
    "book = epub.read_epub(book_choice)\n",
    "items = book.get_items_of_type(ebooklib.ITEM_DOCUMENT)\n",
    "\n",
    "d = {}\n",
    "for item in items:\n",
    "    name = item.get_name()\n",
    "    id_ = item.get_id()\n",
    "    \n",
    "    content = item.get_body_content()\n",
    "    soup = BeautifulSoup(content, features=\"lxml\")\n",
    "    text = soup.get_text()\n",
    "    \n",
    "    header = get_section_header(text)\n",
    "    \n",
    "    d[id_] = dict(\n",
    "        section_name=name,\n",
    "        section_id=id_,\n",
    "        text=text,\n",
    "        header=header,\n",
    "    )"
   ]
  },
  {
   "cell_type": "code",
   "execution_count": 5,
   "metadata": {},
   "outputs": [
    {
     "data": {
      "text/plain": [
       "dict_keys(['Cover', 'toc', 'title', 'ch1', 'ch2', 'ch3', 'ch4', 'ch5', 'ch6', 'ch7', 'ch8', 'ch9', 'ch10', 'ch11', 'ch12', 'also', 'ded', 'epi', 'copy'])"
      ]
     },
     "execution_count": 5,
     "metadata": {},
     "output_type": "execute_result"
    }
   ],
   "source": [
    "d.keys()"
   ]
  },
  {
   "cell_type": "code",
   "execution_count": 6,
   "metadata": {},
   "outputs": [],
   "source": [
    "good_parts = {k: v for k, v in d.items() if k.startswith('ch')}"
   ]
  },
  {
   "cell_type": "code",
   "execution_count": 7,
   "metadata": {},
   "outputs": [
    {
     "data": {
      "text/plain": [
       "dict_keys(['ch1', 'ch2', 'ch3', 'ch4', 'ch5', 'ch6', 'ch7', 'ch8', 'ch9', 'ch10', 'ch11', 'ch12'])"
      ]
     },
     "execution_count": 7,
     "metadata": {},
     "output_type": "execute_result"
    }
   ],
   "source": [
    "good_parts.keys()"
   ]
  },
  {
   "cell_type": "code",
   "execution_count": 8,
   "metadata": {},
   "outputs": [],
   "source": [
    "data = []\n",
    "count = 0\n",
    "for section in good_parts.values():\n",
    "    \n",
    "    # split text into lines\n",
    "    text = section['text']\n",
    "    lines = tokenize.sent_tokenize(text)\n",
    "    lines = list(chain.from_iterable([x.split('\\n') for x in lines]))\n",
    "    lines = [x for x in lines if len(x) > 1]\n",
    "    \n",
    "    # form into data\n",
    "    for line in lines:\n",
    "        item = dict(\n",
    "            id=count,\n",
    "            text=line,\n",
    "            section=section['section_id']\n",
    "        )\n",
    "        data.append(item)\n",
    "        count += 1"
   ]
  },
  {
   "cell_type": "code",
   "execution_count": 9,
   "metadata": {},
   "outputs": [],
   "source": [
    "def get_line(i):\n",
    "    \"\"\"Find tweet with given id\"\"\"\n",
    "    try:\n",
    "        return next(x for x in data if x[\"id\"] == i)\n",
    "    except StopIteration as e:\n",
    "        print(\"Error: No tweet with that ID\")\n",
    "        return None\n",
    "    \n",
    "showlen = lambda data: print(f\"Length: {len(data):,}\")"
   ]
  },
  {
   "cell_type": "code",
   "execution_count": 10,
   "metadata": {},
   "outputs": [
    {
     "data": {
      "text/plain": [
       "{'id': 0, 'text': 'ROOTS', 'section': 'ch1'}"
      ]
     },
     "execution_count": 10,
     "metadata": {},
     "output_type": "execute_result"
    }
   ],
   "source": [
    "get_line(0)"
   ]
  },
  {
   "cell_type": "code",
   "execution_count": 11,
   "metadata": {},
   "outputs": [
    {
     "name": "stdout",
     "output_type": "stream",
     "text": [
      "Length: 16,531\n"
     ]
    }
   ],
   "source": [
    "showlen(data)"
   ]
  },
  {
   "cell_type": "markdown",
   "metadata": {},
   "source": [
    "## Look for Stanzas"
   ]
  },
  {
   "cell_type": "code",
   "execution_count": 30,
   "metadata": {},
   "outputs": [
    {
     "name": "stdout",
     "output_type": "stream",
     "text": [
      "The autoreload extension is already loaded. To reload it, use:\n",
      "  %reload_ext autoreload\n"
     ]
    }
   ],
   "source": [
    "%load_ext autoreload\n",
    "%autoreload 2\n",
    "\n",
    "import sys; sys.path.insert(0, '..')\n",
    "\n",
    "from datetime import datetime\n",
    "from multiprocessing import Pool\n",
    "import os\n",
    "import pickle\n",
    "\n",
    "from tqdm.auto import tqdm, trange\n",
    "\n",
    "from paradeller.dataprep import (\n",
    "    tokenize,\n",
    "    find_duplicates,\n",
    "    filter_out_duplicates,\n",
    "    filter_out_short,\n",
    "    filter_out_oddballs,\n",
    "    filter_out_oddballs_recursive,\n",
    "    restructure_data,\n",
    "    create_adj_list_by_word,\n",
    "    create_adj_list_by_id\n",
    ")\n",
    "from paradeller.analysis import (\n",
    "    find_matches,\n",
    "    find_matches_for_start_pairs,\n",
    "    get_stanzas,\n",
    "    find_final_stanzas\n",
    ")\n",
    "from paradeller.postprocess import(\n",
    "    stanza_sorter_maker\n",
    ")"
   ]
  },
  {
   "cell_type": "code",
   "execution_count": 31,
   "metadata": {},
   "outputs": [
    {
     "name": "stdout",
     "output_type": "stream",
     "text": [
      "Length: 2,662\n",
      "\n",
      "Cleaning up data...\n",
      "> Remove too short\n"
     ]
    },
    {
     "data": {
      "application/vnd.jupyter.widget-view+json": {
       "model_id": "34ce5efe32ed478e939d307dc7e969a9",
       "version_major": 2,
       "version_minor": 0
      },
      "text/plain": [
       "HBox(children=(IntProgress(value=0, max=2662), HTML(value='')))"
      ]
     },
     "metadata": {},
     "output_type": "display_data"
    },
    {
     "name": "stdout",
     "output_type": "stream",
     "text": [
      "\n",
      "Length: 2,662\n",
      "> Remove duplicate phrases\n"
     ]
    },
    {
     "data": {
      "application/vnd.jupyter.widget-view+json": {
       "model_id": "1cfe97a8b6d04bc190880b91fd8fe06f",
       "version_major": 2,
       "version_minor": 0
      },
      "text/plain": [
       "HBox(children=(IntProgress(value=0, max=2662), HTML(value='')))"
      ]
     },
     "metadata": {},
     "output_type": "display_data"
    },
    {
     "name": "stdout",
     "output_type": "stream",
     "text": [
      "\n",
      "Length: 2,662\n",
      "> Recursively remove oddballs\n"
     ]
    },
    {
     "data": {
      "application/vnd.jupyter.widget-view+json": {
       "model_id": "f5526a564e554bed887dc849c491e59b",
       "version_major": 2,
       "version_minor": 0
      },
      "text/plain": [
       "HBox(children=(IntProgress(value=0, max=2662), HTML(value='')))"
      ]
     },
     "metadata": {},
     "output_type": "display_data"
    },
    {
     "name": "stdout",
     "output_type": "stream",
     "text": [
      "\n",
      "Nothing removed. Done filtering.\n",
      "Length: 2,662\n",
      "\n",
      "Creating adjacency lists...\n"
     ]
    },
    {
     "data": {
      "application/vnd.jupyter.widget-view+json": {
       "model_id": "008219c255fa4945842917339683c9aa",
       "version_major": 2,
       "version_minor": 0
      },
      "text/plain": [
       "HBox(children=(IntProgress(value=0, max=2662), HTML(value='')))"
      ]
     },
     "metadata": {},
     "output_type": "display_data"
    },
    {
     "name": "stdout",
     "output_type": "stream",
     "text": [
      "\n",
      "data            type: <class 'list'>\tlen: 2,662\n",
      "duplicates      type: <class 'dict'>\tlen: 2,662\n",
      "adj_list_words  type: <class 'dict'>\tlen: 964\n",
      "adj_list_ids    type: <class 'dict'>\tlen: 2,662\n"
     ]
    }
   ],
   "source": [
    "showlen(data)\n",
    "print(\"\\nCleaning up data...\")\n",
    "\n",
    "# remove too short\n",
    "print(\"> Remove too short\")\n",
    "data = filter_out_short(data)\n",
    "showlen(data)\n",
    "\n",
    "# remove duplicate phrases\n",
    "print(\"> Remove duplicate phrases\")\n",
    "duplicates = find_duplicates(data)\n",
    "data = filter_out_duplicates(data, duplicates)\n",
    "showlen(data)\n",
    "\n",
    "# remove oddballs (too few matches)\n",
    "print(\"> Recursively remove oddballs\")\n",
    "data = filter_out_oddballs_recursive(data)\n",
    "showlen(data)\n",
    "\n",
    "print(\"\\nCreating adjacency lists...\")\n",
    "# make adj lists\n",
    "adj_list_words, adj_list_ids = restructure_data(data)\n",
    "\n",
    "stuff = {\n",
    "    \"data\": data, \"duplicates\": duplicates, \"adj_list_words\": adj_list_words, \"adj_list_ids\": adj_list_ids\n",
    "}\n",
    "\n",
    "for k, v in stuff.items():\n",
    "    print(f\"{k:15} type: {type(v)}\\tlen: {len(v):,}\")"
   ]
  },
  {
   "cell_type": "code",
   "execution_count": 14,
   "metadata": {},
   "outputs": [
    {
     "data": {
      "text/plain": [
       "3541791"
      ]
     },
     "execution_count": 14,
     "metadata": {},
     "output_type": "execute_result"
    }
   ],
   "source": [
    "ids = list(adj_list_ids.keys())\n",
    "\n",
    "#TMP\n",
    "# ids = ids[:10]\n",
    "\n",
    "pairs = list(combinations(ids, 2))\n",
    "len(pairs)"
   ]
  },
  {
   "cell_type": "code",
   "execution_count": 15,
   "metadata": {},
   "outputs": [],
   "source": [
    "# all_valid = find_matches_for_start_pairs(pairs, adj_list_ids, adj_list_words)"
   ]
  },
  {
   "cell_type": "markdown",
   "metadata": {},
   "source": [
    "#### Look for stanzas"
   ]
  },
  {
   "cell_type": "code",
   "execution_count": 16,
   "metadata": {},
   "outputs": [],
   "source": [
    "def find_matches_for_pair(p):\n",
    "    return find_matches(p[0], p[1], adj_list_ids, adj_list_words)"
   ]
  },
  {
   "cell_type": "code",
   "execution_count": 17,
   "metadata": {},
   "outputs": [
    {
     "data": {
      "application/vnd.jupyter.widget-view+json": {
       "model_id": "c51e8277438d4933b37e5133bce11afb",
       "version_major": 2,
       "version_minor": 0
      },
      "text/plain": [
       "HBox(children=(IntProgress(value=0, max=3541791), HTML(value='')))"
      ]
     },
     "metadata": {},
     "output_type": "display_data"
    },
    {
     "name": "stdout",
     "output_type": "stream",
     "text": [
      "\n"
     ]
    }
   ],
   "source": [
    "with Pool(os.cpu_count()) as pool:\n",
    "    res = list(tqdm(\n",
    "        pool.imap(find_matches_for_pair, pairs),\n",
    "        total=len(pairs)\n",
    "    ))"
   ]
  },
  {
   "cell_type": "code",
   "execution_count": 18,
   "metadata": {},
   "outputs": [
    {
     "name": "stdout",
     "output_type": "stream",
     "text": [
      "Found 54 results.\n",
      "stanzas saved to data/found_stanzas_book_[datetime].pickle\n"
     ]
    }
   ],
   "source": [
    "# zip results with search pairs, filter out empty\n",
    "all_valid = [x for x in list(zip(pairs, res)) if x[1]]\n",
    "print(\"Found {} results.\".format(len(all_valid)))\n",
    "\n",
    "# get filename\n",
    "d = datetime.utcnow()\n",
    "filename = \"../data/found_stanzas_book_{}.pickle\".format(d.strftime(\"%Y-%m-%d-%H-%M\"))\n",
    "\n",
    "# save to file\n",
    "with open(filename, \"wb\") as f:\n",
    "    pickle.dump(all_valid, f)\n",
    "print(\"stanzas saved to data/found_stanzas_book_[datetime].pickle\")"
   ]
  },
  {
   "cell_type": "code",
   "execution_count": 20,
   "metadata": {},
   "outputs": [],
   "source": [
    "stanzas = get_stanzas(all_valid)"
   ]
  },
  {
   "cell_type": "code",
   "execution_count": 35,
   "metadata": {},
   "outputs": [
    {
     "name": "stdout",
     "output_type": "stream",
     "text": [
      "~~~~~~~~~~~~~~~~~~~~~~~~~~~~~~~~~~~~~~~~~~~~~~~~~~\n",
      "@ch3                  “Who are they?” \n",
      "@ch3                  “Who are they?” \n",
      "@ch8                  where are we? \n",
      "@ch8                  where are we? \n",
      "@ch10                 “Where are they?” \n",
      "@ch8                  Who are we? \n",
      "~~~~~~~~~~~~~~~~~~~~~~~~~~~~~~~~~~~~~~~~~~~~~~~~~~\n",
      "@ch3                  She doesn’t care. \n",
      "@ch3                  She doesn’t care. \n",
      "@ch10                 He doesn’t understand. \n",
      "@ch10                 He doesn’t understand. \n",
      "@ch12                 She doesn’t understand. \n",
      "@ch4                  He doesn’t care. \n",
      "~~~~~~~~~~~~~~~~~~~~~~~~~~~~~~~~~~~~~~~~~~~~~~~~~~\n",
      "@ch4                  He doesn’t care. \n",
      "@ch4                  He doesn’t care. \n",
      "@ch12                 She doesn’t understand. \n",
      "@ch12                 She doesn’t understand. \n",
      "@ch10                 He doesn’t understand. \n",
      "@ch3                  She doesn’t care. \n",
      "~~~~~~~~~~~~~~~~~~~~~~~~~~~~~~~~~~~~~~~~~~~~~~~~~~\n",
      "@ch8                  Who are we? \n",
      "@ch8                  Who are we? \n",
      "@ch10                 “Where are they?” \n",
      "@ch10                 “Where are they?” \n",
      "@ch3                  “Who are they?” \n",
      "@ch8                  where are we? \n",
      "~~~~~~~~~~~~~~~~~~~~~~~~~~~~~~~~~~~~~~~~~~~~~~~~~~\n",
      "@ch8                  “I am now.” \n",
      "@ch8                  “I am now.” \n",
      "@ch11                 Maybe I should go. \n",
      "@ch11                 Maybe I should go. \n",
      "@ch10                 “Maybe I am.” \n",
      "@ch10                 I should go now. \n",
      "~~~~~~~~~~~~~~~~~~~~~~~~~~~~~~~~~~~~~~~~~~~~~~~~~~\n",
      "@ch10                 “Maybe I am.” \n",
      "@ch10                 “Maybe I am.” \n",
      "@ch10                 I should go now. \n",
      "@ch10                 I should go now. \n",
      "@ch11                 Maybe I should go. \n",
      "@ch8                  “I am now.” \n",
      "~~~~~~~~~~~~~~~~~~~~~~~~~~~~~~~~~~~~~~~~~~~~~~~~~~\n",
      "@ch3                  Don’t do that. \n",
      "@ch3                  Don’t do that. \n",
      "@ch8                  Look at this. \n",
      "@ch8                  Look at this. \n",
      "@ch10                 “Look at that!” \n",
      "@ch10                 “Don’t do this. \n",
      "~~~~~~~~~~~~~~~~~~~~~~~~~~~~~~~~~~~~~~~~~~~~~~~~~~\n",
      "@ch3                  “I know that. \n",
      "@ch3                  “I know that. \n",
      "@ch10                 You really don’t.” \n",
      "@ch10                 You really don’t.” \n",
      "@ch5                  You know that. \n",
      "@ch10                 “I really don’t.” \n",
      "~~~~~~~~~~~~~~~~~~~~~~~~~~~~~~~~~~~~~~~~~~~~~~~~~~\n",
      "@ch3                  “I don’t know. \n",
      "@ch3                  “I don’t know. \n",
      "@ch3                  She doesn’t care. \n",
      "@ch3                  She doesn’t care. \n",
      "@ch10                 I don’t care.” \n",
      "@ch10                 She doesn’t know. \n",
      "~~~~~~~~~~~~~~~~~~~~~~~~~~~~~~~~~~~~~~~~~~~~~~~~~~\n",
      "@ch3                  She doesn’t care. \n",
      "@ch3                  She doesn’t care. \n",
      "@ch10                 He looks down. \n",
      "@ch10                 He looks down. \n",
      "@ch9                  She looks down. \n",
      "@ch4                  He doesn’t care. \n",
      "~~~~~~~~~~~~~~~~~~~~~~~~~~~~~~~~~~~~~~~~~~~~~~~~~~\n",
      "@ch4                  He doesn’t care. \n",
      "@ch4                  He doesn’t care. \n",
      "@ch9                  She looks down. \n",
      "@ch9                  She looks down. \n",
      "@ch10                 He looks down. \n",
      "@ch3                  She doesn’t care. \n",
      "~~~~~~~~~~~~~~~~~~~~~~~~~~~~~~~~~~~~~~~~~~~~~~~~~~\n",
      "@ch5                  You know that. \n",
      "@ch5                  You know that. \n",
      "@ch10                 “I really don’t.” \n",
      "@ch10                 “I really don’t.” \n",
      "@ch3                  “I know that. \n",
      "@ch10                 You really don’t.” \n",
      "~~~~~~~~~~~~~~~~~~~~~~~~~~~~~~~~~~~~~~~~~~~~~~~~~~\n",
      "@ch9                  She looks down. \n",
      "@ch9                  She looks down. \n",
      "@ch10                 He doesn’t understand. \n",
      "@ch10                 He doesn’t understand. \n",
      "@ch10                 He looks down. \n",
      "@ch12                 She doesn’t understand. \n",
      "~~~~~~~~~~~~~~~~~~~~~~~~~~~~~~~~~~~~~~~~~~~~~~~~~~\n",
      "@ch10                 I don’t care.” \n",
      "@ch10                 I don’t care.” \n",
      "@ch10                 She doesn’t know. \n",
      "@ch10                 She doesn’t know. \n",
      "@ch3                  “I don’t know. \n",
      "@ch3                  She doesn’t care. \n",
      "~~~~~~~~~~~~~~~~~~~~~~~~~~~~~~~~~~~~~~~~~~~~~~~~~~\n",
      "@ch10                 “Don’t do this. \n",
      "@ch10                 “Don’t do this. \n",
      "@ch10                 “Look at that!” \n",
      "@ch10                 “Look at that!” \n",
      "@ch3                  Don’t do that. \n",
      "@ch8                  Look at this. \n",
      "~~~~~~~~~~~~~~~~~~~~~~~~~~~~~~~~~~~~~~~~~~~~~~~~~~\n",
      "@ch10                 He looks down. \n",
      "@ch10                 He looks down. \n",
      "@ch12                 She doesn’t understand. \n",
      "@ch12                 She doesn’t understand. \n",
      "@ch10                 He doesn’t understand. \n",
      "@ch9                  She looks down. \n",
      "~~~~~~~~~~~~~~~~~~~~~~~~~~~~~~~~~~~~~~~~~~~~~~~~~~\n",
      "@ch1                  First there was nothing. \n",
      "@ch1                  First there was nothing. \n",
      "@ch12                 Then there is everything. \n",
      "@ch12                 Then there is everything. \n",
      "@ch1                  Then there was everything. \n",
      "@ch12                 First there is nothing. \n",
      "~~~~~~~~~~~~~~~~~~~~~~~~~~~~~~~~~~~~~~~~~~~~~~~~~~\n",
      "@ch1                  Then there was everything. \n",
      "@ch1                  Then there was everything. \n",
      "@ch12                 First there is nothing. \n",
      "@ch12                 First there is nothing. \n",
      "@ch1                  First there was nothing. \n",
      "@ch12                 Then there is everything. \n",
      "~~~~~~~~~~~~~~~~~~~~~~~~~~~~~~~~~~~~~~~~~~~~~~~~~~\n",
      "@ch7                  “That’s what you did.” \n",
      "@ch7                  “That’s what you did.” \n",
      "@ch10                 What can I do? \n",
      "@ch10                 What can I do? \n",
      "@ch10                 “What can you do?” \n",
      "@ch11                 That’s what I did. \n",
      "~~~~~~~~~~~~~~~~~~~~~~~~~~~~~~~~~~~~~~~~~~~~~~~~~~\n",
      "@ch8                  where are we? \n",
      "@ch8                  where are we? \n",
      "@ch10                 “What are they saying now? \n",
      "@ch10                 “What are they saying now? \n",
      "@ch10                 What are they saying? \n",
      "@ch10                 Where are we now? \n",
      "~~~~~~~~~~~~~~~~~~~~~~~~~~~~~~~~~~~~~~~~~~~~~~~~~~\n",
      "@ch10                 “What can you do?” \n",
      "@ch10                 “What can you do?” \n",
      "@ch11                 That’s what I did. \n",
      "@ch11                 That’s what I did. \n",
      "@ch7                  “That’s what you did.” \n",
      "@ch10                 What can I do? \n",
      "~~~~~~~~~~~~~~~~~~~~~~~~~~~~~~~~~~~~~~~~~~~~~~~~~~\n",
      "@ch10                 Where are we now? \n",
      "@ch10                 Where are we now? \n",
      "@ch10                 What are they saying? \n",
      "@ch10                 What are they saying? \n",
      "@ch10                 “What are they saying now? \n",
      "@ch8                  where are we? \n",
      "~~~~~~~~~~~~~~~~~~~~~~~~~~~~~~~~~~~~~~~~~~~~~~~~~~\n",
      "@ch3                  “I know that. \n",
      "@ch3                  “I know that. \n",
      "@ch11                 “YOU CAN’T DO THIS. \n",
      "@ch11                 “YOU CAN’T DO THIS. \n",
      "@ch10                 “I can’t do this.” \n",
      "@ch5                  You know that. \n",
      "~~~~~~~~~~~~~~~~~~~~~~~~~~~~~~~~~~~~~~~~~~~~~~~~~~\n",
      "@ch5                  You know that. \n",
      "@ch5                  You know that. \n",
      "@ch10                 “I can’t do this.” \n",
      "@ch10                 “I can’t do this.” \n",
      "@ch3                  “I know that. \n",
      "@ch11                 “YOU CAN’T DO THIS. \n",
      "~~~~~~~~~~~~~~~~~~~~~~~~~~~~~~~~~~~~~~~~~~~~~~~~~~\n",
      "@ch10                 “I really don’t.” \n",
      "@ch10                 “I really don’t.” \n",
      "@ch11                 “YOU CAN’T DO THIS. \n",
      "@ch11                 “YOU CAN’T DO THIS. \n",
      "@ch10                 “I can’t do this.” \n",
      "@ch10                 You really don’t.” \n",
      "~~~~~~~~~~~~~~~~~~~~~~~~~~~~~~~~~~~~~~~~~~~~~~~~~~\n",
      "@ch10                 You really don’t.” \n",
      "@ch10                 You really don’t.” \n",
      "@ch10                 “I can’t do this.” \n",
      "@ch10                 “I can’t do this.” \n",
      "@ch10                 “I really don’t.” \n",
      "@ch11                 “YOU CAN’T DO THIS. \n",
      "~~~~~~~~~~~~~~~~~~~~~~~~~~~~~~~~~~~~~~~~~~~~~~~~~~\n",
      "@ch3                  She doesn’t care. \n",
      "@ch3                  She doesn’t care. \n",
      "@ch7                  Then he understands. \n",
      "@ch7                  Then he understands. \n",
      "@ch11                 Then she understands. \n",
      "@ch4                  He doesn’t care. \n",
      "~~~~~~~~~~~~~~~~~~~~~~~~~~~~~~~~~~~~~~~~~~~~~~~~~~\n",
      "@ch4                  He doesn’t care. \n",
      "@ch4                  He doesn’t care. \n",
      "@ch11                 Then she understands. \n",
      "@ch11                 Then she understands. \n",
      "@ch7                  Then he understands. \n",
      "@ch3                  She doesn’t care. \n",
      "~~~~~~~~~~~~~~~~~~~~~~~~~~~~~~~~~~~~~~~~~~~~~~~~~~\n",
      "@ch7                  Then he understands. \n",
      "@ch7                  Then he understands. \n",
      "@ch9                  She looks down. \n",
      "@ch9                  She looks down. \n",
      "@ch10                 He looks down. \n",
      "@ch11                 Then she understands. \n",
      "~~~~~~~~~~~~~~~~~~~~~~~~~~~~~~~~~~~~~~~~~~~~~~~~~~\n",
      "@ch7                  Then he understands. \n",
      "@ch7                  Then he understands. \n",
      "@ch12                 She doesn’t understand. \n",
      "@ch12                 She doesn’t understand. \n",
      "@ch10                 He doesn’t understand. \n",
      "@ch11                 Then she understands. \n",
      "~~~~~~~~~~~~~~~~~~~~~~~~~~~~~~~~~~~~~~~~~~~~~~~~~~\n",
      "@ch10                 He looks down. \n",
      "@ch10                 He looks down. \n",
      "@ch11                 Then she understands. \n",
      "@ch11                 Then she understands. \n",
      "@ch9                  She looks down. \n",
      "@ch7                  Then he understands. \n",
      "~~~~~~~~~~~~~~~~~~~~~~~~~~~~~~~~~~~~~~~~~~~~~~~~~~\n",
      "@ch10                 “No,” he says. \n",
      "@ch10                 “No,” he says. \n",
      "@ch10                 Maidenhair cries out. \n",
      "@ch10                 Maidenhair cries out. \n",
      "@ch10                 “No,” Maidenhair says. \n",
      "@ch12                 He cries out. \n",
      "~~~~~~~~~~~~~~~~~~~~~~~~~~~~~~~~~~~~~~~~~~~~~~~~~~\n",
      "@ch10                 He doesn’t understand. \n",
      "@ch10                 He doesn’t understand. \n",
      "@ch11                 Then she understands. \n",
      "@ch11                 Then she understands. \n",
      "@ch7                  Then he understands. \n",
      "@ch12                 She doesn’t understand. \n",
      "~~~~~~~~~~~~~~~~~~~~~~~~~~~~~~~~~~~~~~~~~~~~~~~~~~\n",
      "@ch10                 “No,” Maidenhair says. \n",
      "@ch10                 “No,” Maidenhair says. \n",
      "@ch12                 He cries out. \n",
      "@ch12                 He cries out. \n",
      "@ch10                 “No,” he says. \n",
      "@ch10                 Maidenhair cries out. \n",
      "~~~~~~~~~~~~~~~~~~~~~~~~~~~~~~~~~~~~~~~~~~~~~~~~~~\n",
      "@ch10                 “What can you do?” \n",
      "@ch10                 “What can you do?” \n",
      "@ch10                 “I can’t do this.” \n",
      "@ch10                 “I can’t do this.” \n",
      "@ch11                 “YOU CAN’T DO THIS. \n",
      "@ch10                 What can I do? \n",
      "~~~~~~~~~~~~~~~~~~~~~~~~~~~~~~~~~~~~~~~~~~~~~~~~~~\n",
      "@ch10                 What can I do? \n",
      "@ch10                 What can I do? \n",
      "@ch11                 “YOU CAN’T DO THIS. \n",
      "@ch11                 “YOU CAN’T DO THIS. \n",
      "@ch10                 “I can’t do this.” \n",
      "@ch10                 “What can you do?” \n",
      "~~~~~~~~~~~~~~~~~~~~~~~~~~~~~~~~~~~~~~~~~~~~~~~~~~\n",
      "@ch3                  Listen to me. \n",
      "@ch3                  Listen to me. \n",
      "@ch10                 “What do you want from him?” \n",
      "@ch10                 “What do you want from him?” \n",
      "@ch10                 What do you want from me? \n",
      "@ch10                 “Listen to him. \n",
      "~~~~~~~~~~~~~~~~~~~~~~~~~~~~~~~~~~~~~~~~~~~~~~~~~~\n",
      "@ch3                  “I know that. \n",
      "@ch3                  “I know that. \n",
      "@ch7                  “That’s what you did.” \n",
      "@ch7                  “That’s what you did.” \n",
      "@ch5                  You know that. \n",
      "@ch11                 That’s what I did. \n",
      "~~~~~~~~~~~~~~~~~~~~~~~~~~~~~~~~~~~~~~~~~~~~~~~~~~\n",
      "@ch3                  “I know that. \n",
      "@ch3                  “I know that. \n",
      "@ch10                 “What can you do?” \n",
      "@ch10                 “What can you do?” \n",
      "@ch5                  You know that. \n",
      "@ch10                 What can I do? \n",
      "~~~~~~~~~~~~~~~~~~~~~~~~~~~~~~~~~~~~~~~~~~~~~~~~~~\n",
      "@ch5                  You know that. \n",
      "@ch5                  You know that. \n",
      "@ch10                 What can I do? \n",
      "@ch10                 What can I do? \n",
      "@ch10                 “What can you do?” \n",
      "@ch3                  “I know that. \n",
      "~~~~~~~~~~~~~~~~~~~~~~~~~~~~~~~~~~~~~~~~~~~~~~~~~~\n",
      "@ch5                  You know that. \n",
      "@ch5                  You know that. \n",
      "@ch11                 That’s what I did. \n",
      "@ch11                 That’s what I did. \n",
      "@ch3                  “I know that. \n",
      "@ch7                  “That’s what you did.” \n",
      "~~~~~~~~~~~~~~~~~~~~~~~~~~~~~~~~~~~~~~~~~~~~~~~~~~\n",
      "@ch7                  “That’s what you did.” \n",
      "@ch7                  “That’s what you did.” \n",
      "@ch10                 “I really don’t.” \n",
      "@ch10                 “I really don’t.” \n",
      "@ch11                 That’s what I did. \n",
      "@ch10                 You really don’t.” \n",
      "~~~~~~~~~~~~~~~~~~~~~~~~~~~~~~~~~~~~~~~~~~~~~~~~~~\n",
      "@ch10                 What do you want from me? \n",
      "@ch10                 What do you want from me? \n",
      "@ch10                 “Listen to him. \n",
      "@ch10                 “Listen to him. \n",
      "@ch3                  Listen to me. \n",
      "@ch10                 “What do you want from him?” \n",
      "~~~~~~~~~~~~~~~~~~~~~~~~~~~~~~~~~~~~~~~~~~~~~~~~~~\n",
      "@ch10                 One more turn. \n",
      "@ch10                 One more turn. \n",
      "@ch11                 Just look at me. \n",
      "@ch11                 Just look at me. \n",
      "@ch10                 Just one more turn. \n",
      "@ch10                 Look at me! \n",
      "~~~~~~~~~~~~~~~~~~~~~~~~~~~~~~~~~~~~~~~~~~~~~~~~~~\n",
      "@ch10                 Just one more turn. \n",
      "@ch10                 Just one more turn. \n",
      "@ch10                 Look at me! \n",
      "@ch10                 Look at me! \n",
      "@ch10                 One more turn. \n",
      "@ch11                 Just look at me. \n",
      "~~~~~~~~~~~~~~~~~~~~~~~~~~~~~~~~~~~~~~~~~~~~~~~~~~\n",
      "@ch10                 “What can you do?” \n",
      "@ch10                 “What can you do?” \n",
      "@ch10                 “I really don’t.” \n",
      "@ch10                 “I really don’t.” \n",
      "@ch10                 You really don’t.” \n",
      "@ch10                 What can I do? \n",
      "~~~~~~~~~~~~~~~~~~~~~~~~~~~~~~~~~~~~~~~~~~~~~~~~~~\n",
      "@ch10                 You really don’t.” \n",
      "@ch10                 You really don’t.” \n",
      "@ch10                 What can I do? \n",
      "@ch10                 What can I do? \n",
      "@ch10                 “What can you do?” \n",
      "@ch10                 “I really don’t.” \n",
      "~~~~~~~~~~~~~~~~~~~~~~~~~~~~~~~~~~~~~~~~~~~~~~~~~~\n",
      "@ch10                 You really don’t.” \n",
      "@ch10                 You really don’t.” \n",
      "@ch11                 That’s what I did. \n",
      "@ch11                 That’s what I did. \n",
      "@ch10                 “I really don’t.” \n",
      "@ch7                  “That’s what you did.” \n",
      "~~~~~~~~~~~~~~~~~~~~~~~~~~~~~~~~~~~~~~~~~~~~~~~~~~\n",
      "@ch3                  “I don’t know. \n",
      "@ch3                  “I don’t know. \n",
      "@ch11                 What do you think, Den? \n",
      "@ch11                 What do you think, Den? \n",
      "@ch10                 What do you think? \n",
      "@ch10                 “Den, I don’t know. \n",
      "~~~~~~~~~~~~~~~~~~~~~~~~~~~~~~~~~~~~~~~~~~~~~~~~~~\n",
      "@ch7                  “That’s what you did.” \n",
      "@ch7                  “That’s what you did.” \n",
      "@ch10                 “I can’t do this.” \n",
      "@ch10                 “I can’t do this.” \n",
      "@ch11                 That’s what I did. \n",
      "@ch11                 “YOU CAN’T DO THIS. \n",
      "~~~~~~~~~~~~~~~~~~~~~~~~~~~~~~~~~~~~~~~~~~~~~~~~~~\n",
      "@ch10                 What do you think? \n",
      "@ch10                 What do you think? \n",
      "@ch10                 “Den, I don’t know. \n",
      "@ch10                 “Den, I don’t know. \n",
      "@ch11                 What do you think, Den? \n",
      "@ch3                  “I don’t know. \n",
      "~~~~~~~~~~~~~~~~~~~~~~~~~~~~~~~~~~~~~~~~~~~~~~~~~~\n",
      "@ch11                 That’s what I did. \n",
      "@ch11                 That’s what I did. \n",
      "@ch11                 “YOU CAN’T DO THIS. \n",
      "@ch11                 “YOU CAN’T DO THIS. \n",
      "@ch10                 “I can’t do this.” \n",
      "@ch7                  “That’s what you did.” \n",
      "~~~~~~~~~~~~~~~~~~~~~~~~~~~~~~~~~~~~~~~~~~~~~~~~~~\n",
      "@ch7                  I’m glad to see you.” \n",
      "@ch7                  I’m glad to see you.” \n",
      "@ch8                  Now she does, too. \n",
      "@ch8                  Now she does, too. \n",
      "@ch11                 She does, now. \n",
      "@ch7                  “I’m glad to see you, too.” \n",
      "~~~~~~~~~~~~~~~~~~~~~~~~~~~~~~~~~~~~~~~~~~~~~~~~~~\n",
      "@ch7                  “I’m glad to see you, too.” \n",
      "@ch7                  “I’m glad to see you, too.” \n",
      "@ch11                 She does, now. \n",
      "@ch11                 She does, now. \n",
      "@ch7                  I’m glad to see you.” \n",
      "@ch8                  Now she does, too. \n"
     ]
    }
   ],
   "source": [
    "stanza_sorter = stanza_sorter_maker(adj_list_ids)\n",
    "sorted_stanzas = sorted(stanzas, key=stanza_sorter)\n",
    "view_stanzas = sorted_stanzas[:100]\n",
    "\n",
    "for stanza in view_stanzas:\n",
    "    print(\"~\"*50)\n",
    "    #print(stanza_sorter(stanza))\n",
    "    for i in [0,0,1,1,2,3]:\n",
    "        t = stanza[i]\n",
    "        tweet = get_line(t)\n",
    "        print(f\"@{tweet['section']:20} {tweet['text']} \")"
   ]
  },
  {
   "cell_type": "code",
   "execution_count": null,
   "metadata": {},
   "outputs": [],
   "source": []
  },
  {
   "cell_type": "code",
   "execution_count": null,
   "metadata": {},
   "outputs": [],
   "source": []
  },
  {
   "cell_type": "code",
   "execution_count": null,
   "metadata": {},
   "outputs": [],
   "source": []
  },
  {
   "cell_type": "markdown",
   "metadata": {},
   "source": [
    "#### Look for complete paradelles"
   ]
  },
  {
   "cell_type": "code",
   "execution_count": 22,
   "metadata": {},
   "outputs": [],
   "source": [
    "def find_final_stanzas_helper(stanzas):\n",
    "    find_final_stanzas(*stanzas, adj_list_ids, adj_list_words)"
   ]
  },
  {
   "cell_type": "code",
   "execution_count": 23,
   "metadata": {},
   "outputs": [
    {
     "name": "stdout",
     "output_type": "stream",
     "text": [
      "Finding combos to check...\n",
      "searching for complete paradelles within found stanzas\n"
     ]
    },
    {
     "data": {
      "application/vnd.jupyter.widget-view+json": {
       "model_id": "f5ad1fec00354c958d2c494752ad9b8c",
       "version_major": 2,
       "version_minor": 0
      },
      "text/plain": [
       "HBox(children=(IntProgress(value=0, max=15304), HTML(value='')))"
      ]
     },
     "metadata": {},
     "output_type": "display_data"
    },
    {
     "name": "stdout",
     "output_type": "stream",
     "text": [
      "\n",
      "Found 0 poems.\n",
      "results saved to data/found_poems_book_[datetime].pickle\n"
     ]
    }
   ],
   "source": [
    "if len(all_valid) >= 0:\n",
    "    stanzas = get_stanzas(all_valid)\n",
    "\n",
    "    # find combos to chcek\n",
    "    print(\"Finding combos to check...\")\n",
    "    all_combos = combinations(stanzas, 3)\n",
    "    combos = [c for c in all_combos if len(set().union(*c)) == 12]\n",
    "\n",
    "    # look for complete paradelles\n",
    "    print(\"searching for complete paradelles within found stanzas\")\n",
    "    with Pool(os.cpu_count()) as pool:\n",
    "        res = list(\n",
    "            tqdm(pool.imap(find_final_stanzas_helper, combos), total=len(combos))\n",
    "        )\n",
    "    all_poems = [x for x in list(zip(combos, res)) if x[1]]\n",
    "    print(\"Found {} poems.\".format(len(all_poems)))\n",
    "    \n",
    "    if len(all_poems) > 0:\n",
    "        # get filename\n",
    "        filename = \"../data/found_poems_book_{}.pickle\".format(d.strftime(\"%Y-%m-%d-%H-%M\"))\n",
    "\n",
    "        # save to file\n",
    "        with open(filename, \"wb\") as f:\n",
    "            pickle.dump(all_valid, f)\n",
    "        print(\"results saved to data/found_poems_book_[datetime].pickle\")\n",
    "\n",
    "else:\n",
    "    print(\"No complete poems found :(\")"
   ]
  },
  {
   "cell_type": "code",
   "execution_count": null,
   "metadata": {},
   "outputs": [],
   "source": []
  }
 ],
 "metadata": {
  "kernelspec": {
   "display_name": "Python 3",
   "language": "python",
   "name": "python3"
  },
  "language_info": {
   "codemirror_mode": {
    "name": "ipython",
    "version": 3
   },
   "file_extension": ".py",
   "mimetype": "text/x-python",
   "name": "python",
   "nbconvert_exporter": "python",
   "pygments_lexer": "ipython3",
   "version": "3.7.3"
  }
 },
 "nbformat": 4,
 "nbformat_minor": 4
}
