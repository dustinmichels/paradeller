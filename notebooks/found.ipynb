{
 "cells": [
  {
   "cell_type": "code",
   "execution_count": 14,
   "metadata": {},
   "outputs": [
    {
     "name": "stdout",
     "output_type": "stream",
     "text": [
      "The autoreload extension is already loaded. To reload it, use:\n",
      "  %reload_ext autoreload\n"
     ]
    }
   ],
   "source": [
    "%load_ext autoreload\n",
    "%autoreload 2\n",
    "\n",
    "import sys; sys.path.insert(0, '..')\n",
    "import pickle\n",
    "\n",
    "from tqdm.auto import tqdm\n",
    "\n",
    "from paradeller.analysis import get_stanzas\n",
    "from paradeller.dataprep import load_and_prep\n",
    "\n",
    "# TMP\n",
    "from itertools import combinations\n",
    "\n",
    "from paradeller.samples import load_samples\n",
    "from paradeller.helper import (\n",
    "    load_archive,\n",
    "    save_to_pickle,\n",
    "    read_from_pickle\n",
    ")\n",
    "from paradeller.dataprep import (\n",
    "    tokenize,\n",
    "    find_duplicates,\n",
    "    filter_out_duplicates,\n",
    "    filter_out_short,\n",
    "    filter_out_oddballs,\n",
    "    filter_out_oddballs_recursive,\n",
    "    restructure_data,\n",
    "    create_adj_list_by_word,\n",
    "    create_adj_list_by_id\n",
    ")\n",
    "from paradeller.analysis import (\n",
    "    find_matches,\n",
    "    find_matches_for_start_pairs\n",
    ")"
   ]
  },
  {
   "cell_type": "code",
   "execution_count": 2,
   "metadata": {},
   "outputs": [],
   "source": [
    "# data, duplicates, adj_list_words, adj_list_ids = load_and_prep(use_pickle=True)\n",
    "\n",
    "# TO REFESH:\n",
    "# data, duplicates, adj_list_words, adj_list_ids = load_and_prep(use_pickle=False, update_pickle=True)"
   ]
  },
  {
   "cell_type": "code",
   "execution_count": 3,
   "metadata": {},
   "outputs": [],
   "source": [
    "def get_tweet(i):\n",
    "    \"\"\"Find tweet with given id\"\"\"\n",
    "    try:\n",
    "        return next(x for x in data if x[\"id\"] == i)\n",
    "    except StopIteration as e:\n",
    "        print(\"Error: No tweet with that ID\")\n",
    "        return None\n",
    "\n",
    "showlen = lambda data: print(f\"Length: {len(data):,}\")"
   ]
  },
  {
   "cell_type": "code",
   "execution_count": 4,
   "metadata": {},
   "outputs": [
    {
     "name": "stdout",
     "output_type": "stream",
     "text": [
      "Loading unprocessed sample data...\n",
      "Length: 72\n",
      "\n",
      "Cleaning up data...\n",
      "> Remove too short\n"
     ]
    },
    {
     "data": {
      "application/vnd.jupyter.widget-view+json": {
       "model_id": "785fb024e2754050a6f6cdc9ca07d417",
       "version_major": 2,
       "version_minor": 0
      },
      "text/plain": [
       "HBox(children=(IntProgress(value=0, max=72), HTML(value='')))"
      ]
     },
     "metadata": {},
     "output_type": "display_data"
    },
    {
     "name": "stdout",
     "output_type": "stream",
     "text": [
      "\n",
      "Length: 72\n",
      "> Remove duplicate phrases\n"
     ]
    },
    {
     "data": {
      "application/vnd.jupyter.widget-view+json": {
       "model_id": "6266d51ff21a4070bfb727102b7ef214",
       "version_major": 2,
       "version_minor": 0
      },
      "text/plain": [
       "HBox(children=(IntProgress(value=0, max=72), HTML(value='')))"
      ]
     },
     "metadata": {},
     "output_type": "display_data"
    },
    {
     "name": "stdout",
     "output_type": "stream",
     "text": [
      "\n",
      "Length: 53\n",
      "> Recursively remove oddballs\n"
     ]
    },
    {
     "data": {
      "application/vnd.jupyter.widget-view+json": {
       "model_id": "a396fdfe41dd413492511b5255da3f01",
       "version_major": 2,
       "version_minor": 0
      },
      "text/plain": [
       "HBox(children=(IntProgress(value=0, max=53), HTML(value='')))"
      ]
     },
     "metadata": {},
     "output_type": "display_data"
    },
    {
     "name": "stdout",
     "output_type": "stream",
     "text": [
      "\n",
      "7 tweets removed. Running again.\n"
     ]
    },
    {
     "data": {
      "application/vnd.jupyter.widget-view+json": {
       "model_id": "9a0088c627af426795a190c5647971b4",
       "version_major": 2,
       "version_minor": 0
      },
      "text/plain": [
       "HBox(children=(IntProgress(value=0, max=46), HTML(value='')))"
      ]
     },
     "metadata": {},
     "output_type": "display_data"
    },
    {
     "name": "stdout",
     "output_type": "stream",
     "text": [
      "\n",
      "7 tweets removed. Running again.\n"
     ]
    },
    {
     "data": {
      "application/vnd.jupyter.widget-view+json": {
       "model_id": "66b4076574544b40a75b72e2573be7e4",
       "version_major": 2,
       "version_minor": 0
      },
      "text/plain": [
       "HBox(children=(IntProgress(value=0, max=39), HTML(value='')))"
      ]
     },
     "metadata": {},
     "output_type": "display_data"
    },
    {
     "name": "stdout",
     "output_type": "stream",
     "text": [
      "\n",
      "13 tweets removed. Running again.\n"
     ]
    },
    {
     "data": {
      "application/vnd.jupyter.widget-view+json": {
       "model_id": "a2d43787fb9c438fb3d3a3ac38bf0512",
       "version_major": 2,
       "version_minor": 0
      },
      "text/plain": [
       "HBox(children=(IntProgress(value=0, max=26), HTML(value='')))"
      ]
     },
     "metadata": {},
     "output_type": "display_data"
    },
    {
     "name": "stdout",
     "output_type": "stream",
     "text": [
      "\n",
      "8 tweets removed. Running again.\n"
     ]
    },
    {
     "data": {
      "application/vnd.jupyter.widget-view+json": {
       "model_id": "79fd039dfabc46d49552655c991fde40",
       "version_major": 2,
       "version_minor": 0
      },
      "text/plain": [
       "HBox(children=(IntProgress(value=0, max=18), HTML(value='')))"
      ]
     },
     "metadata": {},
     "output_type": "display_data"
    },
    {
     "name": "stdout",
     "output_type": "stream",
     "text": [
      "\n",
      "Nothing removed. Done filtering.\n",
      "Length: 18\n",
      "\n",
      "Creating adjacency lists...\n"
     ]
    },
    {
     "data": {
      "application/vnd.jupyter.widget-view+json": {
       "model_id": "88f1a894559b4c9c8de8175c5557e85d",
       "version_major": 2,
       "version_minor": 0
      },
      "text/plain": [
       "HBox(children=(IntProgress(value=0, max=18), HTML(value='')))"
      ]
     },
     "metadata": {},
     "output_type": "display_data"
    },
    {
     "name": "stdout",
     "output_type": "stream",
     "text": [
      "\n",
      "--------------------------------------------------\n",
      "DONE\n",
      "\n",
      "data            type: <class 'list'>\tlen: 18\n",
      "duplicates      type: <class 'dict'>\tlen: 53\n",
      "adj_list_words  type: <class 'dict'>\tlen: 33\n",
      "adj_list_ids    type: <class 'dict'>\tlen: 18\n"
     ]
    }
   ],
   "source": [
    "#######################\n",
    "USE_PICKLE = False\n",
    "UPDATE_PICKLE = False\n",
    "USE_SAMPLE = True\n",
    "#######################\n",
    "\n",
    "\n",
    "if USE_PICKLE:\n",
    "    print(\"Loading real, processed data from pickle...\")\n",
    "    data, duplicates, adj_list_words, adj_list_ids = read_from_pickle()\n",
    "else:\n",
    "    if USE_SAMPLE:\n",
    "        print(\"Loading unprocessed sample data...\")\n",
    "        data = load_samples()\n",
    "    else:\n",
    "        print(\"Loading unprocessed real data...\")\n",
    "        data = load_archive()\n",
    "    \n",
    "    showlen(data)\n",
    "    print(\"\\nCleaning up data...\")\n",
    "\n",
    "    # remove too short\n",
    "    print(\"> Remove too short\")\n",
    "    data = filter_out_short(data)\n",
    "    showlen(data)\n",
    "    \n",
    "    # remove duplicate phrases\n",
    "    print(\"> Remove duplicate phrases\")\n",
    "    duplicates = find_duplicates(data)\n",
    "    data = filter_out_duplicates(data, duplicates)\n",
    "    showlen(data)\n",
    "\n",
    "    # remove oddballs (too few matches)\n",
    "    print(\"> Recursively remove oddballs\")\n",
    "    data = filter_out_oddballs_recursive(data)\n",
    "    showlen(data)\n",
    "\n",
    "    print(\"\\nCreating adjacency lists...\")\n",
    "    # make adj lists\n",
    "    adj_list_words, adj_list_ids = restructure_data(data)\n",
    "    \n",
    "    if UPDATE_PICKLE:\n",
    "        print(\"\\nSaving new data to pickle...\")\n",
    "        save_to_pickle((data, duplicates, adj_list_words, adj_list_ids))\n",
    "        \n",
    "    \n",
    "print(\"-\"*50)\n",
    "print(\"DONE\\n\")\n",
    "stuff = {\n",
    "    \"data\": data, \"duplicates\": duplicates, \"adj_list_words\": adj_list_words, \"adj_list_ids\": adj_list_ids\n",
    "}\n",
    "for k, v in stuff.items():\n",
    "    print(f\"{k:15} type: {type(v)}\\tlen: {len(v):,}\")"
   ]
  },
  {
   "cell_type": "code",
   "execution_count": 5,
   "metadata": {},
   "outputs": [],
   "source": [
    "def get_tweet(i):\n",
    "    \"\"\"Find tweet with given id\"\"\"\n",
    "    try:\n",
    "        return next(x for x in data if x[\"id\"] == i)\n",
    "    except StopIteration as e:\n",
    "        print(\"Error: No tweet with that ID\")\n",
    "        return None"
   ]
  },
  {
   "cell_type": "markdown",
   "metadata": {},
   "source": [
    "### Read Results"
   ]
  },
  {
   "cell_type": "code",
   "execution_count": 12,
   "metadata": {},
   "outputs": [],
   "source": [
    "ids = list(adj_list_ids.keys())"
   ]
  },
  {
   "cell_type": "code",
   "execution_count": 15,
   "metadata": {},
   "outputs": [],
   "source": [
    "pairs = list(combinations(ids, 2))"
   ]
  },
  {
   "cell_type": "code",
   "execution_count": 22,
   "metadata": {},
   "outputs": [
    {
     "data": {
      "application/vnd.jupyter.widget-view+json": {
       "model_id": "60293690f17541038384ad8a724933ea",
       "version_major": 2,
       "version_minor": 0
      },
      "text/plain": [
       "HBox(children=(IntProgress(value=0, max=153), HTML(value='')))"
      ]
     },
     "metadata": {},
     "output_type": "display_data"
    },
    {
     "name": "stdout",
     "output_type": "stream",
     "text": [
      "\n"
     ]
    }
   ],
   "source": [
    "all_valid = find_matches_for_start_pairs(pairs, adj_list_ids, adj_list_words)"
   ]
  },
  {
   "cell_type": "code",
   "execution_count": 24,
   "metadata": {},
   "outputs": [],
   "source": [
    "stanzas = get_stanzas(all_valid)"
   ]
  },
  {
   "cell_type": "code",
   "execution_count": 25,
   "metadata": {},
   "outputs": [
    {
     "data": {
      "text/plain": [
       "[(24, 26, 28, 29),\n",
       " (28, 29, 24, 26),\n",
       " (30, 32, 34, 35),\n",
       " (34, 35, 32, 30),\n",
       " (36, 38, 40, 41),\n",
       " (40, 41, 36, 38)]"
      ]
     },
     "execution_count": 25,
     "metadata": {},
     "output_type": "execute_result"
    }
   ],
   "source": [
    "stanzas"
   ]
  },
  {
   "cell_type": "code",
   "execution_count": null,
   "metadata": {},
   "outputs": [],
   "source": []
  },
  {
   "cell_type": "code",
   "execution_count": null,
   "metadata": {},
   "outputs": [],
   "source": []
  },
  {
   "cell_type": "code",
   "execution_count": 6,
   "metadata": {},
   "outputs": [],
   "source": [
    "with open('../data/found_2019-07-09-00-32.pickle', 'rb') as f:\n",
    "    all_valid = pickle.load(f)"
   ]
  },
  {
   "cell_type": "code",
   "execution_count": 5,
   "metadata": {},
   "outputs": [],
   "source": [
    "# all_valid = {}\n",
    "# for item in all_valid_lst:\n",
    "#     all_valid[item[0]] = item[1]"
   ]
  },
  {
   "cell_type": "code",
   "execution_count": 6,
   "metadata": {},
   "outputs": [
    {
     "data": {
      "text/plain": [
       "2023"
      ]
     },
     "execution_count": 6,
     "metadata": {},
     "output_type": "execute_result"
    }
   ],
   "source": [
    "len(all_valid)"
   ]
  },
  {
   "cell_type": "code",
   "execution_count": 7,
   "metadata": {},
   "outputs": [
    {
     "data": {
      "text/plain": [
       "2023"
      ]
     },
     "execution_count": 7,
     "metadata": {},
     "output_type": "execute_result"
    }
   ],
   "source": [
    "stanzas = get_stanzas(all_valid)\n",
    "# stanzas_text = [[get_tweet(x)['text'] for x in stanza] for stanza in tqdm(stanzas)]\n",
    "\n",
    "len(stanzas)"
   ]
  },
  {
   "cell_type": "code",
   "execution_count": 26,
   "metadata": {},
   "outputs": [
    {
     "data": {
      "text/plain": [
       "(24, 26, 28, 29)"
      ]
     },
     "execution_count": 26,
     "metadata": {},
     "output_type": "execute_result"
    }
   ],
   "source": [
    "stanzas[0]"
   ]
  },
  {
   "cell_type": "code",
   "execution_count": 27,
   "metadata": {},
   "outputs": [],
   "source": [
    "def stanza_sorter(stanza):\n",
    "    \"\"\"\n",
    "    Sort by interesting-ness\n",
    "    \"\"\"\n",
    "    \n",
    "    # --- points for length ---\n",
    "    ids = set(stanza)\n",
    "    len_pts = sum((len(adj_list_ids[i]) for i in ids))\n",
    "\n",
    "    \n",
    "    # --- points for variance --- \n",
    "    lineA = adj_list_ids[stanza[0]]\n",
    "    lineB = adj_list_ids[stanza[1]]\n",
    "    lineC = adj_list_ids[stanza[2]]\n",
    "    lineD = adj_list_ids[stanza[3]]\n",
    "    \n",
    "    # diff b/w A and B\n",
    "    diff_pts = len(set(lineA) ^ set(lineB))\n",
    "    \n",
    "    # points for different start words\n",
    "    start_letters = set((x[0] for x in [lineA, lineB, lineC, lineD]))\n",
    "    start_pts = len(start_letters)\n",
    "    \n",
    "    pts = sum((\n",
    "        len_pts,\n",
    "        (diff_pts * 8),\n",
    "        (start_pts * 20)\n",
    "    ))\n",
    "    return pts"
   ]
  },
  {
   "cell_type": "code",
   "execution_count": 28,
   "metadata": {},
   "outputs": [],
   "source": [
    "sorted_stanzas = sorted(stanzas, key=stanza_sorter, reverse=True)"
   ]
  },
  {
   "cell_type": "code",
   "execution_count": 29,
   "metadata": {},
   "outputs": [
    {
     "data": {
      "text/plain": [
       "174"
      ]
     },
     "execution_count": 29,
     "metadata": {},
     "output_type": "execute_result"
    }
   ],
   "source": [
    "# low\n",
    "stanza_sorter(sorted_stanzas[-1])"
   ]
  },
  {
   "cell_type": "code",
   "execution_count": 30,
   "metadata": {},
   "outputs": [
    {
     "data": {
      "text/plain": [
       "210"
      ]
     },
     "execution_count": 30,
     "metadata": {},
     "output_type": "execute_result"
    }
   ],
   "source": [
    "# high\n",
    "stanza_sorter(sorted_stanzas[0])"
   ]
  },
  {
   "cell_type": "code",
   "execution_count": 31,
   "metadata": {},
   "outputs": [
    {
     "name": "stdout",
     "output_type": "stream",
     "text": [
      "~~~~~~~~~~~~~~~~~~~~~~~~~~~~~~~~~~~~~~~~~~~~~~~~~~\n",
      "@unknown              ink like stains of sap fold down \n",
      "@unknown              ink like stains of sap fold down \n",
      "@unknown              brown and dripping tears that keep \n",
      "@unknown              brown and dripping tears that keep \n",
      "@unknown              sap like ink and stains of brown \n",
      "@unknown              tears that fold keep dripping down \n",
      "~~~~~~~~~~~~~~~~~~~~~~~~~~~~~~~~~~~~~~~~~~~~~~~~~~\n",
      "@unknown              sap like ink and stains of brown \n",
      "@unknown              sap like ink and stains of brown \n",
      "@unknown              tears that fold keep dripping down \n",
      "@unknown              tears that fold keep dripping down \n",
      "@unknown              brown and dripping tears that keep \n",
      "@unknown              ink like stains of sap fold down \n",
      "~~~~~~~~~~~~~~~~~~~~~~~~~~~~~~~~~~~~~~~~~~~~~~~~~~\n",
      "@unknown              tis the breeze beneath the cypress trees \n",
      "@unknown              tis the breeze beneath the cypress trees \n",
      "@unknown              where shady branches bend and bow \n",
      "@unknown              where shady branches bend and bow \n",
      "@unknown              beneath the bend and branches breeze \n",
      "@unknown              where the cypress bow tis shady trees \n",
      "~~~~~~~~~~~~~~~~~~~~~~~~~~~~~~~~~~~~~~~~~~~~~~~~~~\n",
      "@unknown              will such variegated colors blend \n",
      "@unknown              will such variegated colors blend \n",
      "@unknown              away within envelope of leaves \n",
      "@unknown              away within envelope of leaves \n",
      "@unknown              of such colors envelope within \n",
      "@unknown              variegated leaves away will blend \n",
      "~~~~~~~~~~~~~~~~~~~~~~~~~~~~~~~~~~~~~~~~~~~~~~~~~~\n",
      "@unknown              of such colors envelope within \n",
      "@unknown              of such colors envelope within \n",
      "@unknown              variegated leaves away will blend \n",
      "@unknown              variegated leaves away will blend \n",
      "@unknown              will such variegated colors blend \n",
      "@unknown              away within envelope of leaves \n"
     ]
    }
   ],
   "source": [
    "view_stanzas = sorted_stanzas[:5]\n",
    "\n",
    "for stanza in view_stanzas:\n",
    "    print(\"~\"*50)\n",
    "    #print(stanza_sorter(stanza))\n",
    "    for i in [0,0,1,1,2,3]:\n",
    "        t = stanza[i]\n",
    "        tweet = get_tweet(t)\n",
    "        print(f\"@{tweet['author']:20} {tweet['text']} \")"
   ]
  },
  {
   "cell_type": "markdown",
   "metadata": {},
   "source": [
    "### Find Complete Poems"
   ]
  },
  {
   "cell_type": "code",
   "execution_count": 52,
   "metadata": {},
   "outputs": [],
   "source": [
    "from itertools import combinations, chain\n",
    "from math import factorial as fact\n",
    "\n",
    "from paradeller.analysis import find_final_stanzas_from_stanzas"
   ]
  },
  {
   "cell_type": "code",
   "execution_count": 53,
   "metadata": {},
   "outputs": [
    {
     "data": {
      "text/plain": [
       "6"
      ]
     },
     "execution_count": 53,
     "metadata": {},
     "output_type": "execute_result"
    }
   ],
   "source": [
    "stanzas = get_stanzas(all_valid)\n",
    "\n",
    "# TMP\n",
    "stanzas = stanzas[:50]\n",
    "\n",
    "len(stanzas)"
   ]
  },
  {
   "cell_type": "code",
   "execution_count": 39,
   "metadata": {},
   "outputs": [
    {
     "data": {
      "text/plain": [
       "6"
      ]
     },
     "execution_count": 39,
     "metadata": {},
     "output_type": "execute_result"
    }
   ],
   "source": [
    "len(stanzas)"
   ]
  },
  {
   "cell_type": "code",
   "execution_count": 41,
   "metadata": {},
   "outputs": [
    {
     "data": {
      "text/plain": [
       "20"
      ]
     },
     "execution_count": 41,
     "metadata": {},
     "output_type": "execute_result"
    }
   ],
   "source": [
    "n = len(stanzas)\n",
    "r = 3\n",
    "num_combos = fact(n) // (fact(r) * fact(n - r))\n",
    "num_combos"
   ]
  },
  {
   "cell_type": "code",
   "execution_count": 79,
   "metadata": {},
   "outputs": [
    {
     "data": {
      "text/plain": [
       "[(24, 26, 28, 29),\n",
       " (28, 29, 24, 26),\n",
       " (30, 32, 34, 35),\n",
       " (34, 35, 32, 30),\n",
       " (36, 38, 40, 41),\n",
       " (40, 41, 36, 38)]"
      ]
     },
     "execution_count": 79,
     "metadata": {},
     "output_type": "execute_result"
    }
   ],
   "source": [
    "stanzas"
   ]
  },
  {
   "cell_type": "code",
   "execution_count": 80,
   "metadata": {},
   "outputs": [
    {
     "data": {
      "text/plain": [
       "[((24, 26, 28, 29), (30, 32, 34, 35), (36, 38, 40, 41)),\n",
       " ((24, 26, 28, 29), (30, 32, 34, 35), (40, 41, 36, 38)),\n",
       " ((24, 26, 28, 29), (34, 35, 32, 30), (36, 38, 40, 41)),\n",
       " ((24, 26, 28, 29), (34, 35, 32, 30), (40, 41, 36, 38)),\n",
       " ((28, 29, 24, 26), (30, 32, 34, 35), (36, 38, 40, 41)),\n",
       " ((28, 29, 24, 26), (30, 32, 34, 35), (40, 41, 36, 38)),\n",
       " ((28, 29, 24, 26), (34, 35, 32, 30), (36, 38, 40, 41)),\n",
       " ((28, 29, 24, 26), (34, 35, 32, 30), (40, 41, 36, 38))]"
      ]
     },
     "execution_count": 80,
     "metadata": {},
     "output_type": "execute_result"
    }
   ],
   "source": [
    "all_combos = combinations(stanzas, 3)\n",
    "combos = [c for c in all_combos if len(set().union(*c)) == 12]\n",
    "combos"
   ]
  },
  {
   "cell_type": "code",
   "execution_count": null,
   "metadata": {},
   "outputs": [],
   "source": [
    "from multiprocessing import Pool\n",
    "import os\n",
    "from paradeller.analysis import find_final_stanzas"
   ]
  },
  {
   "cell_type": "code",
   "execution_count": 81,
   "metadata": {},
   "outputs": [],
   "source": [
    "def find_final_stanzas_helper(stanzas):\n",
    "    find_final_stanzas(*stanzas, adj_list_ids, adj_list_words)"
   ]
  },
  {
   "cell_type": "code",
   "execution_count": 83,
   "metadata": {},
   "outputs": [],
   "source": []
  },
  {
   "cell_type": "code",
   "execution_count": 85,
   "metadata": {},
   "outputs": [
    {
     "data": {
      "application/vnd.jupyter.widget-view+json": {
       "model_id": "a6a6402034d04055a7095c08204ce4a0",
       "version_major": 2,
       "version_minor": 0
      },
      "text/plain": [
       "HBox(children=(IntProgress(value=0, max=8), HTML(value='')))"
      ]
     },
     "metadata": {},
     "output_type": "display_data"
    },
    {
     "ename": "NameError",
     "evalue": "name 'find_final_stanzas' is not defined",
     "output_type": "error",
     "traceback": [
      "\u001b[0;31m---------------------------------------------------------------------------\u001b[0m",
      "\u001b[0;31mRemoteTraceback\u001b[0m                           Traceback (most recent call last)",
      "\u001b[0;31mRemoteTraceback\u001b[0m: \n\"\"\"\nTraceback (most recent call last):\n  File \"/Users/dustinmichels/miniconda3/lib/python3.7/multiprocessing/pool.py\", line 121, in worker\n    result = (True, func(*args, **kwds))\n  File \"<ipython-input-81-04a8b740d6b1>\", line 2, in find_final_stanzas_helper\n    find_final_stanzas(*stanzas, adj_list_ids, adj_list_words)\nNameError: name 'find_final_stanzas' is not defined\n\"\"\"",
      "\nThe above exception was the direct cause of the following exception:\n",
      "\u001b[0;31mNameError\u001b[0m                                 Traceback (most recent call last)",
      "\u001b[0;32m<ipython-input-85-c4c5bba107bc>\u001b[0m in \u001b[0;36m<module>\u001b[0;34m\u001b[0m\n\u001b[1;32m      1\u001b[0m \u001b[0;32mwith\u001b[0m \u001b[0mPool\u001b[0m\u001b[0;34m(\u001b[0m\u001b[0mos\u001b[0m\u001b[0;34m.\u001b[0m\u001b[0mcpu_count\u001b[0m\u001b[0;34m(\u001b[0m\u001b[0;34m)\u001b[0m\u001b[0;34m)\u001b[0m \u001b[0;32mas\u001b[0m \u001b[0mpool\u001b[0m\u001b[0;34m:\u001b[0m\u001b[0;34m\u001b[0m\u001b[0;34m\u001b[0m\u001b[0m\n\u001b[1;32m      2\u001b[0m             res = list(\n\u001b[0;32m----> 3\u001b[0;31m                 \u001b[0mtqdm\u001b[0m\u001b[0;34m(\u001b[0m\u001b[0mpool\u001b[0m\u001b[0;34m.\u001b[0m\u001b[0mimap\u001b[0m\u001b[0;34m(\u001b[0m\u001b[0mfind_final_stanzas_helper\u001b[0m\u001b[0;34m,\u001b[0m \u001b[0mcombos\u001b[0m\u001b[0;34m)\u001b[0m\u001b[0;34m,\u001b[0m \u001b[0mtotal\u001b[0m\u001b[0;34m=\u001b[0m\u001b[0mlen\u001b[0m\u001b[0;34m(\u001b[0m\u001b[0mcombos\u001b[0m\u001b[0;34m)\u001b[0m\u001b[0;34m)\u001b[0m\u001b[0;34m\u001b[0m\u001b[0;34m\u001b[0m\u001b[0m\n\u001b[0m\u001b[1;32m      4\u001b[0m             )\n",
      "\u001b[0;32m~/.local/share/virtualenvs/paradeller-C09ypuU2/lib/python3.7/site-packages/tqdm/_tqdm_notebook.py\u001b[0m in \u001b[0;36m__iter__\u001b[0;34m(self, *args, **kwargs)\u001b[0m\n\u001b[1;32m    221\u001b[0m     \u001b[0;32mdef\u001b[0m \u001b[0m__iter__\u001b[0m\u001b[0;34m(\u001b[0m\u001b[0mself\u001b[0m\u001b[0;34m,\u001b[0m \u001b[0;34m*\u001b[0m\u001b[0margs\u001b[0m\u001b[0;34m,\u001b[0m \u001b[0;34m**\u001b[0m\u001b[0mkwargs\u001b[0m\u001b[0;34m)\u001b[0m\u001b[0;34m:\u001b[0m\u001b[0;34m\u001b[0m\u001b[0;34m\u001b[0m\u001b[0m\n\u001b[1;32m    222\u001b[0m         \u001b[0;32mtry\u001b[0m\u001b[0;34m:\u001b[0m\u001b[0;34m\u001b[0m\u001b[0;34m\u001b[0m\u001b[0m\n\u001b[0;32m--> 223\u001b[0;31m             \u001b[0;32mfor\u001b[0m \u001b[0mobj\u001b[0m \u001b[0;32min\u001b[0m \u001b[0msuper\u001b[0m\u001b[0;34m(\u001b[0m\u001b[0mtqdm_notebook\u001b[0m\u001b[0;34m,\u001b[0m \u001b[0mself\u001b[0m\u001b[0;34m)\u001b[0m\u001b[0;34m.\u001b[0m\u001b[0m__iter__\u001b[0m\u001b[0;34m(\u001b[0m\u001b[0;34m*\u001b[0m\u001b[0margs\u001b[0m\u001b[0;34m,\u001b[0m \u001b[0;34m**\u001b[0m\u001b[0mkwargs\u001b[0m\u001b[0;34m)\u001b[0m\u001b[0;34m:\u001b[0m\u001b[0;34m\u001b[0m\u001b[0;34m\u001b[0m\u001b[0m\n\u001b[0m\u001b[1;32m    224\u001b[0m                 \u001b[0;31m# return super(tqdm...) will not catch exception\u001b[0m\u001b[0;34m\u001b[0m\u001b[0;34m\u001b[0m\u001b[0;34m\u001b[0m\u001b[0m\n\u001b[1;32m    225\u001b[0m                 \u001b[0;32myield\u001b[0m \u001b[0mobj\u001b[0m\u001b[0;34m\u001b[0m\u001b[0;34m\u001b[0m\u001b[0m\n",
      "\u001b[0;32m~/.local/share/virtualenvs/paradeller-C09ypuU2/lib/python3.7/site-packages/tqdm/_tqdm.py\u001b[0m in \u001b[0;36m__iter__\u001b[0;34m(self)\u001b[0m\n\u001b[1;32m   1015\u001b[0m                 \"\"\"), fp_write=getattr(self.fp, 'write', sys.stderr.write))\n\u001b[1;32m   1016\u001b[0m \u001b[0;34m\u001b[0m\u001b[0m\n\u001b[0;32m-> 1017\u001b[0;31m             \u001b[0;32mfor\u001b[0m \u001b[0mobj\u001b[0m \u001b[0;32min\u001b[0m \u001b[0miterable\u001b[0m\u001b[0;34m:\u001b[0m\u001b[0;34m\u001b[0m\u001b[0;34m\u001b[0m\u001b[0m\n\u001b[0m\u001b[1;32m   1018\u001b[0m                 \u001b[0;32myield\u001b[0m \u001b[0mobj\u001b[0m\u001b[0;34m\u001b[0m\u001b[0;34m\u001b[0m\u001b[0m\n\u001b[1;32m   1019\u001b[0m                 \u001b[0;31m# Update and possibly print the progressbar.\u001b[0m\u001b[0;34m\u001b[0m\u001b[0;34m\u001b[0m\u001b[0;34m\u001b[0m\u001b[0m\n",
      "\u001b[0;32m~/miniconda3/lib/python3.7/multiprocessing/pool.py\u001b[0m in \u001b[0;36mnext\u001b[0;34m(self, timeout)\u001b[0m\n\u001b[1;32m    746\u001b[0m         \u001b[0;32mif\u001b[0m \u001b[0msuccess\u001b[0m\u001b[0;34m:\u001b[0m\u001b[0;34m\u001b[0m\u001b[0;34m\u001b[0m\u001b[0m\n\u001b[1;32m    747\u001b[0m             \u001b[0;32mreturn\u001b[0m \u001b[0mvalue\u001b[0m\u001b[0;34m\u001b[0m\u001b[0;34m\u001b[0m\u001b[0m\n\u001b[0;32m--> 748\u001b[0;31m         \u001b[0;32mraise\u001b[0m \u001b[0mvalue\u001b[0m\u001b[0;34m\u001b[0m\u001b[0;34m\u001b[0m\u001b[0m\n\u001b[0m\u001b[1;32m    749\u001b[0m \u001b[0;34m\u001b[0m\u001b[0m\n\u001b[1;32m    750\u001b[0m     \u001b[0m__next__\u001b[0m \u001b[0;34m=\u001b[0m \u001b[0mnext\u001b[0m                    \u001b[0;31m# XXX\u001b[0m\u001b[0;34m\u001b[0m\u001b[0;34m\u001b[0m\u001b[0m\n",
      "\u001b[0;31mNameError\u001b[0m: name 'find_final_stanzas' is not defined"
     ]
    }
   ],
   "source": [
    "with Pool(os.cpu_count()) as pool:\n",
    "            res = list(\n",
    "                tqdm(pool.imap(find_final_stanzas_helper, combos), total=len(combos))\n",
    "            )"
   ]
  },
  {
   "cell_type": "code",
   "execution_count": null,
   "metadata": {},
   "outputs": [],
   "source": []
  },
  {
   "cell_type": "code",
   "execution_count": null,
   "metadata": {},
   "outputs": [],
   "source": []
  },
  {
   "cell_type": "code",
   "execution_count": null,
   "metadata": {},
   "outputs": [],
   "source": []
  },
  {
   "cell_type": "code",
   "execution_count": null,
   "metadata": {},
   "outputs": [],
   "source": []
  },
  {
   "cell_type": "code",
   "execution_count": 54,
   "metadata": {},
   "outputs": [
    {
     "data": {
      "application/vnd.jupyter.widget-view+json": {
       "model_id": "5595f99955e34da9b5ad4732c8adaa78",
       "version_major": 2,
       "version_minor": 0
      },
      "text/plain": [
       "HBox(children=(IntProgress(value=1, bar_style='info', max=1), HTML(value='')))"
      ]
     },
     "metadata": {},
     "output_type": "display_data"
    },
    {
     "name": "stdout",
     "output_type": "stream",
     "text": [
      "\n"
     ]
    }
   ],
   "source": [
    "found = find_final_stanzas_from_stanzas(stanzas, adj_list_ids, adj_list_words)"
   ]
  },
  {
   "cell_type": "code",
   "execution_count": 45,
   "metadata": {},
   "outputs": [
    {
     "data": {
      "text/plain": [
       "{((24, 26, 28, 29),\n",
       "  (30, 32, 34, 35),\n",
       "  (36, 38, 40, 41)): [(42, 43, 44, 45, 46, 47)],\n",
       " ((24, 26, 28, 29),\n",
       "  (30, 32, 34, 35),\n",
       "  (40, 41, 36, 38)): [(42, 43, 44, 45, 46, 47)],\n",
       " ((24, 26, 28, 29),\n",
       "  (34, 35, 32, 30),\n",
       "  (36, 38, 40, 41)): [(42, 43, 44, 45, 46, 47)],\n",
       " ((24, 26, 28, 29),\n",
       "  (34, 35, 32, 30),\n",
       "  (40, 41, 36, 38)): [(42, 43, 44, 45, 46, 47)],\n",
       " ((28, 29, 24, 26),\n",
       "  (30, 32, 34, 35),\n",
       "  (36, 38, 40, 41)): [(42, 43, 44, 45, 46, 47)],\n",
       " ((28, 29, 24, 26),\n",
       "  (30, 32, 34, 35),\n",
       "  (40, 41, 36, 38)): [(42, 43, 44, 45, 46, 47)],\n",
       " ((28, 29, 24, 26),\n",
       "  (34, 35, 32, 30),\n",
       "  (36, 38, 40, 41)): [(42, 43, 44, 45, 46, 47)],\n",
       " ((28, 29, 24, 26),\n",
       "  (34, 35, 32, 30),\n",
       "  (40, 41, 36, 38)): [(42, 43, 44, 45, 46, 47)]}"
      ]
     },
     "execution_count": 45,
     "metadata": {},
     "output_type": "execute_result"
    }
   ],
   "source": [
    "found"
   ]
  },
  {
   "cell_type": "code",
   "execution_count": 51,
   "metadata": {},
   "outputs": [
    {
     "name": "stdout",
     "output_type": "stream",
     "text": [
      "~~~~~~~~~~~~~~~~~~~~~~~~~~~~~~~~~~~~~~~~~~~~~~~~~~\n",
      "@unknown              tis the breeze beneath the cypress trees \n",
      "@unknown              tis the breeze beneath the cypress trees \n",
      "@unknown              where shady branches bend and bow \n",
      "@unknown              where shady branches bend and bow \n",
      "@unknown              beneath the bend and branches breeze \n",
      "@unknown              where the cypress bow tis shady trees \n",
      "\n",
      "@unknown              ink like stains of sap fold down \n",
      "@unknown              ink like stains of sap fold down \n",
      "@unknown              brown and dripping tears that keep \n",
      "@unknown              brown and dripping tears that keep \n",
      "@unknown              sap like ink and stains of brown \n",
      "@unknown              tears that fold keep dripping down \n",
      "\n",
      "@unknown              will such variegated colors blend \n",
      "@unknown              will such variegated colors blend \n",
      "@unknown              away within envelope of leaves \n",
      "@unknown              away within envelope of leaves \n",
      "@unknown              of such colors envelope within \n",
      "@unknown              variegated leaves away will blend \n",
      "\n",
      "@unknown              within the sap tis shady brown \n",
      "@unknown              and keep the breeze of that fold down \n",
      "@unknown              variegated stains away will blend \n",
      "@unknown              where colors bow and branches bend \n",
      "@unknown              tears of ink envelope like leaves \n",
      "@unknown              beneath such dripping cypress trees \n",
      "~~~~~~~~~~~~~~~~~~~~~~~~~~~~~~~~~~~~~~~~~~~~~~~~~~\n",
      "@unknown              tis the breeze beneath the cypress trees \n",
      "@unknown              tis the breeze beneath the cypress trees \n",
      "@unknown              where shady branches bend and bow \n",
      "@unknown              where shady branches bend and bow \n",
      "@unknown              beneath the bend and branches breeze \n",
      "@unknown              where the cypress bow tis shady trees \n",
      "\n",
      "@unknown              ink like stains of sap fold down \n",
      "@unknown              ink like stains of sap fold down \n",
      "@unknown              brown and dripping tears that keep \n",
      "@unknown              brown and dripping tears that keep \n",
      "@unknown              sap like ink and stains of brown \n",
      "@unknown              tears that fold keep dripping down \n",
      "\n",
      "@unknown              of such colors envelope within \n",
      "@unknown              of such colors envelope within \n",
      "@unknown              variegated leaves away will blend \n",
      "@unknown              variegated leaves away will blend \n",
      "@unknown              will such variegated colors blend \n",
      "@unknown              away within envelope of leaves \n",
      "\n",
      "@unknown              within the sap tis shady brown \n",
      "@unknown              and keep the breeze of that fold down \n",
      "@unknown              variegated stains away will blend \n",
      "@unknown              where colors bow and branches bend \n",
      "@unknown              tears of ink envelope like leaves \n",
      "@unknown              beneath such dripping cypress trees \n",
      "~~~~~~~~~~~~~~~~~~~~~~~~~~~~~~~~~~~~~~~~~~~~~~~~~~\n",
      "@unknown              tis the breeze beneath the cypress trees \n",
      "@unknown              tis the breeze beneath the cypress trees \n",
      "@unknown              where shady branches bend and bow \n",
      "@unknown              where shady branches bend and bow \n",
      "@unknown              beneath the bend and branches breeze \n",
      "@unknown              where the cypress bow tis shady trees \n",
      "\n",
      "@unknown              sap like ink and stains of brown \n",
      "@unknown              sap like ink and stains of brown \n",
      "@unknown              tears that fold keep dripping down \n",
      "@unknown              tears that fold keep dripping down \n",
      "@unknown              brown and dripping tears that keep \n",
      "@unknown              ink like stains of sap fold down \n",
      "\n",
      "@unknown              will such variegated colors blend \n",
      "@unknown              will such variegated colors blend \n",
      "@unknown              away within envelope of leaves \n",
      "@unknown              away within envelope of leaves \n",
      "@unknown              of such colors envelope within \n",
      "@unknown              variegated leaves away will blend \n",
      "\n",
      "@unknown              within the sap tis shady brown \n",
      "@unknown              and keep the breeze of that fold down \n",
      "@unknown              variegated stains away will blend \n",
      "@unknown              where colors bow and branches bend \n",
      "@unknown              tears of ink envelope like leaves \n",
      "@unknown              beneath such dripping cypress trees \n",
      "~~~~~~~~~~~~~~~~~~~~~~~~~~~~~~~~~~~~~~~~~~~~~~~~~~\n",
      "@unknown              tis the breeze beneath the cypress trees \n",
      "@unknown              tis the breeze beneath the cypress trees \n",
      "@unknown              where shady branches bend and bow \n",
      "@unknown              where shady branches bend and bow \n",
      "@unknown              beneath the bend and branches breeze \n",
      "@unknown              where the cypress bow tis shady trees \n",
      "\n",
      "@unknown              sap like ink and stains of brown \n",
      "@unknown              sap like ink and stains of brown \n",
      "@unknown              tears that fold keep dripping down \n",
      "@unknown              tears that fold keep dripping down \n",
      "@unknown              brown and dripping tears that keep \n",
      "@unknown              ink like stains of sap fold down \n",
      "\n",
      "@unknown              of such colors envelope within \n",
      "@unknown              of such colors envelope within \n",
      "@unknown              variegated leaves away will blend \n",
      "@unknown              variegated leaves away will blend \n",
      "@unknown              will such variegated colors blend \n",
      "@unknown              away within envelope of leaves \n",
      "\n",
      "@unknown              within the sap tis shady brown \n",
      "@unknown              and keep the breeze of that fold down \n",
      "@unknown              variegated stains away will blend \n",
      "@unknown              where colors bow and branches bend \n",
      "@unknown              tears of ink envelope like leaves \n",
      "@unknown              beneath such dripping cypress trees \n",
      "~~~~~~~~~~~~~~~~~~~~~~~~~~~~~~~~~~~~~~~~~~~~~~~~~~\n",
      "@unknown              beneath the bend and branches breeze \n",
      "@unknown              beneath the bend and branches breeze \n",
      "@unknown              where the cypress bow tis shady trees \n",
      "@unknown              where the cypress bow tis shady trees \n",
      "@unknown              tis the breeze beneath the cypress trees \n",
      "@unknown              where shady branches bend and bow \n",
      "\n",
      "@unknown              ink like stains of sap fold down \n",
      "@unknown              ink like stains of sap fold down \n",
      "@unknown              brown and dripping tears that keep \n",
      "@unknown              brown and dripping tears that keep \n",
      "@unknown              sap like ink and stains of brown \n",
      "@unknown              tears that fold keep dripping down \n",
      "\n",
      "@unknown              will such variegated colors blend \n",
      "@unknown              will such variegated colors blend \n",
      "@unknown              away within envelope of leaves \n",
      "@unknown              away within envelope of leaves \n",
      "@unknown              of such colors envelope within \n",
      "@unknown              variegated leaves away will blend \n",
      "\n",
      "@unknown              within the sap tis shady brown \n",
      "@unknown              and keep the breeze of that fold down \n",
      "@unknown              variegated stains away will blend \n",
      "@unknown              where colors bow and branches bend \n",
      "@unknown              tears of ink envelope like leaves \n",
      "@unknown              beneath such dripping cypress trees \n",
      "~~~~~~~~~~~~~~~~~~~~~~~~~~~~~~~~~~~~~~~~~~~~~~~~~~\n",
      "@unknown              beneath the bend and branches breeze \n",
      "@unknown              beneath the bend and branches breeze \n",
      "@unknown              where the cypress bow tis shady trees \n",
      "@unknown              where the cypress bow tis shady trees \n",
      "@unknown              tis the breeze beneath the cypress trees \n",
      "@unknown              where shady branches bend and bow \n",
      "\n",
      "@unknown              ink like stains of sap fold down \n",
      "@unknown              ink like stains of sap fold down \n",
      "@unknown              brown and dripping tears that keep \n",
      "@unknown              brown and dripping tears that keep \n",
      "@unknown              sap like ink and stains of brown \n",
      "@unknown              tears that fold keep dripping down \n",
      "\n",
      "@unknown              of such colors envelope within \n",
      "@unknown              of such colors envelope within \n",
      "@unknown              variegated leaves away will blend \n",
      "@unknown              variegated leaves away will blend \n",
      "@unknown              will such variegated colors blend \n",
      "@unknown              away within envelope of leaves \n",
      "\n",
      "@unknown              within the sap tis shady brown \n",
      "@unknown              and keep the breeze of that fold down \n",
      "@unknown              variegated stains away will blend \n",
      "@unknown              where colors bow and branches bend \n",
      "@unknown              tears of ink envelope like leaves \n",
      "@unknown              beneath such dripping cypress trees \n",
      "~~~~~~~~~~~~~~~~~~~~~~~~~~~~~~~~~~~~~~~~~~~~~~~~~~\n",
      "@unknown              beneath the bend and branches breeze \n",
      "@unknown              beneath the bend and branches breeze \n",
      "@unknown              where the cypress bow tis shady trees \n",
      "@unknown              where the cypress bow tis shady trees \n",
      "@unknown              tis the breeze beneath the cypress trees \n",
      "@unknown              where shady branches bend and bow \n",
      "\n",
      "@unknown              sap like ink and stains of brown \n",
      "@unknown              sap like ink and stains of brown \n",
      "@unknown              tears that fold keep dripping down \n",
      "@unknown              tears that fold keep dripping down \n",
      "@unknown              brown and dripping tears that keep \n",
      "@unknown              ink like stains of sap fold down \n",
      "\n",
      "@unknown              will such variegated colors blend \n",
      "@unknown              will such variegated colors blend \n",
      "@unknown              away within envelope of leaves \n",
      "@unknown              away within envelope of leaves \n",
      "@unknown              of such colors envelope within \n",
      "@unknown              variegated leaves away will blend \n",
      "\n",
      "@unknown              within the sap tis shady brown \n",
      "@unknown              and keep the breeze of that fold down \n",
      "@unknown              variegated stains away will blend \n",
      "@unknown              where colors bow and branches bend \n",
      "@unknown              tears of ink envelope like leaves \n",
      "@unknown              beneath such dripping cypress trees \n",
      "~~~~~~~~~~~~~~~~~~~~~~~~~~~~~~~~~~~~~~~~~~~~~~~~~~\n",
      "@unknown              beneath the bend and branches breeze \n",
      "@unknown              beneath the bend and branches breeze \n",
      "@unknown              where the cypress bow tis shady trees \n",
      "@unknown              where the cypress bow tis shady trees \n",
      "@unknown              tis the breeze beneath the cypress trees \n",
      "@unknown              where shady branches bend and bow \n",
      "\n",
      "@unknown              sap like ink and stains of brown \n",
      "@unknown              sap like ink and stains of brown \n",
      "@unknown              tears that fold keep dripping down \n",
      "@unknown              tears that fold keep dripping down \n",
      "@unknown              brown and dripping tears that keep \n",
      "@unknown              ink like stains of sap fold down \n",
      "\n",
      "@unknown              of such colors envelope within \n",
      "@unknown              of such colors envelope within \n",
      "@unknown              variegated leaves away will blend \n",
      "@unknown              variegated leaves away will blend \n",
      "@unknown              will such variegated colors blend \n",
      "@unknown              away within envelope of leaves \n",
      "\n",
      "@unknown              within the sap tis shady brown \n",
      "@unknown              and keep the breeze of that fold down \n",
      "@unknown              variegated stains away will blend \n",
      "@unknown              where colors bow and branches bend \n",
      "@unknown              tears of ink envelope like leaves \n",
      "@unknown              beneath such dripping cypress trees \n"
     ]
    }
   ],
   "source": [
    "for start_stanzas, end_stanzas in found.items():\n",
    "    print(\"~\"*50)\n",
    "    for stanza in start_stanzas:\n",
    "        for i in [0,0,1,1,2,3]:\n",
    "            t = stanza[i]\n",
    "            tweet = get_tweet(t)\n",
    "            print(f\"@{tweet['author']:20} {tweet['text']} \")\n",
    "        print(\"\")\n",
    "    for stanza in end_stanzas:\n",
    "        for line in stanza:\n",
    "            tweet = get_tweet(line)\n",
    "            print(f\"@{tweet['author']:20} {tweet['text']} \")"
   ]
  },
  {
   "cell_type": "code",
   "execution_count": null,
   "metadata": {},
   "outputs": [],
   "source": []
  },
  {
   "cell_type": "code",
   "execution_count": null,
   "metadata": {},
   "outputs": [],
   "source": []
  },
  {
   "cell_type": "code",
   "execution_count": 81,
   "metadata": {},
   "outputs": [
    {
     "data": {
      "text/plain": [
       "(1146571689473523714,\n",
       " 1146265241896009730,\n",
       " 1146613407090483200,\n",
       " 1146715924226908160)"
      ]
     },
     "execution_count": 81,
     "metadata": {},
     "output_type": "execute_result"
    }
   ],
   "source": [
    "stanzas[0]"
   ]
  },
  {
   "cell_type": "markdown",
   "metadata": {},
   "source": [
    "Number of combos:\n",
    "\n",
    "- $n$ = types to choose from\n",
    "- $r$ = number chosen\n",
    "\n",
    "$\\frac{n!}{r!(n-r)!}$"
   ]
  },
  {
   "cell_type": "code",
   "execution_count": 82,
   "metadata": {},
   "outputs": [
    {
     "data": {
      "text/plain": [
       "19600"
      ]
     },
     "execution_count": 82,
     "metadata": {},
     "output_type": "execute_result"
    }
   ],
   "source": [
    "n = len(stanzas)\n",
    "r = 3\n",
    "\n",
    "num_combos = fact(n) // (fact(r) * fact(n-r))\n",
    "num_combos"
   ]
  },
  {
   "cell_type": "code",
   "execution_count": 86,
   "metadata": {},
   "outputs": [],
   "source": [
    "all_combos = combinations(stanzas, 3)"
   ]
  },
  {
   "cell_type": "code",
   "execution_count": 87,
   "metadata": {},
   "outputs": [],
   "source": [
    "# filtered generator\n",
    "combos = (\n",
    "    c for c in all_combos\n",
    "    if len(set().union(*c)) == 12\n",
    ")"
   ]
  }
 ],
 "metadata": {
  "kernelspec": {
   "display_name": "Python 3",
   "language": "python",
   "name": "python3"
  },
  "language_info": {
   "codemirror_mode": {
    "name": "ipython",
    "version": 3
   },
   "file_extension": ".py",
   "mimetype": "text/x-python",
   "name": "python",
   "nbconvert_exporter": "python",
   "pygments_lexer": "ipython3",
   "version": "3.7.3"
  }
 },
 "nbformat": 4,
 "nbformat_minor": 4
}
