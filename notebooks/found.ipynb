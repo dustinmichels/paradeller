{
 "cells": [
  {
   "cell_type": "code",
   "execution_count": 1,
   "metadata": {},
   "outputs": [],
   "source": [
    "%load_ext autoreload\n",
    "%autoreload 2\n",
    "\n",
    "import sys; sys.path.insert(0, '..')\n",
    "\n",
    "from datetime import datetime\n",
    "import json\n",
    "import os\n",
    "\n",
    "from tqdm.auto import tqdm\n",
    "\n",
    "from paradeller.helper import DATE_FMT, load_archive\n",
    "from paradeller.dataprep import load_and_prep\n",
    "from paradeller.analysis import consolidate_stanzas\n",
    "from paradeller.postprocess import stanza_sorter_maker, print_stanzas, print_poems"
   ]
  },
  {
   "cell_type": "code",
   "execution_count": 2,
   "metadata": {},
   "outputs": [],
   "source": [
    "def get_tweet(i):\n",
    "    \"\"\"Find tweet with given id\"\"\"\n",
    "    try:\n",
    "        return next(x for x in data if x[\"id\"] == i)\n",
    "    except StopIteration as e:\n",
    "        print(\"Error: No tweet with that ID\")\n",
    "        return None\n",
    "\n",
    "showlen = lambda data: print(f\"{len(data):,}\")"
   ]
  },
  {
   "cell_type": "code",
   "execution_count": 3,
   "metadata": {},
   "outputs": [
    {
     "name": "stdout",
     "output_type": "stream",
     "text": [
      "\n",
      "Loading processed data from pickle...\n",
      "--------------------------------------------------\n",
      "DONE\n",
      "\n",
      "data            type: <class 'list'>\tlen: 270,885\n",
      "duplicates      type: <class 'dict'>\tlen: 5,365\n",
      "adj_list_words  type: <class 'dict'>\tlen: 22,505\n",
      "adj_list_ids    type: <class 'dict'>\tlen: 270,885\n"
     ]
    }
   ],
   "source": [
    "data, duplicates, adj_list_words, adj_list_ids = load_and_prep(use_pickle=True)\n",
    "\n",
    "# TO REFESH:\n",
    "# data, duplicates, adj_list_words, adj_list_ids = load_and_prep(use_pickle=False, update_pickle=True)"
   ]
  },
  {
   "cell_type": "markdown",
   "metadata": {},
   "source": [
    "### Load Results"
   ]
  },
  {
   "cell_type": "code",
   "execution_count": 4,
   "metadata": {},
   "outputs": [],
   "source": [
    "def _date_from_filename(filename):\n",
    "    dt_string = filename.split('_')[1].split('.')[0]\n",
    "    return datetime.strptime(dt_string, DATE_FMT)\n",
    "\n",
    "def get_most_recent_result():\n",
    "    found_folder = '../data/found'\n",
    "    files = os.listdir(found_folder)\n",
    "    files.sort(key=_date_from_filename)\n",
    "    return os.path.join(found_folder, files[-1])"
   ]
  },
  {
   "cell_type": "code",
   "execution_count": 5,
   "metadata": {},
   "outputs": [
    {
     "name": "stdout",
     "output_type": "stream",
     "text": [
      "../data/found/results_2019-07-11-1953.json\n",
      "\n",
      "meta        : 5\n",
      "stanzas     : 12\n",
      "poems       : 4\n",
      "duplicates  : 24\n"
     ]
    }
   ],
   "source": [
    "# choose file\n",
    "found_file = get_most_recent_result()\n",
    "print(found_file, end=\"\\n\\n\")\n",
    "\n",
    "# open file\n",
    "with open(found_file) as f:\n",
    "    res = json.load(f)\n",
    "\n",
    "# print len of contents\n",
    "for k, v in res.items():\n",
    "    print(f\"{k:12}:\", len(v))"
   ]
  },
  {
   "cell_type": "markdown",
   "metadata": {},
   "source": [
    "### View Stanzas"
   ]
  },
  {
   "cell_type": "code",
   "execution_count": 6,
   "metadata": {},
   "outputs": [
    {
     "ename": "KeyError",
     "evalue": "16",
     "output_type": "error",
     "traceback": [
      "\u001b[0;31m---------------------------------------------------------------------------\u001b[0m",
      "\u001b[0;31mKeyError\u001b[0m                                  Traceback (most recent call last)",
      "\u001b[0;32m<ipython-input-6-dd6ef8a6f4e0>\u001b[0m in \u001b[0;36m<module>\u001b[0;34m\u001b[0m\n\u001b[1;32m      1\u001b[0m \u001b[0mstanza_sorter\u001b[0m \u001b[0;34m=\u001b[0m \u001b[0mstanza_sorter_maker\u001b[0m\u001b[0;34m(\u001b[0m\u001b[0madj_list_ids\u001b[0m\u001b[0;34m)\u001b[0m\u001b[0;34m\u001b[0m\u001b[0;34m\u001b[0m\u001b[0m\n\u001b[0;32m----> 2\u001b[0;31m \u001b[0msorted_stanzas\u001b[0m \u001b[0;34m=\u001b[0m \u001b[0msorted\u001b[0m\u001b[0;34m(\u001b[0m\u001b[0mres\u001b[0m\u001b[0;34m[\u001b[0m\u001b[0;34m'stanzas'\u001b[0m\u001b[0;34m]\u001b[0m\u001b[0;34m,\u001b[0m \u001b[0mkey\u001b[0m\u001b[0;34m=\u001b[0m\u001b[0mstanza_sorter\u001b[0m\u001b[0;34m,\u001b[0m \u001b[0mreverse\u001b[0m\u001b[0;34m=\u001b[0m\u001b[0;32mTrue\u001b[0m\u001b[0;34m)\u001b[0m\u001b[0;34m\u001b[0m\u001b[0;34m\u001b[0m\u001b[0m\n\u001b[0m",
      "\u001b[0;32m~/GitRepos/Personal/paradeller/paradeller/postprocess.py\u001b[0m in \u001b[0;36mstanza_sorter\u001b[0;34m(stanza)\u001b[0m\n\u001b[1;32m      7\u001b[0m         \u001b[0;31m# --- points for length ---\u001b[0m\u001b[0;34m\u001b[0m\u001b[0;34m\u001b[0m\u001b[0;34m\u001b[0m\u001b[0m\n\u001b[1;32m      8\u001b[0m         \u001b[0mids\u001b[0m \u001b[0;34m=\u001b[0m \u001b[0mset\u001b[0m\u001b[0;34m(\u001b[0m\u001b[0mstanza\u001b[0m\u001b[0;34m)\u001b[0m\u001b[0;34m\u001b[0m\u001b[0;34m\u001b[0m\u001b[0m\n\u001b[0;32m----> 9\u001b[0;31m         \u001b[0mlen_pts\u001b[0m \u001b[0;34m=\u001b[0m \u001b[0msum\u001b[0m\u001b[0;34m(\u001b[0m\u001b[0;34m(\u001b[0m\u001b[0mlen\u001b[0m\u001b[0;34m(\u001b[0m\u001b[0madj_list_ids\u001b[0m\u001b[0;34m[\u001b[0m\u001b[0mi\u001b[0m\u001b[0;34m]\u001b[0m\u001b[0;34m)\u001b[0m \u001b[0;32mfor\u001b[0m \u001b[0mi\u001b[0m \u001b[0;32min\u001b[0m \u001b[0mids\u001b[0m\u001b[0;34m)\u001b[0m\u001b[0;34m)\u001b[0m\u001b[0;34m\u001b[0m\u001b[0;34m\u001b[0m\u001b[0m\n\u001b[0m\u001b[1;32m     10\u001b[0m \u001b[0;34m\u001b[0m\u001b[0m\n\u001b[1;32m     11\u001b[0m         \u001b[0;31m# --- points for variance ---\u001b[0m\u001b[0;34m\u001b[0m\u001b[0;34m\u001b[0m\u001b[0;34m\u001b[0m\u001b[0m\n",
      "\u001b[0;32m~/GitRepos/Personal/paradeller/paradeller/postprocess.py\u001b[0m in \u001b[0;36m<genexpr>\u001b[0;34m(.0)\u001b[0m\n\u001b[1;32m      7\u001b[0m         \u001b[0;31m# --- points for length ---\u001b[0m\u001b[0;34m\u001b[0m\u001b[0;34m\u001b[0m\u001b[0;34m\u001b[0m\u001b[0m\n\u001b[1;32m      8\u001b[0m         \u001b[0mids\u001b[0m \u001b[0;34m=\u001b[0m \u001b[0mset\u001b[0m\u001b[0;34m(\u001b[0m\u001b[0mstanza\u001b[0m\u001b[0;34m)\u001b[0m\u001b[0;34m\u001b[0m\u001b[0;34m\u001b[0m\u001b[0m\n\u001b[0;32m----> 9\u001b[0;31m         \u001b[0mlen_pts\u001b[0m \u001b[0;34m=\u001b[0m \u001b[0msum\u001b[0m\u001b[0;34m(\u001b[0m\u001b[0;34m(\u001b[0m\u001b[0mlen\u001b[0m\u001b[0;34m(\u001b[0m\u001b[0madj_list_ids\u001b[0m\u001b[0;34m[\u001b[0m\u001b[0mi\u001b[0m\u001b[0;34m]\u001b[0m\u001b[0;34m)\u001b[0m \u001b[0;32mfor\u001b[0m \u001b[0mi\u001b[0m \u001b[0;32min\u001b[0m \u001b[0mids\u001b[0m\u001b[0;34m)\u001b[0m\u001b[0;34m)\u001b[0m\u001b[0;34m\u001b[0m\u001b[0;34m\u001b[0m\u001b[0m\n\u001b[0m\u001b[1;32m     10\u001b[0m \u001b[0;34m\u001b[0m\u001b[0m\n\u001b[1;32m     11\u001b[0m         \u001b[0;31m# --- points for variance ---\u001b[0m\u001b[0;34m\u001b[0m\u001b[0;34m\u001b[0m\u001b[0;34m\u001b[0m\u001b[0m\n",
      "\u001b[0;31mKeyError\u001b[0m: 16"
     ]
    }
   ],
   "source": [
    "stanza_sorter = stanza_sorter_maker(adj_list_ids)\n",
    "sorted_stanzas = sorted(res['stanzas'], key=stanza_sorter, reverse=True)"
   ]
  },
  {
   "cell_type": "code",
   "execution_count": 7,
   "metadata": {},
   "outputs": [
    {
     "name": "stdout",
     "output_type": "stream",
     "text": [
      "low : 46\n",
      "high: 86\n"
     ]
    }
   ],
   "source": [
    "# low\n",
    "print(\"low :\", stanza_sorter(sorted_stanzas[-1]))\n",
    "\n",
    "# high\n",
    "print(\"high:\", stanza_sorter(sorted_stanzas[0]))"
   ]
  },
  {
   "cell_type": "code",
   "execution_count": 8,
   "metadata": {},
   "outputs": [
    {
     "name": "stdout",
     "output_type": "stream",
     "text": [
      "~~~~~~~~~~~~~~~~~~~~~~~~~~~~~~~~~~~~~~~~~~~~~~~~~~\n",
      "@yannuuuh             I am so -- \n",
      "@yannuuuh             I am so -- \n",
      "@identitytheftt       I think I do \n",
      "@identitytheftt       I think I do \n",
      "@tsubasa_007          i think i am \n",
      "@igotpjy              so do i \n",
      "~~~~~~~~~~~~~~~~~~~~~~~~~~~~~~~~~~~~~~~~~~~~~~~~~~\n",
      "@jnlsbb               I miss you. \n",
      "@jnlsbb               I miss you. \n",
      "@ninteythrees         i wish i had Friends ): \n",
      "@ninteythrees         i wish i had Friends ): \n",
      "@_ImCertified         I swear I miss you 💞 \n",
      "@vgarcia1997          I swear I wish I had friends 😩😭😪 \n",
      "~~~~~~~~~~~~~~~~~~~~~~~~~~~~~~~~~~~~~~~~~~~~~~~~~~\n",
      "@brianallendg         I feel so.... :/ \n",
      "@brianallendg         I feel so.... :/ \n",
      "@048MISSPAM           I feel you. \n",
      "@048MISSPAM           I feel you. \n",
      "@ferd_cc              I do . you \n",
      "@igotpjy              so do i \n",
      "~~~~~~~~~~~~~~~~~~~~~~~~~~~~~~~~~~~~~~~~~~~~~~~~~~\n",
      "@excerptsofelly       i love you \n",
      "@excerptsofelly       i love you \n",
      "@bbbeckss11           I hate this \n",
      "@bbbeckss11           I hate this \n",
      "@jadedareirwin        i love this \n",
      "@nxdmy                I hate you \n"
     ]
    }
   ],
   "source": [
    "print_stanzas(sorted_stanzas, data, n=4)"
   ]
  },
  {
   "cell_type": "code",
   "execution_count": null,
   "metadata": {},
   "outputs": [],
   "source": []
  },
  {
   "cell_type": "markdown",
   "metadata": {},
   "source": [
    "### View Complete Poems"
   ]
  },
  {
   "cell_type": "code",
   "execution_count": 10,
   "metadata": {},
   "outputs": [],
   "source": [
    "print_poems(res['poems'], data)"
   ]
  },
  {
   "cell_type": "code",
   "execution_count": null,
   "metadata": {},
   "outputs": [],
   "source": []
  },
  {
   "cell_type": "code",
   "execution_count": null,
   "metadata": {},
   "outputs": [],
   "source": []
  },
  {
   "cell_type": "markdown",
   "metadata": {},
   "source": [
    "### Combinations Math"
   ]
  },
  {
   "cell_type": "code",
   "execution_count": 2,
   "metadata": {},
   "outputs": [],
   "source": [
    "from math import factorial as fact"
   ]
  },
  {
   "cell_type": "markdown",
   "metadata": {},
   "source": [
    "Number of combos:\n",
    "\n",
    "- $n$ = types to choose from\n",
    "- $r$ = number chosen\n",
    "\n",
    "$\\frac{n!}{r!(n-r)!}$"
   ]
  },
  {
   "cell_type": "code",
   "execution_count": null,
   "metadata": {},
   "outputs": [],
   "source": []
  },
  {
   "cell_type": "code",
   "execution_count": null,
   "metadata": {},
   "outputs": [],
   "source": []
  },
  {
   "cell_type": "code",
   "execution_count": null,
   "metadata": {},
   "outputs": [],
   "source": []
  },
  {
   "cell_type": "code",
   "execution_count": 8,
   "metadata": {},
   "outputs": [
    {
     "name": "stdout",
     "output_type": "stream",
     "text": [
      "32,289,122,503\n"
     ]
    }
   ],
   "source": [
    "n = 254_123\n",
    "r = 2\n",
    "\n",
    "num_combos = fact(n) // (fact(r) * fact(n-r))\n",
    "\n",
    "print(f\"{num_combos:,}\")"
   ]
  },
  {
   "cell_type": "code",
   "execution_count": 11,
   "metadata": {},
   "outputs": [
    {
     "name": "stdout",
     "output_type": "stream",
     "text": [
      "322,891,225.03\n"
     ]
    }
   ],
   "source": [
    "per = num_combos / 100\n",
    "print(f\"{per:,}\")"
   ]
  },
  {
   "cell_type": "code",
   "execution_count": null,
   "metadata": {},
   "outputs": [],
   "source": [
    "\n"
   ]
  }
 ],
 "metadata": {
  "kernelspec": {
   "display_name": "Python 3",
   "language": "python",
   "name": "python3"
  },
  "language_info": {
   "codemirror_mode": {
    "name": "ipython",
    "version": 3
   },
   "file_extension": ".py",
   "mimetype": "text/x-python",
   "name": "python",
   "nbconvert_exporter": "python",
   "pygments_lexer": "ipython3",
   "version": "3.7.3"
  }
 },
 "nbformat": 4,
 "nbformat_minor": 4
}
