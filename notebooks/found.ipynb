{
 "cells": [
  {
   "cell_type": "code",
   "execution_count": 1,
   "metadata": {},
   "outputs": [],
   "source": [
    "%load_ext autoreload\n",
    "%autoreload 2\n",
    "\n",
    "import sys; sys.path.insert(0, '..')\n",
    "import pickle\n",
    "\n",
    "from tqdm.auto import tqdm\n",
    "\n",
    "from paradeller.analysis import get_stanzas\n",
    "from paradeller.dataprep import load_and_prep"
   ]
  },
  {
   "cell_type": "code",
   "execution_count": 2,
   "metadata": {},
   "outputs": [
    {
     "name": "stdout",
     "output_type": "stream",
     "text": [
      "Loading real, processed data from pickle...\n",
      "--------------------------------------------------\n",
      "DONE\n",
      "\n",
      "data            type: <class 'list'>\tlen: 197,754\n",
      "duplicates      type: <class 'dict'>\tlen: 265,345\n",
      "adj_list_words  type: <class 'dict'>\tlen: 18,491\n",
      "adj_list_ids    type: <class 'dict'>\tlen: 197,754\n"
     ]
    }
   ],
   "source": [
    "data, duplicates, adj_list_words, adj_list_ids = load_and_prep(use_pickle=True)"
   ]
  },
  {
   "cell_type": "code",
   "execution_count": 3,
   "metadata": {},
   "outputs": [],
   "source": [
    "def get_tweet(i):\n",
    "    \"\"\"Find tweet with given id\"\"\"\n",
    "    try:\n",
    "        return next(x for x in data if x[\"id\"] == i)\n",
    "    except StopIteration as e:\n",
    "        print(\"Error: No tweet with that ID\")\n",
    "        return None"
   ]
  },
  {
   "cell_type": "markdown",
   "metadata": {},
   "source": [
    "### Read Results"
   ]
  },
  {
   "cell_type": "code",
   "execution_count": 4,
   "metadata": {},
   "outputs": [],
   "source": [
    "with open('../data/found_2019-07-09-00-32.pickle', 'rb') as f:\n",
    "    all_valid = pickle.load(f)"
   ]
  },
  {
   "cell_type": "code",
   "execution_count": 5,
   "metadata": {},
   "outputs": [],
   "source": [
    "# all_valid = {}\n",
    "# for item in all_valid_lst:\n",
    "#     all_valid[item[0]] = item[1]"
   ]
  },
  {
   "cell_type": "code",
   "execution_count": 17,
   "metadata": {},
   "outputs": [
    {
     "data": {
      "text/plain": [
       "2023"
      ]
     },
     "execution_count": 17,
     "metadata": {},
     "output_type": "execute_result"
    }
   ],
   "source": [
    "len(all_valid)"
   ]
  },
  {
   "cell_type": "code",
   "execution_count": 18,
   "metadata": {},
   "outputs": [
    {
     "data": {
      "text/plain": [
       "2023"
      ]
     },
     "execution_count": 18,
     "metadata": {},
     "output_type": "execute_result"
    }
   ],
   "source": [
    "stanzas = get_stanzas(all_valid)\n",
    "# stanzas_text = [[get_tweet(x)['text'] for x in stanza] for stanza in tqdm(stanzas)]\n",
    "\n",
    "len(stanzas)"
   ]
  },
  {
   "cell_type": "code",
   "execution_count": 19,
   "metadata": {},
   "outputs": [
    {
     "data": {
      "text/plain": [
       "(1146571689473523714,\n",
       " 1146265241896009730,\n",
       " 1146613407090483200,\n",
       " 1146715924226908160)"
      ]
     },
     "execution_count": 19,
     "metadata": {},
     "output_type": "execute_result"
    }
   ],
   "source": [
    "stanzas[0]"
   ]
  },
  {
   "cell_type": "code",
   "execution_count": 20,
   "metadata": {},
   "outputs": [],
   "source": [
    "def stanza_sorter(stanza):\n",
    "    \"\"\"\n",
    "    Sort by interesting-ness\n",
    "    \"\"\"\n",
    "    \n",
    "    # --- points for length ---\n",
    "    ids = set(stanza)\n",
    "    len_pts = sum((len(adj_list_ids[i]) for i in ids))\n",
    "\n",
    "    \n",
    "    # --- points for variance --- \n",
    "    lineA = adj_list_ids[stanza[0]]\n",
    "    lineB = adj_list_ids[stanza[1]]\n",
    "    lineC = adj_list_ids[stanza[2]]\n",
    "    lineD = adj_list_ids[stanza[3]]\n",
    "    \n",
    "    # diff b/w A and B\n",
    "    diff_pts = len(set(lineA) ^ set(lineB))\n",
    "    \n",
    "    # points for different start words\n",
    "    start_letters = set((x[0] for x in [lineA, lineB, lineC, lineD]))\n",
    "    start_pts = len(start_letters)\n",
    "    \n",
    "    pts = sum((\n",
    "        len_pts,\n",
    "        (diff_pts * 8),\n",
    "        (start_pts * 20)\n",
    "    ))\n",
    "    return pts"
   ]
  },
  {
   "cell_type": "code",
   "execution_count": 21,
   "metadata": {},
   "outputs": [],
   "source": [
    "sorted_stanzas = sorted(stanzas, key=stanza_sorter, reverse=True)"
   ]
  },
  {
   "cell_type": "code",
   "execution_count": 22,
   "metadata": {},
   "outputs": [
    {
     "data": {
      "text/plain": [
       "52"
      ]
     },
     "execution_count": 22,
     "metadata": {},
     "output_type": "execute_result"
    }
   ],
   "source": [
    "# low\n",
    "stanza_sorter(sorted_stanzas[-1])"
   ]
  },
  {
   "cell_type": "code",
   "execution_count": 23,
   "metadata": {},
   "outputs": [
    {
     "data": {
      "text/plain": [
       "134"
      ]
     },
     "execution_count": 23,
     "metadata": {},
     "output_type": "execute_result"
    }
   ],
   "source": [
    "# high\n",
    "stanza_sorter(sorted_stanzas[0])"
   ]
  },
  {
   "cell_type": "code",
   "execution_count": 24,
   "metadata": {},
   "outputs": [
    {
     "name": "stdout",
     "output_type": "stream",
     "text": [
      "~~~~~~~~~~~~~~~~~~~~~~~~~~~~~~~~~~~~~~~~~~~~~~~~~~\n",
      "@jawbreakerbot        And I miss you. \n",
      "@jawbreakerbot        And I miss you. \n",
      "@BrianaTommo1         I just... oof \n",
      "@BrianaTommo1         I just... oof \n",
      "@deliicatebaby        oof i miss * \n",
      "@csszxx               just you and i \n",
      "~~~~~~~~~~~~~~~~~~~~~~~~~~~~~~~~~~~~~~~~~~~~~~~~~~\n",
      "@Taken_By_DaBest      I want it \n",
      "@Taken_By_DaBest      I want it \n",
      "@jennierubyjaene      And I love you so. \n",
      "@jennierubyjaene      And I love you so. \n",
      "@mizukinana777        So I love you \n",
      "@Zuzile_Zu            And I want it \n",
      "~~~~~~~~~~~~~~~~~~~~~~~~~~~~~~~~~~~~~~~~~~~~~~~~~~\n",
      "@csszxx               just you and i \n",
      "@csszxx               just you and i \n",
      "@exosaibot            i want to sleep ;-; \n",
      "@exosaibot            i want to sleep ;-; \n",
      "@catchmyfirehand      i just. want to sleep. \n",
      "@i4vxy                you and i \n",
      "~~~~~~~~~~~~~~~~~~~~~~~~~~~~~~~~~~~~~~~~~~~~~~~~~~\n",
      "@csszxx               just you and i \n",
      "@csszxx               just you and i \n",
      "@raquelarreguin6      I love my nails \n",
      "@raquelarreguin6      I love my nails \n",
      "@__Carletta           I just love my nails😍 \n",
      "@i4vxy                you and i \n",
      "~~~~~~~~~~~~~~~~~~~~~~~~~~~~~~~~~~~~~~~~~~~~~~~~~~\n",
      "@csszxx               just you and i \n",
      "@csszxx               just you and i \n",
      "@Leexii___            I want a baby \n",
      "@Leexii___            I want a baby \n",
      "@georgiaabruce        i just want a baby😭😭💔 \n",
      "@i4vxy                you and i \n"
     ]
    }
   ],
   "source": [
    "view_stanzas = sorted_stanzas[:5]\n",
    "\n",
    "for stanza in view_stanzas:\n",
    "    print(\"~\"*50)\n",
    "    #print(stanza_sorter(stanza))\n",
    "    for i in [0,0,1,1,2,3]:\n",
    "        t = stanza[i]\n",
    "        tweet = get_tweet(t)\n",
    "        print(f\"@{tweet['author']:20} {tweet['text']} \")"
   ]
  },
  {
   "cell_type": "markdown",
   "metadata": {},
   "source": [
    "### Find Complete Poems"
   ]
  },
  {
   "cell_type": "code",
   "execution_count": 25,
   "metadata": {},
   "outputs": [],
   "source": [
    "from itertools import combinations, chain\n",
    "from math import factorial as fact"
   ]
  },
  {
   "cell_type": "code",
   "execution_count": 134,
   "metadata": {},
   "outputs": [
    {
     "data": {
      "text/plain": [
       "50"
      ]
     },
     "execution_count": 134,
     "metadata": {},
     "output_type": "execute_result"
    }
   ],
   "source": [
    "stanzas = get_stanzas(all_valid)\n",
    "\n",
    "# TMP\n",
    "stanzas = stanzas[:50]\n",
    "\n",
    "len(stanzas)"
   ]
  },
  {
   "cell_type": "code",
   "execution_count": 135,
   "metadata": {},
   "outputs": [
    {
     "data": {
      "text/plain": [
       "(1146571689473523714,\n",
       " 1146265241896009730,\n",
       " 1146613407090483200,\n",
       " 1146715924226908160)"
      ]
     },
     "execution_count": 135,
     "metadata": {},
     "output_type": "execute_result"
    }
   ],
   "source": [
    "stanzas[0]"
   ]
  },
  {
   "cell_type": "markdown",
   "metadata": {},
   "source": [
    "Number of combos:\n",
    "\n",
    "- $n$ = types to choose from\n",
    "- $r$ = number chosen\n",
    "\n",
    "$\\frac{n!}{r!(n-r)!}$"
   ]
  },
  {
   "cell_type": "code",
   "execution_count": 136,
   "metadata": {},
   "outputs": [
    {
     "data": {
      "text/plain": [
       "19600"
      ]
     },
     "execution_count": 136,
     "metadata": {},
     "output_type": "execute_result"
    }
   ],
   "source": [
    "n = len(stanzas)\n",
    "r = 3\n",
    "\n",
    "num_combos = fact(n) // (fact(r) * fact(n-r))\n",
    "num_combos"
   ]
  },
  {
   "cell_type": "code",
   "execution_count": 137,
   "metadata": {},
   "outputs": [],
   "source": [
    "all_combos = combinations(stanzas, 3)"
   ]
  },
  {
   "cell_type": "code",
   "execution_count": 138,
   "metadata": {},
   "outputs": [],
   "source": [
    "# filtered generator\n",
    "combos = (\n",
    "    c for c in all_combos\n",
    "    if len(set().union(*c)) == 12\n",
    ")"
   ]
  },
  {
   "cell_type": "code",
   "execution_count": 139,
   "metadata": {},
   "outputs": [],
   "source": [
    "stan1, stan2, stan3 = next(combos)"
   ]
  },
  {
   "cell_type": "code",
   "execution_count": 140,
   "metadata": {},
   "outputs": [],
   "source": [
    "pair1, pair2, pair3 = stan1[:2], stan2[:2], stan3[:2]"
   ]
  },
  {
   "cell_type": "code",
   "execution_count": 141,
   "metadata": {},
   "outputs": [
    {
     "data": {
      "text/plain": [
       "(1146571689473523714, 1146265241896009730)"
      ]
     },
     "execution_count": 141,
     "metadata": {},
     "output_type": "execute_result"
    }
   ],
   "source": [
    "pair1"
   ]
  },
  {
   "cell_type": "code",
   "execution_count": 142,
   "metadata": {},
   "outputs": [
    {
     "data": {
      "text/plain": [
       "(1146094193594343424, 1144393117660930048)"
      ]
     },
     "execution_count": 142,
     "metadata": {},
     "output_type": "execute_result"
    }
   ],
   "source": [
    "pair2"
   ]
  },
  {
   "cell_type": "code",
   "execution_count": 143,
   "metadata": {},
   "outputs": [
    {
     "data": {
      "text/plain": [
       "(1145904412713525248, 1145546224239599616)"
      ]
     },
     "execution_count": 143,
     "metadata": {},
     "output_type": "execute_result"
    }
   ],
   "source": [
    "pair3"
   ]
  },
  {
   "cell_type": "code",
   "execution_count": 144,
   "metadata": {},
   "outputs": [
    {
     "data": {
      "text/plain": [
       "['i',\n",
       " 'think',\n",
       " 'i',\n",
       " 'do',\n",
       " 'i',\n",
       " 'am',\n",
       " 'so',\n",
       " 'i',\n",
       " 'love',\n",
       " 'my',\n",
       " 'i',\n",
       " 'miss',\n",
       " 'you',\n",
       " 'i',\n",
       " 'need',\n",
       " 'a',\n",
       " 'i',\n",
       " 'am',\n",
       " 'a',\n",
       " 'dog']"
      ]
     },
     "execution_count": 144,
     "metadata": {},
     "output_type": "execute_result"
    }
   ],
   "source": [
    "prev_stanza_words = list(\n",
    "    chain.from_iterable(\n",
    "        [adj_list_ids[line] for line in [*pair1, *pair2, *pair3]]\n",
    "    ))\n",
    "\n",
    "prev_stanza_words"
   ]
  },
  {
   "cell_type": "code",
   "execution_count": 145,
   "metadata": {},
   "outputs": [],
   "source": [
    "def get_potential_final_lines(stanza_words, adj_list_words):\n",
    "    \"\"\"Potential lines for final stanza\"\"\"\n",
    "    potential_ids = set()\n",
    "    for word in stanza_words:\n",
    "        potential_ids.update(adj_list_words[word])\n",
    "    return potential_ids"
   ]
  },
  {
   "cell_type": "code",
   "execution_count": 146,
   "metadata": {},
   "outputs": [],
   "source": [
    "pot_ids = get_potential_final_lines(prev_stanza_words, adj_list_words)"
   ]
  },
  {
   "cell_type": "code",
   "execution_count": 147,
   "metadata": {},
   "outputs": [
    {
     "data": {
      "text/plain": [
       "103725"
      ]
     },
     "execution_count": 147,
     "metadata": {},
     "output_type": "execute_result"
    }
   ],
   "source": [
    "len(pot_ids)"
   ]
  },
  {
   "cell_type": "code",
   "execution_count": 149,
   "metadata": {},
   "outputs": [
    {
     "data": {
      "text/plain": [
       "103713"
      ]
     },
     "execution_count": 149,
     "metadata": {},
     "output_type": "execute_result"
    }
   ],
   "source": [
    "len(pot_ids - {*stan1, *stan2, *stan3})"
   ]
  },
  {
   "cell_type": "code",
   "execution_count": null,
   "metadata": {},
   "outputs": [],
   "source": []
  }
 ],
 "metadata": {
  "kernelspec": {
   "display_name": "Python 3",
   "language": "python",
   "name": "python3"
  },
  "language_info": {
   "codemirror_mode": {
    "name": "ipython",
    "version": 3
   },
   "file_extension": ".py",
   "mimetype": "text/x-python",
   "name": "python",
   "nbconvert_exporter": "python",
   "pygments_lexer": "ipython3",
   "version": "3.7.3"
  }
 },
 "nbformat": 4,
 "nbformat_minor": 4
}
