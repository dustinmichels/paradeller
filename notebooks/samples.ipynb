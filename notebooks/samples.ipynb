{
 "cells": [
  {
   "cell_type": "code",
   "execution_count": 1,
   "metadata": {},
   "outputs": [],
   "source": [
    "%load_ext autoreload\n",
    "%autoreload 2"
   ]
  },
  {
   "cell_type": "code",
   "execution_count": 12,
   "metadata": {},
   "outputs": [],
   "source": [
    "import sys; sys.path.insert(0, '..')\n",
    "\n",
    "from itertools import combinations\n",
    "from multiprocessing import Pool\n",
    "import os\n",
    "import pickle\n",
    "\n",
    "from tqdm.auto import tqdm\n",
    "\n",
    "from paradeller.samples import load_samples\n",
    "from paradeller.dataprep import prep_data, restructure_data\n",
    "from paradeller.analysis import (\n",
    "    find_matches,\n",
    "    find_final_stanzas_from_stanzas,\n",
    "    find_final_stanzas,\n",
    "    consolidate_stanzas,\n",
    "    consolidate_poems,\n",
    "    get_num_combos\n",
    ")\n",
    "from paradeller.postprocess import stanza_sorter_maker, print_stanzas, print_poems"
   ]
  },
  {
   "cell_type": "code",
   "execution_count": 3,
   "metadata": {},
   "outputs": [],
   "source": [
    "data = load_samples()\n",
    "data, duplicates, adj_list_words, adj_list_ids = prep_data(data, verbose=False)"
   ]
  },
  {
   "cell_type": "markdown",
   "metadata": {},
   "source": [
    "### Find Stanzas"
   ]
  },
  {
   "cell_type": "code",
   "execution_count": 4,
   "metadata": {},
   "outputs": [
    {
     "name": "stdout",
     "output_type": "stream",
     "text": [
      "2,556\n"
     ]
    }
   ],
   "source": [
    "ids = list(adj_list_ids.keys())\n",
    "pairs = list(combinations(ids, 2))\n",
    "\n",
    "print(f\"{len(pairs):,}\")"
   ]
  },
  {
   "cell_type": "code",
   "execution_count": 5,
   "metadata": {},
   "outputs": [],
   "source": [
    "def find_matches_for_pair(p):\n",
    "    return find_matches(p[0], p[1], adj_list_ids, adj_list_words)"
   ]
  },
  {
   "cell_type": "code",
   "execution_count": 6,
   "metadata": {},
   "outputs": [
    {
     "data": {
      "application/vnd.jupyter.widget-view+json": {
       "model_id": "2314499b22c9492db5b947a966491cbe",
       "version_major": 2,
       "version_minor": 0
      },
      "text/plain": [
       "HBox(children=(IntProgress(value=0, max=2556), HTML(value='')))"
      ]
     },
     "metadata": {},
     "output_type": "display_data"
    },
    {
     "name": "stdout",
     "output_type": "stream",
     "text": [
      "\n",
      "all_valid: 24\n"
     ]
    }
   ],
   "source": [
    "with Pool(os.cpu_count()) as pool:\n",
    "    res = list(tqdm(\n",
    "        pool.imap(find_matches_for_pair, pairs),\n",
    "        total=len(pairs)\n",
    "    ))\n",
    "\n",
    "valid_stanzas = [x for x in list(zip(pairs, res)) if x[1]]\n",
    "\n",
    "print(\"all_valid:\", len(valid_stanzas))"
   ]
  },
  {
   "cell_type": "code",
   "execution_count": 7,
   "metadata": {},
   "outputs": [
    {
     "name": "stdout",
     "output_type": "stream",
     "text": [
      "stanzas:  12\n"
     ]
    }
   ],
   "source": [
    "stanzas = consolidate_stanzas(valid_stanzas)\n",
    "print(\"stanzas: \", len(stanzas))\n",
    "\n",
    "# stanzas"
   ]
  },
  {
   "cell_type": "code",
   "execution_count": 8,
   "metadata": {},
   "outputs": [],
   "source": [
    "# print_stanzas(stanzas, data)"
   ]
  },
  {
   "cell_type": "markdown",
   "metadata": {},
   "source": [
    "### Find Complete Poems"
   ]
  },
  {
   "cell_type": "code",
   "execution_count": 39,
   "metadata": {},
   "outputs": [
    {
     "data": {
      "text/plain": [
       "220"
      ]
     },
     "execution_count": 39,
     "metadata": {},
     "output_type": "execute_result"
    }
   ],
   "source": [
    "combos = combinations(stanzas, 3)\n",
    "\n",
    "num_combos = get_num_combos(len(stanzas), 3)\n",
    "num_combos"
   ]
  },
  {
   "cell_type": "code",
   "execution_count": 40,
   "metadata": {},
   "outputs": [],
   "source": [
    "def find_final_stanzas_helper(stanzas):\n",
    "    \"\"\"Helper function to find final stanzas, given a group of 3 stanzas\"\"\"\n",
    "    return find_final_stanzas(*stanzas, adj_list_ids, adj_list_words)"
   ]
  },
  {
   "cell_type": "code",
   "execution_count": 41,
   "metadata": {},
   "outputs": [
    {
     "data": {
      "application/vnd.jupyter.widget-view+json": {
       "model_id": "01c2403edce64bda8bcc62353e70309b",
       "version_major": 2,
       "version_minor": 0
      },
      "text/plain": [
       "HBox(children=(IntProgress(value=0, max=220), HTML(value='')))"
      ]
     },
     "metadata": {},
     "output_type": "display_data"
    },
    {
     "name": "stdout",
     "output_type": "stream",
     "text": [
      "\n",
      "Found 4 poems.\n"
     ]
    }
   ],
   "source": [
    "with Pool(os.cpu_count()) as pool:\n",
    "    res = list(\n",
    "        tqdm(pool.imap(find_final_stanzas_helper, combos), total=num_combos)\n",
    "    )\n",
    "\n",
    "combos = combinations(stanzas, 3)\n",
    "valid_poems = list((x for x in list(zip(combos, res)) if x[1]))\n",
    "\n",
    "poems = consolidate_poems(valid_poems)\n",
    "print(f\"Found {len(poems)} poems.\")"
   ]
  },
  {
   "cell_type": "code",
   "execution_count": null,
   "metadata": {},
   "outputs": [],
   "source": []
  },
  {
   "cell_type": "code",
   "execution_count": null,
   "metadata": {},
   "outputs": [],
   "source": []
  },
  {
   "cell_type": "code",
   "execution_count": null,
   "metadata": {},
   "outputs": [],
   "source": []
  },
  {
   "cell_type": "code",
   "execution_count": null,
   "metadata": {},
   "outputs": [],
   "source": []
  },
  {
   "cell_type": "code",
   "execution_count": null,
   "metadata": {},
   "outputs": [],
   "source": []
  },
  {
   "cell_type": "code",
   "execution_count": null,
   "metadata": {},
   "outputs": [],
   "source": []
  },
  {
   "cell_type": "code",
   "execution_count": null,
   "metadata": {},
   "outputs": [],
   "source": []
  },
  {
   "cell_type": "code",
   "execution_count": null,
   "metadata": {},
   "outputs": [],
   "source": []
  },
  {
   "cell_type": "code",
   "execution_count": 17,
   "metadata": {},
   "outputs": [
    {
     "data": {
      "application/vnd.jupyter.widget-view+json": {
       "model_id": "ef3fb0b5ea0f4afd9a3c76bfe4eba6a3",
       "version_major": 2,
       "version_minor": 0
      },
      "text/plain": [
       "HBox(children=(IntProgress(value=1, bar_style='info', max=1), HTML(value='')))"
      ]
     },
     "metadata": {},
     "output_type": "display_data"
    },
    {
     "name": "stdout",
     "output_type": "stream",
     "text": [
      "\n"
     ]
    }
   ],
   "source": [
    "valid_poems = find_final_stanzas_from_stanzas(stanzas, adj_list_ids, adj_list_words)"
   ]
  },
  {
   "cell_type": "code",
   "execution_count": 14,
   "metadata": {},
   "outputs": [
    {
     "data": {
      "text/plain": [
       "[(((36, 38, 40, 41), (30, 32, 34, 35), (24, 26, 28, 29)),\n",
       "  [(42, 43, 44, 45, 46, 47)]),\n",
       " (((84, 86, 88, 89), (72, 74, 76, 77), (78, 80, 82, 83)),\n",
       "  [(90, 91, 92, 93, 94, 95)]),\n",
       " (((0, 2, 4, 5), (6, 8, 10, 11), (12, 14, 16, 17)),\n",
       "  [(18, 19, 20, 21, 22, 23)]),\n",
       " (((48, 50, 52, 53), (54, 56, 58, 59), (60, 62, 64, 65)),\n",
       "  [(66, 67, 68, 69, 70, 71)])]"
      ]
     },
     "execution_count": 14,
     "metadata": {},
     "output_type": "execute_result"
    }
   ],
   "source": [
    "valid_poems"
   ]
  },
  {
   "cell_type": "code",
   "execution_count": 15,
   "metadata": {},
   "outputs": [
    {
     "data": {
      "text/plain": [
       "[[(36, 38, 40, 41),\n",
       "  (30, 32, 34, 35),\n",
       "  (24, 26, 28, 29),\n",
       "  (42, 43, 44, 45, 46, 47)],\n",
       " [(84, 86, 88, 89),\n",
       "  (72, 74, 76, 77),\n",
       "  (78, 80, 82, 83),\n",
       "  (90, 91, 92, 93, 94, 95)],\n",
       " [(0, 2, 4, 5), (6, 8, 10, 11), (12, 14, 16, 17), (18, 19, 20, 21, 22, 23)],\n",
       " [(48, 50, 52, 53),\n",
       "  (54, 56, 58, 59),\n",
       "  (60, 62, 64, 65),\n",
       "  (66, 67, 68, 69, 70, 71)]]"
      ]
     },
     "execution_count": 15,
     "metadata": {},
     "output_type": "execute_result"
    }
   ],
   "source": [
    "poems = consolidate_poems(valid_poems)\n",
    "poems"
   ]
  },
  {
   "cell_type": "code",
   "execution_count": 16,
   "metadata": {},
   "outputs": [
    {
     "name": "stdout",
     "output_type": "stream",
     "text": [
      "~~~~~~~~~~~~~~~~~~~~~~~~~~~~~~~~~~~~~~~~~~~~~~~~~~\n",
      "@unknown              will such variegated colors blend \n",
      "@unknown              will such variegated colors blend \n",
      "@unknown              away within envelope of leaves \n",
      "@unknown              away within envelope of leaves \n",
      "@unknown              of such colors envelope within \n",
      "@unknown              variegated leaves away will blend \n",
      "\n",
      "@unknown              ink like stains of sap fold down \n",
      "@unknown              ink like stains of sap fold down \n",
      "@unknown              brown and dripping tears that keep \n",
      "@unknown              brown and dripping tears that keep \n",
      "@unknown              sap like ink and stains of brown \n",
      "@unknown              tears that fold keep dripping down \n",
      "\n",
      "@unknown              tis the breeze beneath the cypress trees \n",
      "@unknown              tis the breeze beneath the cypress trees \n",
      "@unknown              where shady branches bend and bow \n",
      "@unknown              where shady branches bend and bow \n",
      "@unknown              beneath the bend and branches breeze \n",
      "@unknown              where the cypress bow tis shady trees \n",
      "\n",
      "@unknown              within the sap tis shady brown \n",
      "@unknown              and keep the breeze of that fold down \n",
      "@unknown              variegated stains away will blend \n",
      "@unknown              where colors bow and branches bend \n",
      "@unknown              tears of ink envelope like leaves \n",
      "@unknown              beneath such dripping cypress trees \n",
      "~~~~~~~~~~~~~~~~~~~~~~~~~~~~~~~~~~~~~~~~~~~~~~~~~~\n",
      "@unknown              her tousled angel twinkly pouts accuse her hovering tutors \n",
      "@unknown              her tousled angel twinkly pouts accuse her hovering tutors \n",
      "@unknown              her wise eyes smirk heres to whatever we the grownups might recall \n",
      "@unknown              her wise eyes smirk heres to whatever we the grownups might recall \n",
      "@unknown              to angel eyes we hovering grownups smirk wise tutors accuse \n",
      "@unknown              heres her whatever her tousled recall her twinkly might the pouts \n",
      "\n",
      "@unknown              when emma scrunches up her nose and knits her tiny brow \n",
      "@unknown              when emma scrunches up her nose and knits her tiny brow \n",
      "@unknown              my granddaughter spins a happy web of hyphens that connect her eyes \n",
      "@unknown              my granddaughter spins a happy web of hyphens that connect her eyes \n",
      "@unknown              connect her up her brow her nose a web of emma scrunches \n",
      "@unknown              that when granddaughter knits spins tiny hyphens and my happy eyes \n",
      "\n",
      "@unknown              but big spring sky blues get old too fast and early some time near \n",
      "@unknown              but big spring sky blues get old too fast and early some time near \n",
      "@unknown              will dull as she forgets slow what weve already lost \n",
      "@unknown              will dull as she forgets slow what weve already lost \n",
      "@unknown              as sky already forgets spring weve but dull old blues slow fast \n",
      "@unknown              and near some big time what she will get lost early too \n",
      "\n",
      "@unknown              when old tutors smirk pouts weve tousled her twinkly time \n",
      "@unknown              the wise get fast too early and slow her will some \n",
      "@unknown              and as granddaughter knits up that tiny nose spins her brow of scrunches \n",
      "@unknown              she already near lost her might heres what big dull sky forgets \n",
      "@unknown              spring blues her happy eyes her hyphens a web \n",
      "@unknown              but recall my emma hovering angel eyes connect to grownups whatever we accuse \n",
      "~~~~~~~~~~~~~~~~~~~~~~~~~~~~~~~~~~~~~~~~~~~~~~~~~~\n",
      "@unknown              here in the heart of the heart love is a burden \n",
      "@unknown              here in the heart of the heart love is a burden \n",
      "@unknown              it says what it has come to say and forgets to leave \n",
      "@unknown              it says what it has come to say and forgets to leave \n",
      "@unknown              the heart in love says it has a burden of is \n",
      "@unknown              come here and leave to the heart what it forgets to say \n",
      "\n",
      "@unknown              love is a wire around my wrist \n",
      "@unknown              love is a wire around my wrist \n",
      "@unknown              i feed the wolf my hands and my mouth \n",
      "@unknown              i feed the wolf my hands and my mouth \n",
      "@unknown              my wire hands love the wolf i feed \n",
      "@unknown              my mouth is a wrist around my and \n",
      "\n",
      "@unknown              when my passion leaves there is only the mountain \n",
      "@unknown              when my passion leaves there is only the mountain \n",
      "@unknown              i wake each morning with its melt on my tongue \n",
      "@unknown              i wake each morning with its melt on my tongue \n",
      "@unknown              each morning i passion the leaves with my tongue \n",
      "@unknown              mountain wake my only when on its there is melt \n",
      "\n",
      "@unknown              the burden of passion is a wire each forgets \n",
      "@unknown              i leave love to what it has to feed on \n",
      "@unknown              my heart is a mouth and my heart is the wolf \n",
      "@unknown              when the leaves say come my hands mountain the morning \n",
      "@unknown              with only my tongue says my wrist \n",
      "@unknown              love in and around its it wake there i melt here \n",
      "~~~~~~~~~~~~~~~~~~~~~~~~~~~~~~~~~~~~~~~~~~~~~~~~~~\n",
      "@unknown              wait and listen to the airs weighty anticipation \n",
      "@unknown              wait and listen to the airs weighty anticipation \n",
      "@unknown              you are like a transparent apple fallen in rhythm \n",
      "@unknown              you are like a transparent apple fallen in rhythm \n",
      "@unknown              like weighty airs to the apple you listen in a fallen \n",
      "@unknown              rhythm wait and are transparent anticipation \n",
      "\n",
      "@unknown              birdcalls beckon something then announce your return \n",
      "@unknown              birdcalls beckon something then announce your return \n",
      "@unknown              a basket woven inwardly i receive in morning \n",
      "@unknown              a basket woven inwardly i receive in morning \n",
      "@unknown              receive a woven basket i beckon your return inwardly \n",
      "@unknown              then announce morning something in birdcalls \n",
      "\n",
      "@unknown              this script for touch shivers like coldness or fear \n",
      "@unknown              this script for touch shivers like coldness or fear \n",
      "@unknown              it is the thin skin of apple a clear yellow glowing \n",
      "@unknown              it is the thin skin of apple a clear yellow glowing \n",
      "@unknown              glowing or thin the apple skin is like a clear script \n",
      "@unknown              it shivers fear yellow for this coldness of touch \n",
      "\n",
      "@unknown              a clear script for rhythm your birdcalls \n",
      "@unknown              are a weighty listen inwardly something like fear \n",
      "@unknown              you wait or return in like anticipation of airs coldness \n",
      "@unknown              then beckon and receive it the yellow transparent apple \n",
      "@unknown              fallen in a morning basket touch is glowing apple \n",
      "@unknown              shivers i announce this to the thin woven skin \n"
     ]
    }
   ],
   "source": [
    "print_poems(poems, data)"
   ]
  },
  {
   "cell_type": "code",
   "execution_count": null,
   "metadata": {},
   "outputs": [],
   "source": []
  },
  {
   "cell_type": "code",
   "execution_count": null,
   "metadata": {},
   "outputs": [],
   "source": [
    "results = dict(\n",
    "    stanzas=stanzas,\n",
    "    poems=poems,\n",
    "    duplicates=duplicates\n",
    ")"
   ]
  },
  {
   "cell_type": "code",
   "execution_count": null,
   "metadata": {},
   "outputs": [],
   "source": [
    "results"
   ]
  }
 ],
 "metadata": {
  "kernelspec": {
   "display_name": "Python 3",
   "language": "python",
   "name": "python3"
  },
  "language_info": {
   "codemirror_mode": {
    "name": "ipython",
    "version": 3
   },
   "file_extension": ".py",
   "mimetype": "text/x-python",
   "name": "python",
   "nbconvert_exporter": "python",
   "pygments_lexer": "ipython3",
   "version": "3.7.3"
  }
 },
 "nbformat": 4,
 "nbformat_minor": 4
}
