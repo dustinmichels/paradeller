{
 "cells": [
  {
   "cell_type": "code",
   "execution_count": 1,
   "metadata": {},
   "outputs": [],
   "source": [
    "%load_ext autoreload\n",
    "%autoreload 2"
   ]
  },
  {
   "cell_type": "code",
   "execution_count": 2,
   "metadata": {},
   "outputs": [],
   "source": [
    "import sys; sys.path.insert(0, '..')\n",
    "\n",
    "from itertools import combinations\n",
    "from multiprocessing import Pool\n",
    "import os\n",
    "import pickle\n",
    "\n",
    "from tqdm.auto import tqdm\n",
    "\n",
    "from paradeller.samples import load_samples\n",
    "from paradeller.dataprep import prep_data\n",
    "from paradeller.analysis import (\n",
    "    find_matches,\n",
    "    find_final_stanzas_from_stanzas,\n",
    "    consolidate_stanzas,\n",
    "    consolidate_poems\n",
    ")\n",
    "from paradeller.postprocess import stanza_sorter_maker, print_stanzas, print_poems"
   ]
  },
  {
   "cell_type": "code",
   "execution_count": 3,
   "metadata": {},
   "outputs": [],
   "source": [
    "data = load_samples()\n",
    "data, duplicates, adj_list_words, adj_list_ids = prep_data(data, verbose=False)"
   ]
  },
  {
   "cell_type": "markdown",
   "metadata": {},
   "source": [
    "### Find Stanzas"
   ]
  },
  {
   "cell_type": "code",
   "execution_count": 4,
   "metadata": {},
   "outputs": [
    {
     "name": "stdout",
     "output_type": "stream",
     "text": [
      "153\n"
     ]
    }
   ],
   "source": [
    "ids = list(adj_list_ids.keys())\n",
    "pairs = list(combinations(ids, 2))\n",
    "\n",
    "print(f\"{len(pairs):,}\")"
   ]
  },
  {
   "cell_type": "code",
   "execution_count": 5,
   "metadata": {},
   "outputs": [],
   "source": [
    "def find_matches_for_pair(p):\n",
    "    return find_matches(p[0], p[1], adj_list_ids, adj_list_words)"
   ]
  },
  {
   "cell_type": "code",
   "execution_count": 6,
   "metadata": {},
   "outputs": [
    {
     "data": {
      "application/vnd.jupyter.widget-view+json": {
       "model_id": "87ae14e7a83d40b2bdaab59a4151ad4f",
       "version_major": 2,
       "version_minor": 0
      },
      "text/plain": [
       "HBox(children=(IntProgress(value=0, max=153), HTML(value='')))"
      ]
     },
     "metadata": {},
     "output_type": "display_data"
    },
    {
     "name": "stdout",
     "output_type": "stream",
     "text": [
      "\n",
      "all_valid: 6\n"
     ]
    }
   ],
   "source": [
    "with Pool(os.cpu_count()) as pool:\n",
    "    res = list(tqdm(\n",
    "        pool.imap(find_matches_for_pair, pairs),\n",
    "        total=len(pairs)\n",
    "    ))\n",
    "\n",
    "valid_stanzas = [x for x in list(zip(pairs, res)) if x[1]]\n",
    "\n",
    "print(\"all_valid:\", len(valid_stanzas))"
   ]
  },
  {
   "cell_type": "code",
   "execution_count": 27,
   "metadata": {},
   "outputs": [
    {
     "name": "stdout",
     "output_type": "stream",
     "text": [
      "stanzas:  3\n"
     ]
    },
    {
     "data": {
      "text/plain": [
       "[(24, 26, 28, 29), (30, 32, 34, 35), (36, 38, 40, 41)]"
      ]
     },
     "execution_count": 27,
     "metadata": {},
     "output_type": "execute_result"
    }
   ],
   "source": [
    "stanzas = consolidate_stanzas(valid_stanzas)\n",
    "print(\"stanzas: \", len(stanzas))\n",
    "stanzas"
   ]
  },
  {
   "cell_type": "code",
   "execution_count": 8,
   "metadata": {},
   "outputs": [
    {
     "name": "stdout",
     "output_type": "stream",
     "text": [
      "~~~~~~~~~~~~~~~~~~~~~~~~~~~~~~~~~~~~~~~~~~~~~~~~~~\n",
      "@unknown              tis the breeze beneath the cypress trees \n",
      "@unknown              tis the breeze beneath the cypress trees \n",
      "@unknown              where shady branches bend and bow \n",
      "@unknown              where shady branches bend and bow \n",
      "@unknown              beneath the bend and branches breeze \n",
      "@unknown              where the cypress bow tis shady trees \n",
      "~~~~~~~~~~~~~~~~~~~~~~~~~~~~~~~~~~~~~~~~~~~~~~~~~~\n",
      "@unknown              ink like stains of sap fold down \n",
      "@unknown              ink like stains of sap fold down \n",
      "@unknown              brown and dripping tears that keep \n",
      "@unknown              brown and dripping tears that keep \n",
      "@unknown              sap like ink and stains of brown \n",
      "@unknown              tears that fold keep dripping down \n",
      "~~~~~~~~~~~~~~~~~~~~~~~~~~~~~~~~~~~~~~~~~~~~~~~~~~\n",
      "@unknown              will such variegated colors blend \n",
      "@unknown              will such variegated colors blend \n",
      "@unknown              away within envelope of leaves \n",
      "@unknown              away within envelope of leaves \n",
      "@unknown              of such colors envelope within \n",
      "@unknown              variegated leaves away will blend \n"
     ]
    }
   ],
   "source": [
    "print_stanzas(stanzas, data)"
   ]
  },
  {
   "cell_type": "markdown",
   "metadata": {},
   "source": [
    "### Find Complete Poems"
   ]
  },
  {
   "cell_type": "code",
   "execution_count": 9,
   "metadata": {},
   "outputs": [
    {
     "data": {
      "text/plain": [
       "1"
      ]
     },
     "execution_count": 9,
     "metadata": {},
     "output_type": "execute_result"
    }
   ],
   "source": [
    "all_combos = combinations(stanzas, 3)\n",
    "combos = [c for c in all_combos if len(set().union(*c)) == 12]\n",
    "len(combos)"
   ]
  },
  {
   "cell_type": "code",
   "execution_count": 10,
   "metadata": {},
   "outputs": [
    {
     "data": {
      "application/vnd.jupyter.widget-view+json": {
       "model_id": "a15d5d64a0f2436881c2969b2f9f6d9b",
       "version_major": 2,
       "version_minor": 0
      },
      "text/plain": [
       "HBox(children=(IntProgress(value=1, bar_style='info', max=1), HTML(value='')))"
      ]
     },
     "metadata": {},
     "output_type": "display_data"
    },
    {
     "name": "stdout",
     "output_type": "stream",
     "text": [
      "\n"
     ]
    }
   ],
   "source": [
    "valid_poems = find_final_stanzas_from_stanzas(stanzas, adj_list_ids, adj_list_words)"
   ]
  },
  {
   "cell_type": "code",
   "execution_count": 25,
   "metadata": {},
   "outputs": [
    {
     "data": {
      "text/plain": [
       "[(((24, 26, 28, 29), (30, 32, 34, 35), (36, 38, 40, 41)),\n",
       "  [(42, 43, 44, 45, 46, 47)])]"
      ]
     },
     "execution_count": 25,
     "metadata": {},
     "output_type": "execute_result"
    }
   ],
   "source": [
    "valid_poems"
   ]
  },
  {
   "cell_type": "code",
   "execution_count": 26,
   "metadata": {},
   "outputs": [
    {
     "data": {
      "text/plain": [
       "[[(24, 26, 28, 29),\n",
       "  (30, 32, 34, 35),\n",
       "  (36, 38, 40, 41),\n",
       "  (42, 43, 44, 45, 46, 47)]]"
      ]
     },
     "execution_count": 26,
     "metadata": {},
     "output_type": "execute_result"
    }
   ],
   "source": [
    "poems = consolidate_poems(valid_poems)\n",
    "poems"
   ]
  },
  {
   "cell_type": "code",
   "execution_count": null,
   "metadata": {},
   "outputs": [],
   "source": []
  },
  {
   "cell_type": "code",
   "execution_count": null,
   "metadata": {},
   "outputs": [],
   "source": []
  },
  {
   "cell_type": "code",
   "execution_count": null,
   "metadata": {},
   "outputs": [],
   "source": []
  },
  {
   "cell_type": "code",
   "execution_count": 13,
   "metadata": {},
   "outputs": [
    {
     "name": "stdout",
     "output_type": "stream",
     "text": [
      "~~~~~~~~~~~~~~~~~~~~~~~~~~~~~~~~~~~~~~~~~~~~~~~~~~\n",
      "@unknown              tis the breeze beneath the cypress trees \n",
      "@unknown              tis the breeze beneath the cypress trees \n",
      "@unknown              where shady branches bend and bow \n",
      "@unknown              where shady branches bend and bow \n",
      "@unknown              beneath the bend and branches breeze \n",
      "@unknown              where the cypress bow tis shady trees \n",
      "\n",
      "@unknown              ink like stains of sap fold down \n",
      "@unknown              ink like stains of sap fold down \n",
      "@unknown              brown and dripping tears that keep \n",
      "@unknown              brown and dripping tears that keep \n",
      "@unknown              sap like ink and stains of brown \n",
      "@unknown              tears that fold keep dripping down \n",
      "\n",
      "@unknown              will such variegated colors blend \n",
      "@unknown              will such variegated colors blend \n",
      "@unknown              away within envelope of leaves \n",
      "@unknown              away within envelope of leaves \n",
      "@unknown              of such colors envelope within \n",
      "@unknown              variegated leaves away will blend \n",
      "\n",
      "@unknown              within the sap tis shady brown \n",
      "@unknown              and keep the breeze of that fold down \n",
      "@unknown              variegated stains away will blend \n",
      "@unknown              where colors bow and branches bend \n",
      "@unknown              tears of ink envelope like leaves \n",
      "@unknown              beneath such dripping cypress trees \n"
     ]
    }
   ],
   "source": [
    "print_poems(poems, data)"
   ]
  },
  {
   "cell_type": "code",
   "execution_count": null,
   "metadata": {},
   "outputs": [],
   "source": []
  },
  {
   "cell_type": "code",
   "execution_count": 14,
   "metadata": {},
   "outputs": [
    {
     "data": {
      "text/plain": [
       "[(24, 26, 28, 29), (30, 32, 34, 35), (36, 38, 40, 41)]"
      ]
     },
     "execution_count": 14,
     "metadata": {},
     "output_type": "execute_result"
    }
   ],
   "source": [
    "stanzas"
   ]
  },
  {
   "cell_type": "code",
   "execution_count": 15,
   "metadata": {},
   "outputs": [
    {
     "data": {
      "text/plain": [
       "[[(24, 26, 28, 29),\n",
       "  (30, 32, 34, 35),\n",
       "  (36, 38, 40, 41),\n",
       "  (42, 43, 44, 45, 46, 47)]]"
      ]
     },
     "execution_count": 15,
     "metadata": {},
     "output_type": "execute_result"
    }
   ],
   "source": [
    "poems"
   ]
  },
  {
   "cell_type": "code",
   "execution_count": 16,
   "metadata": {},
   "outputs": [
    {
     "data": {
      "text/plain": [
       "{24: [25], 26: [27], 30: [31], 32: [33], 36: [37], 38: [39]}"
      ]
     },
     "execution_count": 16,
     "metadata": {},
     "output_type": "execute_result"
    }
   ],
   "source": [
    "duplicates"
   ]
  },
  {
   "cell_type": "code",
   "execution_count": 32,
   "metadata": {},
   "outputs": [],
   "source": [
    "results = dict(\n",
    "    stanzas=stanzas,\n",
    "    poems=poems,\n",
    "    duplicates=duplicates\n",
    ")"
   ]
  },
  {
   "cell_type": "code",
   "execution_count": 33,
   "metadata": {},
   "outputs": [
    {
     "data": {
      "text/plain": [
       "{'stanzas': [(24, 26, 28, 29), (30, 32, 34, 35), (36, 38, 40, 41)],\n",
       " 'poems': [[(24, 26, 28, 29),\n",
       "   (30, 32, 34, 35),\n",
       "   (36, 38, 40, 41),\n",
       "   (42, 43, 44, 45, 46, 47)]],\n",
       " 'duplicates': {24: [25], 26: [27], 30: [31], 32: [33], 36: [37], 38: [39]}}"
      ]
     },
     "execution_count": 33,
     "metadata": {},
     "output_type": "execute_result"
    }
   ],
   "source": [
    "results"
   ]
  },
  {
   "cell_type": "code",
   "execution_count": null,
   "metadata": {},
   "outputs": [],
   "source": []
  }
 ],
 "metadata": {
  "kernelspec": {
   "display_name": "Python 3",
   "language": "python",
   "name": "python3"
  },
  "language_info": {
   "codemirror_mode": {
    "name": "ipython",
    "version": 3
   },
   "file_extension": ".py",
   "mimetype": "text/x-python",
   "name": "python",
   "nbconvert_exporter": "python",
   "pygments_lexer": "ipython3",
   "version": "3.7.3"
  }
 },
 "nbformat": 4,
 "nbformat_minor": 4
}
