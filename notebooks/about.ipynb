{
 "cells": [
  {
   "cell_type": "markdown",
   "metadata": {},
   "source": [
    "# About"
   ]
  },
  {
   "cell_type": "markdown",
   "metadata": {},
   "source": [
    "A paradelle is a poem that looks like this:\n",
    "\n",
    "> Twilight falls, darkness cover me  \n",
    "> Twilight falls, darkness cover me  \n",
    "> as gentle slumber lures awakening dreams  \n",
    "> as gentle slumber lures awakening dreams  \n",
    "> cover me gentle twilight, darkness lures dreams,  \n",
    "> awakening as slumber falls.\n",
    ">\n",
    "> Journey on celelstial wings through astral visions  \n",
    "> Journey on celelstial wings through astral visions  \n",
    "> and hover above earth-bound limitations  \n",
    "> and hover above earth-bound limitations  \n",
    "> on celestial wings, hover above earth bound limitations  \n",
    "> and journey through astral visions.\n",
    ">\n",
    "> Explore the expansiveness of self,  \n",
    "> Explore the expansiveness of self,  \n",
    "> look within and discover your untapped wealth  \n",
    "> look within and discover your untapped wealth  \n",
    "> look within the expansiveness of self,  \n",
    "> discover and explore your untapped wealth.\n",
    ">\n",
    "> cover me, dreams look within darkness  \n",
    "> journey -- discover your gentle awakening;  \n",
    "> slumber lures the expansiveness of self  \n",
    "> through astral visions. Hover above  \n",
    "> earthbound limitations on celestial wings,  \n",
    "> and as twilight falls, explore wealth -- untapped.\n",
    ">\n",
    "> _(\"A Paradelle of Winged Flight\", Mary Ellen Clark, 2003.)_\n",
    "\n",
    "The rules are fairly simple.\n",
    "\n",
    "For the first three stanzas:\n",
    "\n",
    "- Lines 1 & 3 must repeat.\n",
    "- Lines 5 & 6 must use all the words from lines 1 & 3 (no more no less).\n",
    "\n",
    "For the final stanza, you must use all the words from lines 1 & 3 of the previous stanzas."
   ]
  },
  {
   "cell_type": "code",
   "execution_count": null,
   "metadata": {},
   "outputs": [],
   "source": []
  }
 ],
 "metadata": {
  "kernelspec": {
   "display_name": "Python 3",
   "language": "python",
   "name": "python3"
  },
  "language_info": {
   "codemirror_mode": {
    "name": "ipython",
    "version": 3
   },
   "file_extension": ".py",
   "mimetype": "text/x-python",
   "name": "python",
   "nbconvert_exporter": "python",
   "pygments_lexer": "ipython3",
   "version": "3.7.3"
  }
 },
 "nbformat": 4,
 "nbformat_minor": 4
}
