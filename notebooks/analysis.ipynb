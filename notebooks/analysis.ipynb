{
 "cells": [
  {
   "cell_type": "code",
   "execution_count": 1,
   "metadata": {},
   "outputs": [],
   "source": [
    "%load_ext autoreload\n",
    "%autoreload 2"
   ]
  },
  {
   "cell_type": "code",
   "execution_count": 2,
   "metadata": {},
   "outputs": [],
   "source": [
    "import sys; sys.path.insert(0, '..')\n",
    "\n",
    "from collections import defaultdict, Counter\n",
    "import string\n",
    "import pandas as pd\n",
    "\n",
    "from paradeller.samples import sample1, sample2, sample3\n",
    "from paradeller.analysis import tokenize\n",
    "from paradeller.helper import load_archive"
   ]
  },
  {
   "cell_type": "markdown",
   "metadata": {},
   "source": [
    "### Get into standard format"
   ]
  },
  {
   "cell_type": "code",
   "execution_count": 3,
   "metadata": {},
   "outputs": [],
   "source": [
    "ID_COUNTER = 0\n",
    "\n",
    "def datafy_poem(text, name):\n",
    "    global ID_COUNTER\n",
    "    # get lines, remove duplicates\n",
    "    lines = [\n",
    "        ' '.join(tokenize(x)) for x in text.split(\"\\n\")\n",
    "        if x != ''\n",
    "    ]\n",
    "    # convert to dict\n",
    "    data = []\n",
    "    for i, line in enumerate(lines):\n",
    "        data.append(dict(\n",
    "            id=ID_COUNTER,\n",
    "            text=line,\n",
    "            poem=name,\n",
    "            line=i\n",
    "        ))\n",
    "        ID_COUNTER += 1\n",
    "    return data\n",
    "\n",
    "data1 = datafy_poem(sample1, \"sample1\")\n",
    "data2 = datafy_poem(sample2, \"sample2\")\n",
    "data3 = datafy_poem(sample3, \"sample3\")\n",
    "data = data1 + data2 + data3"
   ]
  },
  {
   "cell_type": "code",
   "execution_count": 4,
   "metadata": {},
   "outputs": [
    {
     "data": {
      "text/html": [
       "<div>\n",
       "<style scoped>\n",
       "    .dataframe tbody tr th:only-of-type {\n",
       "        vertical-align: middle;\n",
       "    }\n",
       "\n",
       "    .dataframe tbody tr th {\n",
       "        vertical-align: top;\n",
       "    }\n",
       "\n",
       "    .dataframe thead th {\n",
       "        text-align: right;\n",
       "    }\n",
       "</style>\n",
       "<table border=\"1\" class=\"dataframe\">\n",
       "  <thead>\n",
       "    <tr style=\"text-align: right;\">\n",
       "      <th></th>\n",
       "      <th>line</th>\n",
       "      <th>poem</th>\n",
       "      <th>text</th>\n",
       "    </tr>\n",
       "    <tr>\n",
       "      <th>id</th>\n",
       "      <th></th>\n",
       "      <th></th>\n",
       "      <th></th>\n",
       "    </tr>\n",
       "  </thead>\n",
       "  <tbody>\n",
       "    <tr>\n",
       "      <th>0</th>\n",
       "      <td>0</td>\n",
       "      <td>sample1</td>\n",
       "      <td>meet me on the darkest sea of dead stars</td>\n",
       "    </tr>\n",
       "    <tr>\n",
       "      <th>1</th>\n",
       "      <td>1</td>\n",
       "      <td>sample1</td>\n",
       "      <td>meet me on the darkest sea of dead stars</td>\n",
       "    </tr>\n",
       "  </tbody>\n",
       "</table>\n",
       "</div>"
      ],
      "text/plain": [
       "    line     poem                                      text\n",
       "id                                                         \n",
       "0      0  sample1  meet me on the darkest sea of dead stars\n",
       "1      1  sample1  meet me on the darkest sea of dead stars"
      ]
     },
     "metadata": {},
     "output_type": "display_data"
    },
    {
     "data": {
      "text/html": [
       "<div>\n",
       "<style scoped>\n",
       "    .dataframe tbody tr th:only-of-type {\n",
       "        vertical-align: middle;\n",
       "    }\n",
       "\n",
       "    .dataframe tbody tr th {\n",
       "        vertical-align: top;\n",
       "    }\n",
       "\n",
       "    .dataframe thead th {\n",
       "        text-align: right;\n",
       "    }\n",
       "</style>\n",
       "<table border=\"1\" class=\"dataframe\">\n",
       "  <thead>\n",
       "    <tr style=\"text-align: right;\">\n",
       "      <th></th>\n",
       "      <th>line</th>\n",
       "      <th>poem</th>\n",
       "      <th>text</th>\n",
       "    </tr>\n",
       "    <tr>\n",
       "      <th>id</th>\n",
       "      <th></th>\n",
       "      <th></th>\n",
       "      <th></th>\n",
       "    </tr>\n",
       "  </thead>\n",
       "  <tbody>\n",
       "    <tr>\n",
       "      <th>70</th>\n",
       "      <td>22</td>\n",
       "      <td>sample3</td>\n",
       "      <td>earthbound limitations on celestial wings</td>\n",
       "    </tr>\n",
       "    <tr>\n",
       "      <th>71</th>\n",
       "      <td>23</td>\n",
       "      <td>sample3</td>\n",
       "      <td>and as twilight falls explore wealth untapped</td>\n",
       "    </tr>\n",
       "  </tbody>\n",
       "</table>\n",
       "</div>"
      ],
      "text/plain": [
       "    line     poem                                           text\n",
       "id                                                              \n",
       "70    22  sample3      earthbound limitations on celestial wings\n",
       "71    23  sample3  and as twilight falls explore wealth untapped"
      ]
     },
     "metadata": {},
     "output_type": "display_data"
    }
   ],
   "source": [
    "df = pd.DataFrame(data).set_index('id')\n",
    "\n",
    "display(df.head(2))\n",
    "display(df.tail(2))"
   ]
  },
  {
   "cell_type": "markdown",
   "metadata": {},
   "source": [
    "## Load into dict"
   ]
  },
  {
   "cell_type": "code",
   "execution_count": 5,
   "metadata": {},
   "outputs": [],
   "source": [
    "import itertools\n",
    "from itertools import permutations, combinations"
   ]
  },
  {
   "cell_type": "code",
   "execution_count": 6,
   "metadata": {},
   "outputs": [
    {
     "name": "stdout",
     "output_type": "stream",
     "text": [
      "{'meet': [0, 1, 5, 22], 'me': [0, 1, 5, 8, 9, 11, 19, 23, 48, 49, 52, 66], 'on': [0, 1, 4, 18, 54, 55, 58, 70], 'the': [0, 1, 2, 3, 4, 4, 18, 20, 24, 24, 25, 25, 28, 29, 42, 43, 60, 61, 64, 68], 'darkest': [0, 1, 4, 18], 'sea': [0, 1, 5, 18], 'of': [0, 1, 5, 6, 7, 10, 18, 21, 30, 31, 34, 38, 39, 40, 43, 46, 60, 61, 64, 68], 'dead': [0, 1, 5, 18], 'stars': [0, 1, 5, 23], 'when': [2, 3, 5, 20], 'waves': [2, 3, 5, 20], 'burn': [2, 3, 4, 20], 'my': [2, 3, 5, 12, 13, 16, 20, 21], 'skin': [2, 3, 5, 20], 'i’ll': [2, 3, 4, 20], 'remember': [2, 3, 4, 20], 'fall': [6, 7, 10, 23], 'into': [6, 7, 11, 23], 'this': [6, 7, 10, 21], 'faulty': [6, 7, 10, 21], 'trap': [6, 7, 10, 21], 'myself': [6, 7, 10, 21], 'explain': [8, 9, 10, 19], 'without': [8, 9, 11, 19], 'understanding': [8, 9, 11, 19], 'why': [8, 9, 11, 23], 'buries': [12, 13, 17, 22], 'your': [12, 13, 16, 19, 62, 63, 65, 67], 'sadness': [12, 13, 17, 22], 'in': [12, 13, 16, 22], 'abstraction': [12, 13, 16, 18], 'because': [14, 15, 17, 21], 'time': [14, 15, 17, 22], 'worries': [14, 15, 17, 22], 'us': [14, 15, 17, 22], 'eternally': [14, 15, 16, 23], 'tis': [24, 25, 29, 42], 'breeze': [24, 25, 28, 43], 'beneath': [24, 25, 28, 47], 'cypress': [24, 25, 29, 47], 'trees': [24, 25, 29, 47], 'where': [26, 27, 29, 45], 'shady': [26, 27, 29, 42], 'branches': [26, 27, 28, 45], 'bend': [26, 27, 28, 45], 'and': [26, 27, 28, 32, 33, 34, 43, 45, 56, 57, 59, 62, 63, 65, 71], 'bow': [26, 27, 29, 45], 'ink': [30, 31, 34, 46], 'like': [30, 31, 34, 46], 'stains': [30, 31, 34, 44], 'sap': [30, 31, 34, 42], 'fold': [30, 31, 35, 43], 'down': [30, 31, 35, 43], 'brown': [32, 33, 34, 42], 'dripping': [32, 33, 35, 47], 'tears': [32, 33, 35, 46], 'that': [32, 33, 35, 43], 'keep': [32, 33, 35, 43], 'will': [36, 37, 41, 44], 'such': [36, 37, 40, 47], 'variegated': [36, 37, 41, 44], 'colors': [36, 37, 40, 45], 'blend': [36, 37, 41, 44], 'away': [38, 39, 41, 44], 'within': [38, 39, 40, 42, 62, 63, 64, 66], 'envelope': [38, 39, 40, 46], 'leaves': [38, 39, 41, 46], 'twilight': [48, 49, 52, 71], 'falls': [48, 49, 53, 71], 'darkness': [48, 49, 52, 66], 'cover': [48, 49, 52, 66], 'as': [50, 51, 53, 71], 'gentle': [50, 51, 52, 67], 'slumber': [50, 51, 53, 68], 'lures': [50, 51, 52, 68], 'awakening': [50, 51, 53, 67], 'dreams': [50, 51, 52, 66], 'journey': [54, 55, 59, 67], 'celelstial': [54, 55], 'wings': [54, 55, 58, 70], 'through': [54, 55, 59, 69], 'astral': [54, 55, 59, 69], 'visions': [54, 55, 59, 69], 'hover': [56, 57, 58, 69], 'above': [56, 57, 58, 69], 'earthbound': [56, 57, 70], 'limitations': [56, 57, 58, 70], 'celestial': [58, 70], 'earth': [58], 'bound': [58], 'explore': [60, 61, 65, 71], 'expansiveness': [60, 61, 64, 68], 'self': [60, 61, 64, 68], 'look': [62, 63, 64, 66], 'discover': [62, 63, 65, 67], 'untapped': [62, 63, 65, 71], 'wealth': [62, 63, 65, 71]}\n"
     ]
    }
   ],
   "source": [
    "d = defaultdict(list)\n",
    "\n",
    "for item in data:\n",
    "    # get tokens\n",
    "    tokens = tokenize(item['text'])\n",
    "    for token in tokens:\n",
    "        d[token].append(item['id'])\n",
    "\n",
    "db = dict(d)\n",
    "\n",
    "print(db)"
   ]
  },
  {
   "cell_type": "code",
   "execution_count": null,
   "metadata": {},
   "outputs": [],
   "source": []
  },
  {
   "cell_type": "markdown",
   "metadata": {},
   "source": [
    "### Count # times other lines share a word"
   ]
  },
  {
   "cell_type": "code",
   "execution_count": 7,
   "metadata": {},
   "outputs": [
    {
     "data": {
      "text/plain": [
       "['meet', 'me', 'on', 'the', 'darkest', 'sea', 'of', 'dead', 'stars']"
      ]
     },
     "execution_count": 7,
     "metadata": {},
     "output_type": "execute_result"
    }
   ],
   "source": [
    "# get tokens for id\n",
    "i = 0\n",
    "item = next(x for x in data if x['id'] == i)\n",
    "tokens = tokenize(item['text'])\n",
    "\n",
    "tokens"
   ]
  },
  {
   "cell_type": "code",
   "execution_count": 8,
   "metadata": {},
   "outputs": [
    {
     "data": {
      "text/plain": [
       "[(1, 9), (5, 6), (18, 6), (4, 4)]"
      ]
     },
     "execution_count": 8,
     "metadata": {},
     "output_type": "execute_result"
    }
   ],
   "source": [
    "c = Counter()\n",
    "for word in tokens:\n",
    "    line_ids = [\n",
    "        x for x in db[word]\n",
    "        if x != item['id']\n",
    "    ]\n",
    "    c.update(line_ids)\n",
    "    \n",
    "c.most_common(4)"
   ]
  },
  {
   "cell_type": "code",
   "execution_count": 9,
   "metadata": {},
   "outputs": [
    {
     "data": {
      "text/plain": [
       "[1, 5, 18, 4]"
      ]
     },
     "execution_count": 9,
     "metadata": {},
     "output_type": "execute_result"
    }
   ],
   "source": [
    "ids = [x[0] for x in c.most_common(4)]\n",
    "ids"
   ]
  },
  {
   "cell_type": "code",
   "execution_count": 10,
   "metadata": {},
   "outputs": [
    {
     "data": {
      "text/html": [
       "<div>\n",
       "<style scoped>\n",
       "    .dataframe tbody tr th:only-of-type {\n",
       "        vertical-align: middle;\n",
       "    }\n",
       "\n",
       "    .dataframe tbody tr th {\n",
       "        vertical-align: top;\n",
       "    }\n",
       "\n",
       "    .dataframe thead th {\n",
       "        text-align: right;\n",
       "    }\n",
       "</style>\n",
       "<table border=\"1\" class=\"dataframe\">\n",
       "  <thead>\n",
       "    <tr style=\"text-align: right;\">\n",
       "      <th></th>\n",
       "      <th>line</th>\n",
       "      <th>poem</th>\n",
       "      <th>text</th>\n",
       "    </tr>\n",
       "    <tr>\n",
       "      <th>id</th>\n",
       "      <th></th>\n",
       "      <th></th>\n",
       "      <th></th>\n",
       "    </tr>\n",
       "  </thead>\n",
       "  <tbody>\n",
       "    <tr>\n",
       "      <th>1</th>\n",
       "      <td>1</td>\n",
       "      <td>sample1</td>\n",
       "      <td>meet me on the darkest sea of dead stars</td>\n",
       "    </tr>\n",
       "    <tr>\n",
       "      <th>5</th>\n",
       "      <td>5</td>\n",
       "      <td>sample1</td>\n",
       "      <td>sea of dead waves when my skin meet me stars</td>\n",
       "    </tr>\n",
       "    <tr>\n",
       "      <th>18</th>\n",
       "      <td>18</td>\n",
       "      <td>sample1</td>\n",
       "      <td>on the darkest sea of dead abstraction</td>\n",
       "    </tr>\n",
       "    <tr>\n",
       "      <th>4</th>\n",
       "      <td>4</td>\n",
       "      <td>sample1</td>\n",
       "      <td>i’ll remember the burn on the darkest</td>\n",
       "    </tr>\n",
       "  </tbody>\n",
       "</table>\n",
       "</div>"
      ],
      "text/plain": [
       "    line     poem                                          text\n",
       "id                                                             \n",
       "1      1  sample1      meet me on the darkest sea of dead stars\n",
       "5      5  sample1  sea of dead waves when my skin meet me stars\n",
       "18    18  sample1        on the darkest sea of dead abstraction\n",
       "4      4  sample1         i’ll remember the burn on the darkest"
      ]
     },
     "execution_count": 10,
     "metadata": {},
     "output_type": "execute_result"
    }
   ],
   "source": [
    "df.loc[ids]"
   ]
  },
  {
   "cell_type": "code",
   "execution_count": null,
   "metadata": {},
   "outputs": [],
   "source": []
  },
  {
   "cell_type": "code",
   "execution_count": null,
   "metadata": {},
   "outputs": [],
   "source": []
  },
  {
   "cell_type": "markdown",
   "metadata": {},
   "source": [
    "### Combinations"
   ]
  },
  {
   "cell_type": "code",
   "execution_count": 11,
   "metadata": {},
   "outputs": [],
   "source": [
    "def get_combos(tokens):\n",
    "    total = []\n",
    "    for i in range(1, len(tokens)+1):\n",
    "        combos = list(combinations(sorted(tokens), i))\n",
    "        total.extend(combos)\n",
    "    return total"
   ]
  },
  {
   "cell_type": "code",
   "execution_count": 12,
   "metadata": {},
   "outputs": [],
   "source": [
    "FULL = defaultdict(list)"
   ]
  },
  {
   "cell_type": "code",
   "execution_count": 13,
   "metadata": {},
   "outputs": [
    {
     "name": "stdout",
     "output_type": "stream",
     "text": [
      "['meet', 'me', 'on', 'the', 'darkest', 'sea', 'of', 'dead', 'stars']\n",
      "# combos: 511\n",
      "# FULL  : 511\n"
     ]
    }
   ],
   "source": [
    "# choose id\n",
    "text_id = 0\n",
    "\n",
    "# get tokens for that string\n",
    "item = next(x for x in data if x['id'] == text_id)\n",
    "tokens = tokenize(item['text'])\n",
    "print(tokens)\n",
    "\n",
    "# find comobos\n",
    "combos = get_combos(tokens)\n",
    "print(\"# combos:\", len(combos))\n",
    "\n",
    "# add to record\n",
    "for c in combos:\n",
    "    FULL[c].append(text_id)\n",
    "    \n",
    "print(\"# FULL  :\", len(FULL))"
   ]
  },
  {
   "cell_type": "code",
   "execution_count": 14,
   "metadata": {},
   "outputs": [
    {
     "name": "stdout",
     "output_type": "stream",
     "text": [
      "['i’ll', 'remember', 'the', 'burn', 'on', 'the', 'darkest']\n",
      "# combos: 127\n",
      "# FULL  : 599\n"
     ]
    }
   ],
   "source": [
    "# choose id\n",
    "text_id = 4\n",
    "\n",
    "# get tokens for that string\n",
    "item = next(x for x in data if x['id'] == text_id)\n",
    "tokens = tokenize(item['text'])\n",
    "print(tokens)\n",
    "\n",
    "# find comobos\n",
    "combos = get_combos(tokens)\n",
    "print(\"# combos:\", len(combos))\n",
    "\n",
    "# add to record\n",
    "for c in combos:\n",
    "    FULL[c].append(text_id)\n",
    "    \n",
    "print(\"# FULL  :\", len(FULL))"
   ]
  },
  {
   "cell_type": "code",
   "execution_count": null,
   "metadata": {},
   "outputs": [],
   "source": []
  },
  {
   "cell_type": "code",
   "execution_count": null,
   "metadata": {},
   "outputs": [],
   "source": []
  },
  {
   "cell_type": "code",
   "execution_count": null,
   "metadata": {},
   "outputs": [],
   "source": []
  },
  {
   "cell_type": "code",
   "execution_count": 15,
   "metadata": {},
   "outputs": [],
   "source": [
    "def load_all():\n",
    "    my_data = defaultdict(list)\n",
    "    \n",
    "    for item in data:\n",
    "        # tokenize\n",
    "        tokens = tokenize(item['text'])\n",
    "        \n",
    "        # find comobos\n",
    "        combos = get_combos(tokens)\n",
    "        \n",
    "        # add to record\n",
    "        for c in combos:\n",
    "            my_data[c].append(item['id'])\n",
    "            \n",
    "    return my_data"
   ]
  },
  {
   "cell_type": "code",
   "execution_count": 16,
   "metadata": {},
   "outputs": [],
   "source": [
    "my_data = load_all()"
   ]
  },
  {
   "cell_type": "code",
   "execution_count": 17,
   "metadata": {},
   "outputs": [
    {
     "name": "stdout",
     "output_type": "stream",
     "text": [
      "('darkest', 'me')         [0, 1]\n",
      "('darkest', 'meet')       [0, 1]\n",
      "('darkest', 'of')         [0, 1, 18]\n",
      "('darkest', 'on')         [0, 1, 4, 18]\n",
      "('darkest', 'sea')        [0, 1, 18]\n",
      "('darkest', 'stars')      [0, 1]\n",
      "('darkest', 'the')        [0, 1, 4, 4, 18]\n",
      "('dead', 'me')            [0, 1, 5]\n",
      "('dead', 'meet')          [0, 1, 5]\n",
      "('dead', 'of')            [0, 1, 5, 18]\n"
     ]
    }
   ],
   "source": [
    "# preview\n",
    "\n",
    "i, j = 10, 20\n",
    "\n",
    "some_keys = list(my_data.keys())[i:j]\n",
    "\n",
    "for k in some_keys:\n",
    "    print(f\"{str(k):25} {my_data[k]}\")"
   ]
  },
  {
   "cell_type": "code",
   "execution_count": null,
   "metadata": {},
   "outputs": [],
   "source": []
  },
  {
   "cell_type": "code",
   "execution_count": null,
   "metadata": {},
   "outputs": [],
   "source": []
  },
  {
   "cell_type": "code",
   "execution_count": 18,
   "metadata": {},
   "outputs": [],
   "source": [
    "a = load_archive()"
   ]
  },
  {
   "cell_type": "code",
   "execution_count": 20,
   "metadata": {},
   "outputs": [
    {
     "data": {
      "text/plain": [
       "53898"
      ]
     },
     "execution_count": 20,
     "metadata": {},
     "output_type": "execute_result"
    }
   ],
   "source": [
    "len(a)"
   ]
  },
  {
   "cell_type": "code",
   "execution_count": null,
   "metadata": {},
   "outputs": [],
   "source": []
  }
 ],
 "metadata": {
  "kernelspec": {
   "display_name": "Python 3",
   "language": "python",
   "name": "python3"
  },
  "language_info": {
   "codemirror_mode": {
    "name": "ipython",
    "version": 3
   },
   "file_extension": ".py",
   "mimetype": "text/x-python",
   "name": "python",
   "nbconvert_exporter": "python",
   "pygments_lexer": "ipython3",
   "version": "3.7.3"
  }
 },
 "nbformat": 4,
 "nbformat_minor": 4
}
