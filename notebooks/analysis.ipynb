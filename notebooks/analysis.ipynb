{
 "cells": [
  {
   "cell_type": "code",
   "execution_count": 1,
   "metadata": {},
   "outputs": [],
   "source": [
    "%load_ext autoreload\n",
    "%autoreload 2\n",
    "\n",
    "import sys; sys.path.insert(0, '..')\n",
    "\n",
    "from collections import defaultdict, Counter\n",
    "import string\n",
    "import pandas as pd\n",
    "\n",
    "from paradeller.samples import sample1, sample2, sample3\n",
    "from paradeller.analysis import tokenize"
   ]
  },
  {
   "cell_type": "code",
   "execution_count": null,
   "metadata": {},
   "outputs": [],
   "source": []
  },
  {
   "cell_type": "markdown",
   "metadata": {},
   "source": [
    "### Get into standard format"
   ]
  },
  {
   "cell_type": "code",
   "execution_count": 2,
   "metadata": {},
   "outputs": [],
   "source": [
    "ID_COUNTER = 0"
   ]
  },
  {
   "cell_type": "code",
   "execution_count": 3,
   "metadata": {},
   "outputs": [],
   "source": [
    "def datafy(text, name):\n",
    "    global ID_COUNTER\n",
    "    \n",
    "    # get lines, remove duplicates\n",
    "    lines = [\n",
    "        ' '.join(tokenize(x)) for x in text.split(\"\\n\")\n",
    "        if x != ''\n",
    "    ]\n",
    "    \n",
    "    data = []\n",
    "    for i, line in enumerate(lines):\n",
    "        data.append(dict(\n",
    "            id=ID_COUNTER,\n",
    "            text=line,\n",
    "            poem=name,\n",
    "            line=i\n",
    "        ))\n",
    "        ID_COUNTER += 1\n",
    "    \n",
    "    return data"
   ]
  },
  {
   "cell_type": "code",
   "execution_count": 4,
   "metadata": {},
   "outputs": [],
   "source": [
    "def tokenize(text):\n",
    "    return [\n",
    "        x.strip().lower().translate(str.maketrans('', '', string.punctuation))\n",
    "        for x in text.split()\n",
    "    ]"
   ]
  },
  {
   "cell_type": "code",
   "execution_count": 5,
   "metadata": {},
   "outputs": [],
   "source": [
    "data1 = datafy(sample1, \"sample1\")\n",
    "data2 = datafy(sample2, \"sample2\")\n",
    "data3 = datafy(sample3, \"sample3\")\n",
    "\n",
    "data = data1 + data2 + data3"
   ]
  },
  {
   "cell_type": "code",
   "execution_count": 6,
   "metadata": {},
   "outputs": [
    {
     "data": {
      "text/html": [
       "<div>\n",
       "<style scoped>\n",
       "    .dataframe tbody tr th:only-of-type {\n",
       "        vertical-align: middle;\n",
       "    }\n",
       "\n",
       "    .dataframe tbody tr th {\n",
       "        vertical-align: top;\n",
       "    }\n",
       "\n",
       "    .dataframe thead th {\n",
       "        text-align: right;\n",
       "    }\n",
       "</style>\n",
       "<table border=\"1\" class=\"dataframe\">\n",
       "  <thead>\n",
       "    <tr style=\"text-align: right;\">\n",
       "      <th></th>\n",
       "      <th>line</th>\n",
       "      <th>poem</th>\n",
       "      <th>text</th>\n",
       "    </tr>\n",
       "    <tr>\n",
       "      <th>id</th>\n",
       "      <th></th>\n",
       "      <th></th>\n",
       "      <th></th>\n",
       "    </tr>\n",
       "  </thead>\n",
       "  <tbody>\n",
       "    <tr>\n",
       "      <th>0</th>\n",
       "      <td>0</td>\n",
       "      <td>sample1</td>\n",
       "      <td>meet me on the darkest sea of dead stars</td>\n",
       "    </tr>\n",
       "    <tr>\n",
       "      <th>1</th>\n",
       "      <td>1</td>\n",
       "      <td>sample1</td>\n",
       "      <td>meet me on the darkest sea of dead stars</td>\n",
       "    </tr>\n",
       "    <tr>\n",
       "      <th>2</th>\n",
       "      <td>2</td>\n",
       "      <td>sample1</td>\n",
       "      <td>when the waves burn my skin i’ll remember</td>\n",
       "    </tr>\n",
       "    <tr>\n",
       "      <th>3</th>\n",
       "      <td>3</td>\n",
       "      <td>sample1</td>\n",
       "      <td>when the waves burn my skin i’ll remember</td>\n",
       "    </tr>\n",
       "    <tr>\n",
       "      <th>4</th>\n",
       "      <td>4</td>\n",
       "      <td>sample1</td>\n",
       "      <td>i’ll remember the burn on the darkest</td>\n",
       "    </tr>\n",
       "  </tbody>\n",
       "</table>\n",
       "</div>"
      ],
      "text/plain": [
       "    line     poem                                       text\n",
       "id                                                          \n",
       "0      0  sample1   meet me on the darkest sea of dead stars\n",
       "1      1  sample1   meet me on the darkest sea of dead stars\n",
       "2      2  sample1  when the waves burn my skin i’ll remember\n",
       "3      3  sample1  when the waves burn my skin i’ll remember\n",
       "4      4  sample1      i’ll remember the burn on the darkest"
      ]
     },
     "execution_count": 6,
     "metadata": {},
     "output_type": "execute_result"
    }
   ],
   "source": [
    "df = pd.DataFrame(data).set_index('id')\n",
    "df.head()"
   ]
  },
  {
   "cell_type": "code",
   "execution_count": null,
   "metadata": {},
   "outputs": [],
   "source": []
  },
  {
   "cell_type": "markdown",
   "metadata": {},
   "source": [
    "### Load into dict"
   ]
  },
  {
   "cell_type": "code",
   "execution_count": 12,
   "metadata": {},
   "outputs": [
    {
     "data": {
      "text/html": [
       "<div>\n",
       "<style scoped>\n",
       "    .dataframe tbody tr th:only-of-type {\n",
       "        vertical-align: middle;\n",
       "    }\n",
       "\n",
       "    .dataframe tbody tr th {\n",
       "        vertical-align: top;\n",
       "    }\n",
       "\n",
       "    .dataframe thead th {\n",
       "        text-align: right;\n",
       "    }\n",
       "</style>\n",
       "<table border=\"1\" class=\"dataframe\">\n",
       "  <thead>\n",
       "    <tr style=\"text-align: right;\">\n",
       "      <th></th>\n",
       "      <th>line</th>\n",
       "      <th>poem</th>\n",
       "      <th>text</th>\n",
       "    </tr>\n",
       "    <tr>\n",
       "      <th>id</th>\n",
       "      <th></th>\n",
       "      <th></th>\n",
       "      <th></th>\n",
       "    </tr>\n",
       "  </thead>\n",
       "  <tbody>\n",
       "    <tr>\n",
       "      <th>0</th>\n",
       "      <td>0</td>\n",
       "      <td>sample1</td>\n",
       "      <td>meet me on the darkest sea of dead stars</td>\n",
       "    </tr>\n",
       "    <tr>\n",
       "      <th>1</th>\n",
       "      <td>1</td>\n",
       "      <td>sample1</td>\n",
       "      <td>meet me on the darkest sea of dead stars</td>\n",
       "    </tr>\n",
       "    <tr>\n",
       "      <th>2</th>\n",
       "      <td>2</td>\n",
       "      <td>sample1</td>\n",
       "      <td>when the waves burn my skin i’ll remember</td>\n",
       "    </tr>\n",
       "    <tr>\n",
       "      <th>3</th>\n",
       "      <td>3</td>\n",
       "      <td>sample1</td>\n",
       "      <td>when the waves burn my skin i’ll remember</td>\n",
       "    </tr>\n",
       "    <tr>\n",
       "      <th>4</th>\n",
       "      <td>4</td>\n",
       "      <td>sample1</td>\n",
       "      <td>i’ll remember the burn on the darkest</td>\n",
       "    </tr>\n",
       "    <tr>\n",
       "      <th>5</th>\n",
       "      <td>5</td>\n",
       "      <td>sample1</td>\n",
       "      <td>sea of dead waves when my skin meet me stars</td>\n",
       "    </tr>\n",
       "  </tbody>\n",
       "</table>\n",
       "</div>"
      ],
      "text/plain": [
       "    line     poem                                          text\n",
       "id                                                             \n",
       "0      0  sample1      meet me on the darkest sea of dead stars\n",
       "1      1  sample1      meet me on the darkest sea of dead stars\n",
       "2      2  sample1     when the waves burn my skin i’ll remember\n",
       "3      3  sample1     when the waves burn my skin i’ll remember\n",
       "4      4  sample1         i’ll remember the burn on the darkest\n",
       "5      5  sample1  sea of dead waves when my skin meet me stars"
      ]
     },
     "execution_count": 12,
     "metadata": {},
     "output_type": "execute_result"
    }
   ],
   "source": [
    "df[df['poem'] == 'sample1'].head(6)"
   ]
  },
  {
   "cell_type": "code",
   "execution_count": 13,
   "metadata": {},
   "outputs": [],
   "source": [
    "d = defaultdict(list)\n",
    "\n",
    "for item in data:\n",
    "    # get tokens\n",
    "    tokens = tokenize(item['text'])\n",
    "    \n",
    "    for token in tokens:\n",
    "        d[token].append(item['id'])\n",
    "\n",
    "db = dict(d)"
   ]
  },
  {
   "cell_type": "code",
   "execution_count": 14,
   "metadata": {},
   "outputs": [
    {
     "data": {
      "text/plain": [
       "{'id': 0,\n",
       " 'text': 'meet me on the darkest sea of dead stars',\n",
       " 'poem': 'sample1',\n",
       " 'line': 0}"
      ]
     },
     "execution_count": 14,
     "metadata": {},
     "output_type": "execute_result"
    }
   ],
   "source": [
    "# get item\n",
    "i = 0\n",
    "\n",
    "item = next(x for x in data if x['id'] == i)\n",
    "item"
   ]
  },
  {
   "cell_type": "code",
   "execution_count": 15,
   "metadata": {},
   "outputs": [
    {
     "data": {
      "text/plain": [
       "['meet', 'me', 'on', 'the', 'darkest', 'sea', 'of', 'dead', 'stars']"
      ]
     },
     "execution_count": 15,
     "metadata": {},
     "output_type": "execute_result"
    }
   ],
   "source": [
    "tokens = tokenize(item['text'])\n",
    "tokens"
   ]
  },
  {
   "cell_type": "code",
   "execution_count": 16,
   "metadata": {},
   "outputs": [
    {
     "data": {
      "text/plain": [
       "9"
      ]
     },
     "execution_count": 16,
     "metadata": {},
     "output_type": "execute_result"
    }
   ],
   "source": [
    "len(tokens)"
   ]
  },
  {
   "cell_type": "code",
   "execution_count": 18,
   "metadata": {},
   "outputs": [
    {
     "data": {
      "text/plain": [
       "[(1, 9),\n",
       " (5, 6),\n",
       " (18, 6),\n",
       " (4, 4),\n",
       " (23, 2),\n",
       " (24, 2),\n",
       " (25, 2),\n",
       " (43, 2),\n",
       " (60, 2),\n",
       " (61, 2)]"
      ]
     },
     "execution_count": 18,
     "metadata": {},
     "output_type": "execute_result"
    }
   ],
   "source": [
    "c = Counter()\n",
    "\n",
    "for word in tokens:\n",
    "    line_ids = [\n",
    "        x for x in db[word]\n",
    "        if x != item['id']]    \n",
    "    c.update(line_ids)\n",
    "    \n",
    "c.most_common(10)"
   ]
  },
  {
   "cell_type": "code",
   "execution_count": null,
   "metadata": {},
   "outputs": [],
   "source": []
  },
  {
   "cell_type": "code",
   "execution_count": null,
   "metadata": {},
   "outputs": [],
   "source": []
  },
  {
   "cell_type": "code",
   "execution_count": 16,
   "metadata": {},
   "outputs": [
    {
     "data": {
      "text/html": [
       "<div>\n",
       "<style scoped>\n",
       "    .dataframe tbody tr th:only-of-type {\n",
       "        vertical-align: middle;\n",
       "    }\n",
       "\n",
       "    .dataframe tbody tr th {\n",
       "        vertical-align: top;\n",
       "    }\n",
       "\n",
       "    .dataframe thead th {\n",
       "        text-align: right;\n",
       "    }\n",
       "</style>\n",
       "<table border=\"1\" class=\"dataframe\">\n",
       "  <thead>\n",
       "    <tr style=\"text-align: right;\">\n",
       "      <th></th>\n",
       "      <th>line</th>\n",
       "      <th>poem</th>\n",
       "      <th>text</th>\n",
       "    </tr>\n",
       "    <tr>\n",
       "      <th>id</th>\n",
       "      <th></th>\n",
       "      <th></th>\n",
       "      <th></th>\n",
       "    </tr>\n",
       "  </thead>\n",
       "  <tbody>\n",
       "    <tr>\n",
       "      <th>0</th>\n",
       "      <td>0</td>\n",
       "      <td>sample1</td>\n",
       "      <td>meet me on the darkest sea of dead stars</td>\n",
       "    </tr>\n",
       "    <tr>\n",
       "      <th>1</th>\n",
       "      <td>1</td>\n",
       "      <td>sample1</td>\n",
       "      <td>meet me on the darkest sea of dead stars</td>\n",
       "    </tr>\n",
       "    <tr>\n",
       "      <th>2</th>\n",
       "      <td>2</td>\n",
       "      <td>sample1</td>\n",
       "      <td>when the waves burn my skin i’ll remember</td>\n",
       "    </tr>\n",
       "    <tr>\n",
       "      <th>3</th>\n",
       "      <td>3</td>\n",
       "      <td>sample1</td>\n",
       "      <td>when the waves burn my skin i’ll remember</td>\n",
       "    </tr>\n",
       "    <tr>\n",
       "      <th>4</th>\n",
       "      <td>4</td>\n",
       "      <td>sample1</td>\n",
       "      <td>i’ll remember the burn on the darkest</td>\n",
       "    </tr>\n",
       "    <tr>\n",
       "      <th>5</th>\n",
       "      <td>5</td>\n",
       "      <td>sample1</td>\n",
       "      <td>sea of dead waves when my skin meet me stars</td>\n",
       "    </tr>\n",
       "    <tr>\n",
       "      <th>6</th>\n",
       "      <td>6</td>\n",
       "      <td>sample1</td>\n",
       "      <td>fall into this faulty trap of myself</td>\n",
       "    </tr>\n",
       "    <tr>\n",
       "      <th>7</th>\n",
       "      <td>7</td>\n",
       "      <td>sample1</td>\n",
       "      <td>fall into this faulty trap of myself</td>\n",
       "    </tr>\n",
       "    <tr>\n",
       "      <th>8</th>\n",
       "      <td>8</td>\n",
       "      <td>sample1</td>\n",
       "      <td>explain me without understanding why</td>\n",
       "    </tr>\n",
       "    <tr>\n",
       "      <th>9</th>\n",
       "      <td>9</td>\n",
       "      <td>sample1</td>\n",
       "      <td>explain me without understanding why</td>\n",
       "    </tr>\n",
       "    <tr>\n",
       "      <th>10</th>\n",
       "      <td>10</td>\n",
       "      <td>sample1</td>\n",
       "      <td>explain this faulty trap of myself fall</td>\n",
       "    </tr>\n",
       "    <tr>\n",
       "      <th>11</th>\n",
       "      <td>11</td>\n",
       "      <td>sample1</td>\n",
       "      <td>into understanding why without me</td>\n",
       "    </tr>\n",
       "    <tr>\n",
       "      <th>12</th>\n",
       "      <td>12</td>\n",
       "      <td>sample1</td>\n",
       "      <td>buries your sadness in my abstraction</td>\n",
       "    </tr>\n",
       "    <tr>\n",
       "      <th>13</th>\n",
       "      <td>13</td>\n",
       "      <td>sample1</td>\n",
       "      <td>buries your sadness in my abstraction</td>\n",
       "    </tr>\n",
       "    <tr>\n",
       "      <th>14</th>\n",
       "      <td>14</td>\n",
       "      <td>sample1</td>\n",
       "      <td>because time worries us eternally</td>\n",
       "    </tr>\n",
       "    <tr>\n",
       "      <th>15</th>\n",
       "      <td>15</td>\n",
       "      <td>sample1</td>\n",
       "      <td>because time worries us eternally</td>\n",
       "    </tr>\n",
       "    <tr>\n",
       "      <th>16</th>\n",
       "      <td>16</td>\n",
       "      <td>sample1</td>\n",
       "      <td>eternally in my abstraction your</td>\n",
       "    </tr>\n",
       "    <tr>\n",
       "      <th>17</th>\n",
       "      <td>17</td>\n",
       "      <td>sample1</td>\n",
       "      <td>sadness buries us because time worries</td>\n",
       "    </tr>\n",
       "    <tr>\n",
       "      <th>18</th>\n",
       "      <td>18</td>\n",
       "      <td>sample1</td>\n",
       "      <td>on the darkest sea of dead abstraction</td>\n",
       "    </tr>\n",
       "    <tr>\n",
       "      <th>19</th>\n",
       "      <td>19</td>\n",
       "      <td>sample1</td>\n",
       "      <td>explain your understanding without me</td>\n",
       "    </tr>\n",
       "    <tr>\n",
       "      <th>20</th>\n",
       "      <td>20</td>\n",
       "      <td>sample1</td>\n",
       "      <td>when the waves burn my skin i’ll remember</td>\n",
       "    </tr>\n",
       "    <tr>\n",
       "      <th>21</th>\n",
       "      <td>21</td>\n",
       "      <td>sample1</td>\n",
       "      <td>this faulty trap of myself because my</td>\n",
       "    </tr>\n",
       "    <tr>\n",
       "      <th>22</th>\n",
       "      <td>22</td>\n",
       "      <td>sample1</td>\n",
       "      <td>sadness buries us in time worries meet</td>\n",
       "    </tr>\n",
       "    <tr>\n",
       "      <th>23</th>\n",
       "      <td>23</td>\n",
       "      <td>sample1</td>\n",
       "      <td>me stars fall into why eternally</td>\n",
       "    </tr>\n",
       "  </tbody>\n",
       "</table>\n",
       "</div>"
      ],
      "text/plain": [
       "    line     poem                                          text\n",
       "id                                                             \n",
       "0      0  sample1      meet me on the darkest sea of dead stars\n",
       "1      1  sample1      meet me on the darkest sea of dead stars\n",
       "2      2  sample1     when the waves burn my skin i’ll remember\n",
       "3      3  sample1     when the waves burn my skin i’ll remember\n",
       "4      4  sample1         i’ll remember the burn on the darkest\n",
       "5      5  sample1  sea of dead waves when my skin meet me stars\n",
       "6      6  sample1          fall into this faulty trap of myself\n",
       "7      7  sample1          fall into this faulty trap of myself\n",
       "8      8  sample1          explain me without understanding why\n",
       "9      9  sample1          explain me without understanding why\n",
       "10    10  sample1       explain this faulty trap of myself fall\n",
       "11    11  sample1             into understanding why without me\n",
       "12    12  sample1         buries your sadness in my abstraction\n",
       "13    13  sample1         buries your sadness in my abstraction\n",
       "14    14  sample1             because time worries us eternally\n",
       "15    15  sample1             because time worries us eternally\n",
       "16    16  sample1              eternally in my abstraction your\n",
       "17    17  sample1        sadness buries us because time worries\n",
       "18    18  sample1        on the darkest sea of dead abstraction\n",
       "19    19  sample1         explain your understanding without me\n",
       "20    20  sample1     when the waves burn my skin i’ll remember\n",
       "21    21  sample1         this faulty trap of myself because my\n",
       "22    22  sample1        sadness buries us in time worries meet\n",
       "23    23  sample1              me stars fall into why eternally"
      ]
     },
     "execution_count": 16,
     "metadata": {},
     "output_type": "execute_result"
    }
   ],
   "source": [
    "df[df['poem'] == 'sample1']"
   ]
  },
  {
   "cell_type": "code",
   "execution_count": null,
   "metadata": {},
   "outputs": [],
   "source": []
  },
  {
   "cell_type": "code",
   "execution_count": null,
   "metadata": {},
   "outputs": [],
   "source": []
  },
  {
   "cell_type": "code",
   "execution_count": 3,
   "metadata": {},
   "outputs": [],
   "source": [
    "s1 = \"the dog is in the room\"\n",
    "s2 = \"the dog he walks outside\""
   ]
  },
  {
   "cell_type": "code",
   "execution_count": 17,
   "metadata": {},
   "outputs": [
    {
     "data": {
      "text/plain": [
       "{'dog', 'in', 'is', 'room', 'the'}"
      ]
     },
     "execution_count": 17,
     "metadata": {},
     "output_type": "execute_result"
    }
   ],
   "source": [
    "set1 = set(s1.split())\n",
    "set1"
   ]
  },
  {
   "cell_type": "code",
   "execution_count": 18,
   "metadata": {},
   "outputs": [
    {
     "data": {
      "text/plain": [
       "{'dog', 'he', 'outside', 'the', 'walks'}"
      ]
     },
     "execution_count": 18,
     "metadata": {},
     "output_type": "execute_result"
    }
   ],
   "source": [
    "set2 = set(s2.split())\n",
    "set2"
   ]
  },
  {
   "cell_type": "code",
   "execution_count": 19,
   "metadata": {},
   "outputs": [
    {
     "data": {
      "text/plain": [
       "{'in', 'is', 'room'}"
      ]
     },
     "execution_count": 19,
     "metadata": {},
     "output_type": "execute_result"
    }
   ],
   "source": [
    "set1 - set2"
   ]
  },
  {
   "cell_type": "code",
   "execution_count": 23,
   "metadata": {},
   "outputs": [
    {
     "data": {
      "text/plain": [
       "{'dog', 'the'}"
      ]
     },
     "execution_count": 23,
     "metadata": {},
     "output_type": "execute_result"
    }
   ],
   "source": [
    "set1 & set2"
   ]
  },
  {
   "cell_type": "code",
   "execution_count": 20,
   "metadata": {},
   "outputs": [
    {
     "data": {
      "text/plain": [
       "{'he', 'in', 'is', 'outside', 'room', 'walks'}"
      ]
     },
     "execution_count": 20,
     "metadata": {},
     "output_type": "execute_result"
    }
   ],
   "source": [
    "set1 ^ set2"
   ]
  },
  {
   "cell_type": "code",
   "execution_count": null,
   "metadata": {},
   "outputs": [],
   "source": []
  }
 ],
 "metadata": {
  "kernelspec": {
   "display_name": "Python 3",
   "language": "python",
   "name": "python3"
  },
  "language_info": {
   "codemirror_mode": {
    "name": "ipython",
    "version": 3
   },
   "file_extension": ".py",
   "mimetype": "text/x-python",
   "name": "python",
   "nbconvert_exporter": "python",
   "pygments_lexer": "ipython3",
   "version": "3.7.3"
  }
 },
 "nbformat": 4,
 "nbformat_minor": 4
}
