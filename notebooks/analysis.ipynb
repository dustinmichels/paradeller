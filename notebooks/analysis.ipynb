{
 "cells": [
  {
   "cell_type": "code",
   "execution_count": 1,
   "metadata": {},
   "outputs": [],
   "source": [
    "%load_ext autoreload\n",
    "%autoreload 2"
   ]
  },
  {
   "cell_type": "code",
   "execution_count": 2,
   "metadata": {},
   "outputs": [],
   "source": [
    "import sys; sys.path.insert(0, '..')\n",
    "\n",
    "from collections import defaultdict, Counter\n",
    "import string\n",
    "import pandas as pd\n",
    "\n",
    "from paradeller.helper import comma_print"
   ]
  },
  {
   "cell_type": "markdown",
   "metadata": {},
   "source": [
    "## Load data"
   ]
  },
  {
   "cell_type": "code",
   "execution_count": 3,
   "metadata": {},
   "outputs": [],
   "source": [
    "from paradeller.helper import load_archive\n",
    "from paradeller.samples import load_samples"
   ]
  },
  {
   "cell_type": "code",
   "execution_count": 4,
   "metadata": {},
   "outputs": [],
   "source": [
    "# from samples\n",
    "sample_data = load_samples()\n",
    "df = pd.DataFrame(sample_data).set_index('id')"
   ]
  },
  {
   "cell_type": "code",
   "execution_count": 5,
   "metadata": {},
   "outputs": [
    {
     "name": "stdout",
     "output_type": "stream",
     "text": [
      "197,352\n"
     ]
    }
   ],
   "source": [
    "# from archive\n",
    "archive_data = load_archive()\n",
    "comma_print(len(archive_data))"
   ]
  },
  {
   "cell_type": "markdown",
   "metadata": {},
   "source": [
    "### Choose a source to use"
   ]
  },
  {
   "cell_type": "code",
   "execution_count": 6,
   "metadata": {},
   "outputs": [
    {
     "name": "stdout",
     "output_type": "stream",
     "text": [
      "197,352\n"
     ]
    }
   ],
   "source": [
    "##################\n",
    "use_samples = False\n",
    "##################\n",
    "\n",
    "if use_samples:\n",
    "    data = sample_data\n",
    "else:\n",
    "    data = archive_data\n",
    "\n",
    "comma_print(len(data))"
   ]
  },
  {
   "cell_type": "markdown",
   "metadata": {},
   "source": [
    "### Access data"
   ]
  },
  {
   "cell_type": "code",
   "execution_count": 7,
   "metadata": {},
   "outputs": [],
   "source": [
    "def get_tweet(i):\n",
    "    \"\"\"Find tweet with given id\"\"\"\n",
    "    try:\n",
    "        return next(x for x in data if x[\"id\"] == i)\n",
    "    except StopIteration as e:\n",
    "        print(\"Error: No tweet with that ID\")\n",
    "        return None"
   ]
  },
  {
   "cell_type": "markdown",
   "metadata": {},
   "source": [
    "## Do the algorithm"
   ]
  },
  {
   "cell_type": "markdown",
   "metadata": {},
   "source": [
    "### Filter down start tweets to choose from"
   ]
  },
  {
   "cell_type": "markdown",
   "metadata": {},
   "source": [
    "#### Remove duplicate ids\n",
    "\n",
    "Tweets with exactly the same id"
   ]
  },
  {
   "cell_type": "code",
   "execution_count": 8,
   "metadata": {},
   "outputs": [
    {
     "name": "stdout",
     "output_type": "stream",
     "text": [
      "101,321\n"
     ]
    }
   ],
   "source": [
    "d = {}\n",
    "for item in data:\n",
    "    d[item['id']] = item\n",
    "data = list(d.values())\n",
    "comma_print(len(data))"
   ]
  },
  {
   "cell_type": "markdown",
   "metadata": {},
   "source": [
    "#### Remove duplicates phrases\n",
    "\n",
    "Temporarily remove tweets with duplicate word sets"
   ]
  },
  {
   "cell_type": "code",
   "execution_count": 9,
   "metadata": {},
   "outputs": [],
   "source": [
    "from paradeller.analysis import find_duplicates, filter_out_duplicates"
   ]
  },
  {
   "cell_type": "code",
   "execution_count": 10,
   "metadata": {},
   "outputs": [
    {
     "data": {
      "application/vnd.jupyter.widget-view+json": {
       "model_id": "b51f0da8c125477f9daf00cbd3f8469c",
       "version_major": 2,
       "version_minor": 0
      },
      "text/plain": [
       "HBox(children=(IntProgress(value=0, max=101321), HTML(value='')))"
      ]
     },
     "metadata": {},
     "output_type": "display_data"
    },
    {
     "name": "stdout",
     "output_type": "stream",
     "text": [
      "\n"
     ]
    }
   ],
   "source": [
    "# get duplicates { sorted words tuple: ids }\n",
    "duplicates = find_duplicates(data)\n",
    "\n",
    "# only keep first\n",
    "data = filter_out_duplicates(data, duplicates)"
   ]
  },
  {
   "cell_type": "markdown",
   "metadata": {},
   "source": [
    "#### Every word must appear in at least 3 lines"
   ]
  },
  {
   "cell_type": "code",
   "execution_count": 11,
   "metadata": {},
   "outputs": [],
   "source": [
    "from paradeller.analysis import filter_out_oddballs"
   ]
  },
  {
   "cell_type": "code",
   "execution_count": 12,
   "metadata": {},
   "outputs": [
    {
     "data": {
      "application/vnd.jupyter.widget-view+json": {
       "model_id": "80597139935e495487c82bfa534e3be1",
       "version_major": 2,
       "version_minor": 0
      },
      "text/plain": [
       "HBox(children=(IntProgress(value=0, max=99269), HTML(value='')))"
      ]
     },
     "metadata": {},
     "output_type": "display_data"
    },
    {
     "name": "stdout",
     "output_type": "stream",
     "text": [
      "\n"
     ]
    }
   ],
   "source": [
    "data = filter_out_oddballs(data)"
   ]
  },
  {
   "cell_type": "markdown",
   "metadata": {},
   "source": [
    "### Create Adj. Lists"
   ]
  },
  {
   "cell_type": "code",
   "execution_count": 13,
   "metadata": {},
   "outputs": [],
   "source": [
    "from paradeller.analysis import restructure_data"
   ]
  },
  {
   "cell_type": "code",
   "execution_count": 14,
   "metadata": {},
   "outputs": [
    {
     "data": {
      "application/vnd.jupyter.widget-view+json": {
       "model_id": "f3afef9d997c4676a8e3f68d1906822f",
       "version_major": 2,
       "version_minor": 0
      },
      "text/plain": [
       "HBox(children=(IntProgress(value=0, max=69527), HTML(value='')))"
      ]
     },
     "metadata": {},
     "output_type": "display_data"
    },
    {
     "name": "stdout",
     "output_type": "stream",
     "text": [
      "\n"
     ]
    }
   ],
   "source": [
    "adj_list_words, adj_list_ids = restructure_data(data)"
   ]
  },
  {
   "cell_type": "code",
   "execution_count": 15,
   "metadata": {},
   "outputs": [
    {
     "name": "stdout",
     "output_type": "stream",
     "text": [
      "12,467\n",
      "69,527\n"
     ]
    }
   ],
   "source": [
    "comma_print(len(adj_list_words))\n",
    "comma_print(len(adj_list_ids))"
   ]
  },
  {
   "cell_type": "markdown",
   "metadata": {},
   "source": [
    "### Find matches"
   ]
  },
  {
   "cell_type": "code",
   "execution_count": 16,
   "metadata": {},
   "outputs": [],
   "source": [
    "from itertools import combinations\n",
    "import random\n",
    "from tqdm import tqdm, trange\n",
    "\n",
    "from paradeller.analysis import find_matches, get_potential_tweets, find_valid_matches"
   ]
  },
  {
   "cell_type": "code",
   "execution_count": 17,
   "metadata": {},
   "outputs": [
    {
     "name": "stdout",
     "output_type": "stream",
     "text": [
      "69,527\n"
     ]
    }
   ],
   "source": [
    "ids = list(adj_list_ids.keys())\n",
    "comma_print(len(ids))"
   ]
  },
  {
   "cell_type": "markdown",
   "metadata": {},
   "source": [
    "#### Randomly choose start pairs"
   ]
  },
  {
   "cell_type": "code",
   "execution_count": 30,
   "metadata": {},
   "outputs": [
    {
     "name": "stdout",
     "output_type": "stream",
     "text": [
      "44,850\n"
     ]
    }
   ],
   "source": [
    "some_ids = [\n",
    "    random.choice(ids)\n",
    "    for _ in range(300)\n",
    "]\n",
    "\n",
    "pairs = list(combinations(some_ids, 2))\n",
    "comma_print(len(pairs))"
   ]
  },
  {
   "cell_type": "markdown",
   "metadata": {},
   "source": [
    "#### Filter out shared words\n",
    "\n",
    "The best paradelles often have no shared words between start lines"
   ]
  },
  {
   "cell_type": "code",
   "execution_count": 31,
   "metadata": {},
   "outputs": [],
   "source": [
    "def no_common_words(pair):    \n",
    "    s1 = set(adj_list_ids[pair[0]])\n",
    "    s2 = set(adj_list_ids[pair[1]])\n",
    "    return len(s1.intersection(s2)) == 0"
   ]
  },
  {
   "cell_type": "code",
   "execution_count": 32,
   "metadata": {},
   "outputs": [],
   "source": [
    "# pairs = [\n",
    "#     p for p in pairs\n",
    "#     if no_common_words(p)\n",
    "# ]"
   ]
  },
  {
   "cell_type": "code",
   "execution_count": 33,
   "metadata": {},
   "outputs": [
    {
     "name": "stdout",
     "output_type": "stream",
     "text": [
      "44,850\n"
     ]
    }
   ],
   "source": [
    "comma_print(len(pairs))"
   ]
  },
  {
   "cell_type": "markdown",
   "metadata": {},
   "source": [
    "#### Find matches!!"
   ]
  },
  {
   "cell_type": "code",
   "execution_count": 34,
   "metadata": {},
   "outputs": [],
   "source": [
    "from paradeller.analysis import find_matches, find_matches_for_start_pairs"
   ]
  },
  {
   "cell_type": "code",
   "execution_count": 35,
   "metadata": {},
   "outputs": [
    {
     "data": {
      "application/vnd.jupyter.widget-view+json": {
       "model_id": "da709e814b444fee8f1e0482575d3f94",
       "version_major": 2,
       "version_minor": 0
      },
      "text/plain": [
       "HBox(children=(IntProgress(value=0, max=44850), HTML(value='')))"
      ]
     },
     "metadata": {},
     "output_type": "display_data"
    },
    {
     "name": "stdout",
     "output_type": "stream",
     "text": [
      "\n"
     ]
    }
   ],
   "source": [
    "all_valid = find_matches_for_start_pairs(pairs, adj_list_ids, adj_list_words)"
   ]
  },
  {
   "cell_type": "code",
   "execution_count": 36,
   "metadata": {},
   "outputs": [
    {
     "data": {
      "text/plain": [
       "0"
      ]
     },
     "execution_count": 36,
     "metadata": {},
     "output_type": "execute_result"
    }
   ],
   "source": [
    "len(all_valid)"
   ]
  },
  {
   "cell_type": "code",
   "execution_count": 37,
   "metadata": {},
   "outputs": [],
   "source": [
    "for pair, matches in all_valid.items():\n",
    "    t1, t2 = pair\n",
    "    stanza_start = [t1, t1, t2, t2]\n",
    "    for match in matches:\n",
    "        a, b = match\n",
    "        stanza = stanza_start + [a, b]\n",
    "        print(\"~\"*50)\n",
    "        for t in stanza:\n",
    "            tweet = get_tweet(t)\n",
    "            print(f\"@{tweet['author']:20} {tweet['text']} \")"
   ]
  },
  {
   "cell_type": "code",
   "execution_count": null,
   "metadata": {},
   "outputs": [],
   "source": []
  },
  {
   "cell_type": "code",
   "execution_count": null,
   "metadata": {},
   "outputs": [],
   "source": []
  },
  {
   "cell_type": "code",
   "execution_count": null,
   "metadata": {},
   "outputs": [],
   "source": []
  },
  {
   "cell_type": "code",
   "execution_count": null,
   "metadata": {},
   "outputs": [],
   "source": []
  },
  {
   "cell_type": "code",
   "execution_count": null,
   "metadata": {},
   "outputs": [],
   "source": []
  },
  {
   "cell_type": "code",
   "execution_count": null,
   "metadata": {},
   "outputs": [],
   "source": []
  },
  {
   "cell_type": "code",
   "execution_count": null,
   "metadata": {},
   "outputs": [],
   "source": []
  },
  {
   "cell_type": "code",
   "execution_count": null,
   "metadata": {},
   "outputs": [],
   "source": []
  },
  {
   "cell_type": "markdown",
   "metadata": {},
   "source": [
    "#### Parallel?"
   ]
  },
  {
   "cell_type": "code",
   "execution_count": 28,
   "metadata": {},
   "outputs": [],
   "source": [
    "from math import sqrt\n",
    "from joblib import Parallel, delayed"
   ]
  },
  {
   "cell_type": "code",
   "execution_count": 30,
   "metadata": {},
   "outputs": [],
   "source": [
    "# matches = Parallel(n_jobs=2)(delayed(find_matches)(\n",
    "#     p[0], p[1], adj_list_ids, adj_list_words\n",
    "# ) for p in tqdm(pairs))"
   ]
  },
  {
   "cell_type": "code",
   "execution_count": null,
   "metadata": {},
   "outputs": [],
   "source": []
  },
  {
   "cell_type": "code",
   "execution_count": 31,
   "metadata": {},
   "outputs": [],
   "source": [
    "# %%timeit\n",
    "# matches = Parallel(n_jobs=2)(delayed(find_matches)(\n",
    "#     p[0], p[1], adj_list_ids, adj_list_words\n",
    "# ) for p in pairs)"
   ]
  },
  {
   "cell_type": "code",
   "execution_count": null,
   "metadata": {},
   "outputs": [],
   "source": [
    "%%timeit\n",
    "matches = [\n",
    "    find_matches(p[0], p[1], adj_list_ids, adj_list_words)\n",
    "    for p in pairs\n",
    "]"
   ]
  },
  {
   "cell_type": "code",
   "execution_count": null,
   "metadata": {},
   "outputs": [],
   "source": []
  },
  {
   "cell_type": "code",
   "execution_count": null,
   "metadata": {},
   "outputs": [],
   "source": []
  },
  {
   "cell_type": "code",
   "execution_count": 156,
   "metadata": {},
   "outputs": [],
   "source": [
    "pairs = combos\n",
    "\n",
    "all_valid = {}\n",
    "for p in pairs:\n",
    "    valid = find_matches(p[0], p[1], adj_list_ids, adj_list_words)\n",
    "    if valid:\n",
    "        all_valid[p] = valid"
   ]
  },
  {
   "cell_type": "code",
   "execution_count": 83,
   "metadata": {},
   "outputs": [],
   "source": [
    "# all_valid"
   ]
  },
  {
   "cell_type": "code",
   "execution_count": null,
   "metadata": {},
   "outputs": [],
   "source": []
  },
  {
   "cell_type": "code",
   "execution_count": null,
   "metadata": {},
   "outputs": [],
   "source": []
  },
  {
   "cell_type": "markdown",
   "metadata": {},
   "source": [
    "#### Display results"
   ]
  },
  {
   "cell_type": "code",
   "execution_count": 84,
   "metadata": {},
   "outputs": [
    {
     "name": "stdout",
     "output_type": "stream",
     "text": [
      "~~~~~~~~~~~~~~~~~~~~~~~~~~~~~~~~~~~~~~~~~~~~~~~~~~\n",
      "@unknown              where the cypress bow tis shady trees \n",
      "@unknown              where the cypress bow tis shady trees \n",
      "@unknown              beneath the bend and branches breeze \n",
      "@unknown              beneath the bend and branches breeze \n",
      "@unknown              tis the breeze beneath the cypress trees \n",
      "@unknown              where shady branches bend and bow \n"
     ]
    }
   ],
   "source": [
    "for pair, matches in all_valid.items():\n",
    "    t1, t2 = pair\n",
    "    stanza_start = [t1, t1, t2, t2]\n",
    "    for match in matches:\n",
    "        a, b = match\n",
    "        stanza = stanza_start + [a, b]\n",
    "        print(\"~\"*50)\n",
    "        for t in stanza:\n",
    "            tweet = get_tweet(t)\n",
    "            print(f\"@{tweet['author']:20} {tweet['text']} \")"
   ]
  },
  {
   "cell_type": "code",
   "execution_count": null,
   "metadata": {},
   "outputs": [],
   "source": []
  },
  {
   "cell_type": "code",
   "execution_count": null,
   "metadata": {},
   "outputs": [],
   "source": []
  },
  {
   "cell_type": "markdown",
   "metadata": {},
   "source": [
    "### Including duplicates again"
   ]
  },
  {
   "cell_type": "code",
   "execution_count": 120,
   "metadata": {},
   "outputs": [],
   "source": [
    "def display_stanza(ids):\n",
    "    for t in ids:\n",
    "        tweet = get_tweet(t)\n",
    "        print(f\"@{tweet['author']:20} {tweet['text']} \")"
   ]
  },
  {
   "cell_type": "code",
   "execution_count": 217,
   "metadata": {},
   "outputs": [],
   "source": [
    "lines = [\n",
    "    1144358993399353354,\n",
    "    1144688724996952064,\n",
    "    1144692637733138432,\n",
    "    1144688724506284033\n",
    "]"
   ]
  },
  {
   "cell_type": "code",
   "execution_count": 218,
   "metadata": {},
   "outputs": [
    {
     "name": "stdout",
     "output_type": "stream",
     "text": [
      "@BriannaS_            I’m tired asf \n",
      "@mamican_tarik        AAPL: 197.34 at Jun 28, 2019 7:27 PM \n",
      "@only_1diamond98      I’m tired asf \n",
      "@A7la7yati            AAPL: 197.34 at Jun 28, 2019 7:27 PM \n"
     ]
    }
   ],
   "source": [
    "display_stanza(lines)"
   ]
  },
  {
   "cell_type": "code",
   "execution_count": 52,
   "metadata": {},
   "outputs": [],
   "source": [
    "def exact_match(start_pair, found_pair):\n",
    "    t1, t2 = start_pair\n",
    "    ta, tb = found_pair\n",
    "    return (\n",
    "        (adj_list_ids[ta] == adj_list_ids[t1]) or\n",
    "        (adj_list_ids[ta] == adj_list_ids[t2]))"
   ]
  },
  {
   "cell_type": "code",
   "execution_count": 53,
   "metadata": {},
   "outputs": [],
   "source": [
    "def find_start_lines(t1, t2, exact_matches, adj_list_ids):\n",
    "    \n",
    "    words1 = adj_list_ids[t1]\n",
    "    words2 = adj_list_ids[t2]\n",
    "    \n",
    "    for pair in exact_matches:\n",
    "        a, b = pair\n",
    "        if (words1 == adj_list_ids[a]) and (words2 == adj_list_ids[b]):\n",
    "            return [t1, a, t2, b]\n",
    "        if (words1 == adj_list_ids[b]) and (words2 == adj_list_ids[a]):\n",
    "            return [t1, b, t2, a]\n",
    "    \n",
    "    return [t1, t1, t2, t2]"
   ]
  },
  {
   "cell_type": "code",
   "execution_count": 54,
   "metadata": {},
   "outputs": [
    {
     "name": "stdout",
     "output_type": "stream",
     "text": [
      "~~~~~~~~~~~~~~~~~~~~~~~~~~~~~~~~~~~~~~~~~~~~~~~~~~\n",
      "@nicksparks94         I am..........so tired \n",
      "@nicksparks94         I am..........so tired \n",
      "@videotpes            my head hurts SO BAD \n",
      "@videotpes            my head hurts SO BAD \n",
      "@jaymaleeth           i am tired . \n",
      "@taylorrrrxoxo_       My head hurts so bad \n"
     ]
    }
   ],
   "source": [
    "for pair, matches in all_valid.items():\n",
    "    t1, t2 = pair\n",
    "    \n",
    "    words1 = adj_list_ids[t1]\n",
    "    words2 = adj_list_ids[t2]\n",
    "    \n",
    "    exact_matches = [m for m in matches if exact_match(pair, m)]\n",
    "    non_exact_matches = list(set(matches) - set(exact_matches))\n",
    "    \n",
    "    if non_exact_matches:\n",
    "        stanza_start = find_start_lines(t1, t2, exact_matches, adj_list_ids)            \n",
    "        stanza_end = [\n",
    "            non_exact_matches[0][0],\n",
    "            non_exact_matches[0][1]\n",
    "        ]\n",
    "        stanza = stanza_start + stanza_end\n",
    "        print(\"~\"*50)\n",
    "        for t in stanza:\n",
    "            tweet = get_tweet(t)\n",
    "            print(f\"@{tweet['author']:20} {tweet['text']} \")"
   ]
  },
  {
   "cell_type": "code",
   "execution_count": null,
   "metadata": {},
   "outputs": [],
   "source": []
  },
  {
   "cell_type": "code",
   "execution_count": null,
   "metadata": {},
   "outputs": [],
   "source": []
  },
  {
   "cell_type": "code",
   "execution_count": null,
   "metadata": {},
   "outputs": [],
   "source": []
  },
  {
   "cell_type": "markdown",
   "metadata": {},
   "source": [
    "### Count # times other lines share a word"
   ]
  },
  {
   "cell_type": "code",
   "execution_count": 7,
   "metadata": {},
   "outputs": [
    {
     "data": {
      "text/plain": [
       "['meet', 'me', 'on', 'the', 'darkest', 'sea', 'of', 'dead', 'stars']"
      ]
     },
     "execution_count": 7,
     "metadata": {},
     "output_type": "execute_result"
    }
   ],
   "source": [
    "# get tokens for id\n",
    "i = 0\n",
    "item = next(x for x in data if x['id'] == i)\n",
    "tokens = tokenize(item['text'])\n",
    "\n",
    "tokens"
   ]
  },
  {
   "cell_type": "code",
   "execution_count": 8,
   "metadata": {},
   "outputs": [
    {
     "data": {
      "text/plain": [
       "[(1, 9), (5, 6), (18, 6), (4, 4)]"
      ]
     },
     "execution_count": 8,
     "metadata": {},
     "output_type": "execute_result"
    }
   ],
   "source": [
    "c = Counter()\n",
    "for word in tokens:\n",
    "    line_ids = [\n",
    "        x for x in db[word]\n",
    "        if x != item['id']\n",
    "    ]\n",
    "    c.update(line_ids)\n",
    "    \n",
    "c.most_common(4)"
   ]
  },
  {
   "cell_type": "code",
   "execution_count": 9,
   "metadata": {},
   "outputs": [
    {
     "data": {
      "text/plain": [
       "[1, 5, 18, 4]"
      ]
     },
     "execution_count": 9,
     "metadata": {},
     "output_type": "execute_result"
    }
   ],
   "source": [
    "ids = [x[0] for x in c.most_common(4)]\n",
    "ids"
   ]
  },
  {
   "cell_type": "code",
   "execution_count": 10,
   "metadata": {},
   "outputs": [
    {
     "data": {
      "text/html": [
       "<div>\n",
       "<style scoped>\n",
       "    .dataframe tbody tr th:only-of-type {\n",
       "        vertical-align: middle;\n",
       "    }\n",
       "\n",
       "    .dataframe tbody tr th {\n",
       "        vertical-align: top;\n",
       "    }\n",
       "\n",
       "    .dataframe thead th {\n",
       "        text-align: right;\n",
       "    }\n",
       "</style>\n",
       "<table border=\"1\" class=\"dataframe\">\n",
       "  <thead>\n",
       "    <tr style=\"text-align: right;\">\n",
       "      <th></th>\n",
       "      <th>line</th>\n",
       "      <th>poem</th>\n",
       "      <th>text</th>\n",
       "    </tr>\n",
       "    <tr>\n",
       "      <th>id</th>\n",
       "      <th></th>\n",
       "      <th></th>\n",
       "      <th></th>\n",
       "    </tr>\n",
       "  </thead>\n",
       "  <tbody>\n",
       "    <tr>\n",
       "      <th>1</th>\n",
       "      <td>1</td>\n",
       "      <td>sample1</td>\n",
       "      <td>meet me on the darkest sea of dead stars</td>\n",
       "    </tr>\n",
       "    <tr>\n",
       "      <th>5</th>\n",
       "      <td>5</td>\n",
       "      <td>sample1</td>\n",
       "      <td>sea of dead waves when my skin meet me stars</td>\n",
       "    </tr>\n",
       "    <tr>\n",
       "      <th>18</th>\n",
       "      <td>18</td>\n",
       "      <td>sample1</td>\n",
       "      <td>on the darkest sea of dead abstraction</td>\n",
       "    </tr>\n",
       "    <tr>\n",
       "      <th>4</th>\n",
       "      <td>4</td>\n",
       "      <td>sample1</td>\n",
       "      <td>i’ll remember the burn on the darkest</td>\n",
       "    </tr>\n",
       "  </tbody>\n",
       "</table>\n",
       "</div>"
      ],
      "text/plain": [
       "    line     poem                                          text\n",
       "id                                                             \n",
       "1      1  sample1      meet me on the darkest sea of dead stars\n",
       "5      5  sample1  sea of dead waves when my skin meet me stars\n",
       "18    18  sample1        on the darkest sea of dead abstraction\n",
       "4      4  sample1         i’ll remember the burn on the darkest"
      ]
     },
     "execution_count": 10,
     "metadata": {},
     "output_type": "execute_result"
    }
   ],
   "source": [
    "df.loc[ids]"
   ]
  },
  {
   "cell_type": "code",
   "execution_count": null,
   "metadata": {},
   "outputs": [],
   "source": []
  },
  {
   "cell_type": "code",
   "execution_count": null,
   "metadata": {},
   "outputs": [],
   "source": []
  },
  {
   "cell_type": "code",
   "execution_count": null,
   "metadata": {},
   "outputs": [],
   "source": []
  },
  {
   "cell_type": "code",
   "execution_count": null,
   "metadata": {},
   "outputs": [],
   "source": []
  },
  {
   "cell_type": "code",
   "execution_count": null,
   "metadata": {},
   "outputs": [],
   "source": []
  },
  {
   "cell_type": "markdown",
   "metadata": {},
   "source": [
    "## Real Data"
   ]
  },
  {
   "cell_type": "code",
   "execution_count": 35,
   "metadata": {},
   "outputs": [],
   "source": [
    "import pickle"
   ]
  },
  {
   "cell_type": "code",
   "execution_count": 22,
   "metadata": {},
   "outputs": [
    {
     "name": "stdout",
     "output_type": "stream",
     "text": [
      "53,898\n"
     ]
    }
   ],
   "source": [
    "a = load_archive()\n",
    "print(f\"{len(a):,}\")"
   ]
  },
  {
   "cell_type": "code",
   "execution_count": 23,
   "metadata": {},
   "outputs": [
    {
     "name": "stderr",
     "output_type": "stream",
     "text": [
      "100%|██████████| 53898/53898 [05:42<00:00, 157.29it/s]  \n"
     ]
    }
   ],
   "source": [
    "my_data = load_all(a)"
   ]
  },
  {
   "cell_type": "code",
   "execution_count": 25,
   "metadata": {},
   "outputs": [
    {
     "name": "stdout",
     "output_type": "stream",
     "text": [
      "21,234,158\n"
     ]
    }
   ],
   "source": [
    "L = len(my_data)\n",
    "print(f\"{L:,}\")"
   ]
  },
  {
   "cell_type": "code",
   "execution_count": 34,
   "metadata": {},
   "outputs": [],
   "source": [
    "with open('test.pickle', \"wb\") as file:\n",
    "    pickle.dump(my_data, file)"
   ]
  }
 ],
 "metadata": {
  "kernelspec": {
   "display_name": "Python 3",
   "language": "python",
   "name": "python3"
  },
  "language_info": {
   "codemirror_mode": {
    "name": "ipython",
    "version": 3
   },
   "file_extension": ".py",
   "mimetype": "text/x-python",
   "name": "python",
   "nbconvert_exporter": "python",
   "pygments_lexer": "ipython3",
   "version": "3.7.3"
  }
 },
 "nbformat": 4,
 "nbformat_minor": 4
}
